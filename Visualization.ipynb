{
 "cells": [
  {
   "cell_type": "code",
   "execution_count": null,
   "metadata": {
    "collapsed": true
   },
   "outputs": [],
   "source": [
    "# Predict sales price of houses, evaluation is RMSE( logPred-logReal )"
   ]
  },
  {
   "cell_type": "code",
   "execution_count": 1,
   "metadata": {
    "collapsed": false
   },
   "outputs": [],
   "source": [
    "import numpy as np\n",
    "import pandas as pd\n",
    "import seaborn as sns\n",
    "\n",
    "import matplotlib.pyplot as plt\n",
    "\n",
    "import remap_values as rv"
   ]
  },
  {
   "cell_type": "code",
   "execution_count": 2,
   "metadata": {
    "collapsed": true
   },
   "outputs": [],
   "source": [
    "inp_df = pd.read_csv( \"inp_data/train.csv\" )"
   ]
  },
  {
   "cell_type": "code",
   "execution_count": 3,
   "metadata": {
    "collapsed": false
   },
   "outputs": [],
   "source": [
    "from sklearn.utils import shuffle\n",
    "inp_df = shuffle( inp_df )"
   ]
  },
  {
   "cell_type": "code",
   "execution_count": 4,
   "metadata": {
    "collapsed": false,
    "scrolled": true
   },
   "outputs": [],
   "source": [
    "qual_df = rv.remap_quality( inp_df )\n",
    "home_df = rv.remap_home(    inp_df )\n",
    "area_df = rv.remap_area(    inp_df )\n",
    "road_df = rv.remap_road(    inp_df )\n",
    "land_df = rv.remap_land(    inp_df )"
   ]
  },
  {
   "cell_type": "code",
   "execution_count": 13,
   "metadata": {
    "collapsed": false
   },
   "outputs": [],
   "source": [
    "plot_df = area_df[['Neighborhood', 'SaleType',\n",
    "       'SaleCondition', 'Condition']]\n",
    "g = sns.pairplot( plot_df.join( inp_df['SalePrice'] )[:200] )\n",
    "plt.show()"
   ]
  },
  {
   "cell_type": "code",
   "execution_count": null,
   "metadata": {
    "collapsed": true
   },
   "outputs": [],
   "source": [
    "#InsideSF, OutsideSF, GarageArea, LotFrontage, LotArea"
   ]
  },
  {
   "cell_type": "code",
   "execution_count": 5,
   "metadata": {
    "collapsed": true
   },
   "outputs": [],
   "source": [
    "my_df = qual_df.join( home_df ).join( area_df ).join( road_df ).join( land_df ).join( np.log10(inp_df['SalePrice'])).copy()"
   ]
  },
  {
   "cell_type": "code",
   "execution_count": 6,
   "metadata": {
    "collapsed": true
   },
   "outputs": [],
   "source": [
    "myCols = my_df.columns.values"
   ]
  },
  {
   "cell_type": "code",
   "execution_count": 7,
   "metadata": {
    "collapsed": false
   },
   "outputs": [
    {
     "name": "stdout",
     "output_type": "stream",
     "text": [
      "ExterQual\n",
      "FireplaceQu\n",
      "KitchenQual\n",
      "RoofStyle\n",
      "BsmtQual\n",
      "ExterCond\n",
      "HeatingQC\n",
      "Exterior1st\n",
      "Exterior2nd\n",
      "MasVnrType\n",
      "Bsmt\n",
      "BsmtFinType1\n",
      "BsmtFinType2\n",
      "Electrical\n",
      "GarageFinish\n",
      "Fence\n",
      "KitchenAbvGr\n",
      "TotRmsAbvGrd\n",
      "Fireplaces\n",
      "InsideSF\n",
      "OutsideSF\n",
      "MultiStory\n",
      "NBath\n",
      "BldgType\n",
      "HouseStyle\n",
      "CentralAir\n",
      "GarageType\n",
      "GarageArea\n",
      "MiscFeature\n",
      "YrSold\n",
      "MSSubClass\n",
      "MSZoning\n",
      "Neighborhood\n",
      "SaleType\n",
      "SaleCondition\n",
      "Condition\n",
      "LotFrontage\n",
      "Alley\n",
      "PavedDrive\n",
      "LotArea\n",
      "LotShape\n",
      "LandContour\n",
      "LotConfig\n",
      "LandSlope\n",
      "SalePrice\n"
     ]
    }
   ],
   "source": [
    "for col in myCols:\n",
    "    print col\n",
    "    my_df[col].plot( kind='hist', title=col, bins=20 )\n",
    "    plt.show()\n",
    "    plt.clf()"
   ]
  },
  {
   "cell_type": "code",
   "execution_count": null,
   "metadata": {
    "collapsed": true
   },
   "outputs": [],
   "source": []
  }
 ],
 "metadata": {
  "kernelspec": {
   "display_name": "Python 2",
   "language": "python",
   "name": "python2"
  },
  "language_info": {
   "codemirror_mode": {
    "name": "ipython",
    "version": 2
   },
   "file_extension": ".py",
   "mimetype": "text/x-python",
   "name": "python",
   "nbconvert_exporter": "python",
   "pygments_lexer": "ipython2",
   "version": "2.7.13"
  }
 },
 "nbformat": 4,
 "nbformat_minor": 2
}
