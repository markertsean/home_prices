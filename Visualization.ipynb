{
 "cells": [
  {
   "cell_type": "code",
   "execution_count": null,
   "metadata": {
    "collapsed": true
   },
   "outputs": [],
   "source": [
    "# Predict sales price of houses, evaluation is RMSE( logPred-logReal )"
   ]
  },
  {
   "cell_type": "code",
   "execution_count": 1,
   "metadata": {
    "collapsed": false
   },
   "outputs": [],
   "source": [
    "import numpy as np\n",
    "import pandas as pd\n",
    "import seaborn as sns\n",
    "\n",
    "import matplotlib.pyplot as plt\n",
    "\n",
    "import remap_values as rv\n",
    "\n",
    "from sklearn.utils import shuffle"
   ]
  },
  {
   "cell_type": "code",
   "execution_count": 2,
   "metadata": {
    "collapsed": true
   },
   "outputs": [],
   "source": [
    "inp_df = pd.read_csv( \"inp_data/train.csv\" )\n",
    "inp_df = shuffle( inp_df )"
   ]
  },
  {
   "cell_type": "code",
   "execution_count": 29,
   "metadata": {
    "collapsed": false
   },
   "outputs": [
    {
     "data": {
      "text/plain": [
       "<module 'remap_values' from 'remap_values.py'>"
      ]
     },
     "execution_count": 29,
     "metadata": {},
     "output_type": "execute_result"
    }
   ],
   "source": [
    "reload(rv)"
   ]
  },
  {
   "cell_type": "code",
   "execution_count": 5,
   "metadata": {
    "collapsed": false
   },
   "outputs": [],
   "source": [
    "my_df = rv.run_clean( inp_df, train=True, warp=False )"
   ]
  },
  {
   "cell_type": "code",
   "execution_count": 9,
   "metadata": {
    "collapsed": true
   },
   "outputs": [],
   "source": [
    "cont_df = my_df[['InsideSF','OutsideSF','GarageArea','LotFrontage','LotArea','NBath','SalePrice']].copy()"
   ]
  },
  {
   "cell_type": "code",
   "execution_count": 28,
   "metadata": {
    "collapsed": true
   },
   "outputs": [
    {
     "data": {
      "text/html": [
       "<div>\n",
       "<table border=\"1\" class=\"dataframe\">\n",
       "  <thead>\n",
       "    <tr style=\"text-align: right;\">\n",
       "      <th></th>\n",
       "      <th>InsideSF</th>\n",
       "      <th>OutsideSF</th>\n",
       "      <th>GarageArea</th>\n",
       "      <th>LotFrontage</th>\n",
       "      <th>LotArea</th>\n",
       "      <th>NBath</th>\n",
       "      <th>SalePrice</th>\n",
       "    </tr>\n",
       "  </thead>\n",
       "  <tbody>\n",
       "    <tr>\n",
       "      <th>InsideSF</th>\n",
       "      <td>1.000000</td>\n",
       "      <td>0.360582</td>\n",
       "      <td>0.468214</td>\n",
       "      <td>0.239149</td>\n",
       "      <td>0.449022</td>\n",
       "      <td>0.626493</td>\n",
       "      <td>0.731317</td>\n",
       "    </tr>\n",
       "    <tr>\n",
       "      <th>OutsideSF</th>\n",
       "      <td>0.360582</td>\n",
       "      <td>1.000000</td>\n",
       "      <td>0.279702</td>\n",
       "      <td>0.072299</td>\n",
       "      <td>0.246615</td>\n",
       "      <td>0.324601</td>\n",
       "      <td>0.425249</td>\n",
       "    </tr>\n",
       "    <tr>\n",
       "      <th>GarageArea</th>\n",
       "      <td>0.468214</td>\n",
       "      <td>0.279702</td>\n",
       "      <td>1.000000</td>\n",
       "      <td>0.261860</td>\n",
       "      <td>0.367169</td>\n",
       "      <td>0.458502</td>\n",
       "      <td>0.649396</td>\n",
       "    </tr>\n",
       "    <tr>\n",
       "      <th>LotFrontage</th>\n",
       "      <td>0.239149</td>\n",
       "      <td>0.072299</td>\n",
       "      <td>0.261860</td>\n",
       "      <td>1.000000</td>\n",
       "      <td>0.340773</td>\n",
       "      <td>0.104520</td>\n",
       "      <td>0.238505</td>\n",
       "    </tr>\n",
       "    <tr>\n",
       "      <th>LotArea</th>\n",
       "      <td>0.449022</td>\n",
       "      <td>0.246615</td>\n",
       "      <td>0.367169</td>\n",
       "      <td>0.340773</td>\n",
       "      <td>1.000000</td>\n",
       "      <td>0.284630</td>\n",
       "      <td>0.456446</td>\n",
       "    </tr>\n",
       "    <tr>\n",
       "      <th>NBath</th>\n",
       "      <td>0.626493</td>\n",
       "      <td>0.324601</td>\n",
       "      <td>0.458502</td>\n",
       "      <td>0.104520</td>\n",
       "      <td>0.284630</td>\n",
       "      <td>1.000000</td>\n",
       "      <td>0.691353</td>\n",
       "    </tr>\n",
       "    <tr>\n",
       "      <th>SalePrice</th>\n",
       "      <td>0.731317</td>\n",
       "      <td>0.425249</td>\n",
       "      <td>0.649396</td>\n",
       "      <td>0.238505</td>\n",
       "      <td>0.456446</td>\n",
       "      <td>0.691353</td>\n",
       "      <td>1.000000</td>\n",
       "    </tr>\n",
       "  </tbody>\n",
       "</table>\n",
       "</div>"
      ],
      "text/plain": [
       "             InsideSF  OutsideSF  GarageArea  LotFrontage   LotArea     NBath  \\\n",
       "InsideSF     1.000000   0.360582    0.468214     0.239149  0.449022  0.626493   \n",
       "OutsideSF    0.360582   1.000000    0.279702     0.072299  0.246615  0.324601   \n",
       "GarageArea   0.468214   0.279702    1.000000     0.261860  0.367169  0.458502   \n",
       "LotFrontage  0.239149   0.072299    0.261860     1.000000  0.340773  0.104520   \n",
       "LotArea      0.449022   0.246615    0.367169     0.340773  1.000000  0.284630   \n",
       "NBath        0.626493   0.324601    0.458502     0.104520  0.284630  1.000000   \n",
       "SalePrice    0.731317   0.425249    0.649396     0.238505  0.456446  0.691353   \n",
       "\n",
       "             SalePrice  \n",
       "InsideSF      0.731317  \n",
       "OutsideSF     0.425249  \n",
       "GarageArea    0.649396  \n",
       "LotFrontage   0.238505  \n",
       "LotArea       0.456446  \n",
       "NBath         0.691353  \n",
       "SalePrice     1.000000  "
      ]
     },
     "execution_count": 28,
     "metadata": {},
     "output_type": "execute_result"
    }
   ],
   "source": [
    "cont_df.corr(method='spearman')"
   ]
  },
  {
   "cell_type": "code",
   "execution_count": 26,
   "metadata": {
    "collapsed": true
   },
   "outputs": [
    {
     "data": {
      "text/html": [
       "<div>\n",
       "<table border=\"1\" class=\"dataframe\">\n",
       "  <thead>\n",
       "    <tr style=\"text-align: right;\">\n",
       "      <th></th>\n",
       "      <th>SalePrice</th>\n",
       "    </tr>\n",
       "  </thead>\n",
       "  <tbody>\n",
       "    <tr>\n",
       "      <th>LotFrontage</th>\n",
       "      <td>0.181722</td>\n",
       "    </tr>\n",
       "    <tr>\n",
       "      <th>OutsideSF</th>\n",
       "      <td>0.375169</td>\n",
       "    </tr>\n",
       "    <tr>\n",
       "      <th>LotArea</th>\n",
       "      <td>0.403180</td>\n",
       "    </tr>\n",
       "    <tr>\n",
       "      <th>GarageArea</th>\n",
       "      <td>0.659068</td>\n",
       "    </tr>\n",
       "    <tr>\n",
       "      <th>NBath</th>\n",
       "      <td>0.662478</td>\n",
       "    </tr>\n",
       "    <tr>\n",
       "      <th>InsideSF</th>\n",
       "      <td>0.730188</td>\n",
       "    </tr>\n",
       "  </tbody>\n",
       "</table>\n",
       "</div>"
      ],
      "text/plain": [
       "             SalePrice\n",
       "LotFrontage   0.181722\n",
       "OutsideSF     0.375169\n",
       "LotArea       0.403180\n",
       "GarageArea    0.659068\n",
       "NBath         0.662478\n",
       "InsideSF      0.730188"
      ]
     },
     "execution_count": 26,
     "metadata": {},
     "output_type": "execute_result"
    }
   ],
   "source": [
    "focus_col = ['SalePrice']\n",
    "cont_df.corr().filter( focus_col ).drop( focus_col ).sort_values('SalePrice')"
   ]
  },
  {
   "cell_type": "code",
   "execution_count": null,
   "metadata": {
    "collapsed": true
   },
   "outputs": [],
   "source": []
  },
  {
   "cell_type": "code",
   "execution_count": null,
   "metadata": {
    "collapsed": true
   },
   "outputs": [],
   "source": []
  },
  {
   "cell_type": "code",
   "execution_count": null,
   "metadata": {
    "collapsed": true
   },
   "outputs": [],
   "source": []
  },
  {
   "cell_type": "code",
   "execution_count": null,
   "metadata": {
    "collapsed": true
   },
   "outputs": [],
   "source": []
  },
  {
   "cell_type": "code",
   "execution_count": 13,
   "metadata": {
    "collapsed": false
   },
   "outputs": [],
   "source": [
    "plot_df = area_df[['Neighborhood', 'SaleType',\n",
    "       'SaleCondition', 'Condition']]\n",
    "g = sns.pairplot( plot_df.join( inp_df['SalePrice'] )[:200] )\n",
    "plt.show()"
   ]
  },
  {
   "cell_type": "code",
   "execution_count": null,
   "metadata": {
    "collapsed": true
   },
   "outputs": [],
   "source": [
    "#InsideSF, OutsideSF, GarageArea, LotFrontage, LotArea"
   ]
  },
  {
   "cell_type": "code",
   "execution_count": 6,
   "metadata": {
    "collapsed": true
   },
   "outputs": [],
   "source": [
    "myCols = my_df.columns.values"
   ]
  },
  {
   "cell_type": "code",
   "execution_count": 7,
   "metadata": {
    "collapsed": false
   },
   "outputs": [
    {
     "name": "stdout",
     "output_type": "stream",
     "text": [
      "ExterQual\n",
      "FireplaceQu\n",
      "KitchenQual\n",
      "RoofStyle\n",
      "BsmtQual\n",
      "ExterCond\n",
      "HeatingQC\n",
      "Exterior1st\n",
      "Exterior2nd\n",
      "MasVnrType\n",
      "Bsmt\n",
      "BsmtFinType1\n",
      "BsmtFinType2\n",
      "Electrical\n",
      "GarageFinish\n",
      "Fence\n",
      "KitchenAbvGr\n",
      "TotRmsAbvGrd\n",
      "Fireplaces\n",
      "InsideSF\n",
      "OutsideSF\n",
      "MultiStory\n",
      "NBath\n",
      "BldgType\n",
      "HouseStyle\n",
      "CentralAir\n",
      "GarageType\n",
      "GarageArea\n",
      "MiscFeature\n",
      "YrSold\n",
      "MSSubClass\n",
      "MSZoning\n",
      "Neighborhood\n",
      "SaleType\n",
      "SaleCondition\n",
      "Condition\n",
      "LotFrontage\n",
      "Alley\n",
      "PavedDrive\n",
      "LotArea\n",
      "LotShape\n",
      "LandContour\n",
      "LotConfig\n",
      "LandSlope\n",
      "SalePrice\n"
     ]
    }
   ],
   "source": [
    "for col in myCols:\n",
    "    print col\n",
    "    my_df[col].plot( kind='hist', title=col, bins=20 )\n",
    "    plt.show()\n",
    "    plt.clf()"
   ]
  },
  {
   "cell_type": "code",
   "execution_count": null,
   "metadata": {
    "collapsed": true
   },
   "outputs": [],
   "source": []
  }
 ],
 "metadata": {
  "kernelspec": {
   "display_name": "Python 2",
   "language": "python",
   "name": "python2"
  },
  "language_info": {
   "codemirror_mode": {
    "name": "ipython",
    "version": 2
   },
   "file_extension": ".py",
   "mimetype": "text/x-python",
   "name": "python",
   "nbconvert_exporter": "python",
   "pygments_lexer": "ipython2",
   "version": "2.7.13"
  }
 },
 "nbformat": 4,
 "nbformat_minor": 2
}
