{
 "cells": [
  {
   "cell_type": "code",
   "execution_count": 1,
   "metadata": {
    "collapsed": true
   },
   "outputs": [],
   "source": [
    "import numpy as np\n",
    "import pandas as pd\n",
    "import seaborn as sns\n",
    "\n",
    "import matplotlib.pyplot as plt\n",
    "\n",
    "import remap_values as rv\n",
    "import good_plots   as gp\n",
    "\n",
    "import cPickle"
   ]
  },
  {
   "cell_type": "code",
   "execution_count": 75,
   "metadata": {
    "collapsed": false,
    "scrolled": false
   },
   "outputs": [
    {
     "data": {
      "text/plain": [
       "<module 'remap_values' from 'remap_values.py'>"
      ]
     },
     "execution_count": 75,
     "metadata": {},
     "output_type": "execute_result"
    }
   ],
   "source": [
    "reload( rv )"
   ]
  },
  {
   "cell_type": "code",
   "execution_count": 76,
   "metadata": {
    "collapsed": false,
    "scrolled": true
   },
   "outputs": [
    {
     "name": "stdout",
     "output_type": "stream",
     "text": [
      "(1459, 80)\n",
      "(1459, 125)\n"
     ]
    }
   ],
   "source": [
    "train_df = pd.read_csv('inp_data/train.csv')\n",
    "test_df  = pd.read_csv('inp_data/test.csv')\n",
    "\n",
    "\n",
    "train_df, test_df = rv.run_tan( train_df, test_df )"
   ]
  },
  {
   "cell_type": "code",
   "execution_count": 77,
   "metadata": {
    "collapsed": false
   },
   "outputs": [],
   "source": [
    "train_df, test_df = rv.norm_tan( train_df, test_df )\n",
    "test_df = test_df.drop( 'SalePrice', axis=1 )"
   ]
  },
  {
   "cell_type": "code",
   "execution_count": 4,
   "metadata": {
    "collapsed": true
   },
   "outputs": [],
   "source": [
    "big_df = train_df.drop( 'SalePrice', axis=1).append( test_df, ignore_index=True)"
   ]
  },
  {
   "cell_type": "code",
   "execution_count": 78,
   "metadata": {
    "collapsed": true
   },
   "outputs": [],
   "source": [
    "test_id  = pd.read_csv('inp_data/test.csv')\n",
    "test_id  = test_id['Id']"
   ]
  },
  {
   "cell_type": "code",
   "execution_count": null,
   "metadata": {
    "collapsed": true
   },
   "outputs": [],
   "source": []
  },
  {
   "cell_type": "code",
   "execution_count": null,
   "metadata": {
    "collapsed": true
   },
   "outputs": [],
   "source": []
  },
  {
   "cell_type": "code",
   "execution_count": 41,
   "metadata": {
    "collapsed": true
   },
   "outputs": [],
   "source": [
    "#PCA?\n",
    "#Preprocess?"
   ]
  },
  {
   "cell_type": "code",
   "execution_count": 72,
   "metadata": {
    "collapsed": true
   },
   "outputs": [
    {
     "name": "stdout",
     "output_type": "stream",
     "text": [
      "SalePrice           1.000000\n",
      "OverallQual         0.817330\n",
      "AreaInside          0.737790\n",
      "GrLivArea           0.730774\n",
      "GarageCars          0.682055\n",
      "NBath               0.673584\n",
      "GarageArea          0.643516\n",
      "1stFlrSF            0.610929\n",
      "TotalBsmtSF         0.598775\n",
      "YearBuilt           0.587770\n",
      "GarageYrBlt         0.570371\n",
      "YearRemodAdd        0.565494\n",
      "TotRmsAbvGrd        0.533733\n",
      "NeighBin_4          0.500435\n",
      "Fireplaces          0.488590\n",
      "HeatingScale_4      0.466790\n",
      "HasOpenPorchSF      0.449751\n",
      "OpenPorchSF         0.441370\n",
      "BsmtFinType1_6      0.441215\n",
      "MasVnrArea          0.427440\n",
      "GarageFinish        0.420650\n",
      "MSSubClass_60       0.402279\n",
      "HasMasVnrArea       0.390396\n",
      "HasMasVnr           0.382775\n",
      "WoodDeckSF          0.359092\n",
      "LotFrontage         0.348255\n",
      "PartialPlan         0.324952\n",
      "HasWoodDeck         0.321890\n",
      "HasWoodDeckSF       0.321890\n",
      "RecentRemodel       0.306601\n",
      "                      ...   \n",
      "MSSubClass_180     -0.108638\n",
      "MSSubClass_160     -0.115261\n",
      "MSSubClass_90      -0.116957\n",
      "HeatingScale_3     -0.125500\n",
      "Fence_1            -0.128429\n",
      "BsmtFinType1_4     -0.131129\n",
      "BsmtFinType1_3     -0.135617\n",
      "KitchenAbvGr       -0.147505\n",
      "NeighBin_0         -0.149396\n",
      "Fence_2            -0.152367\n",
      "Alley_2.0          -0.165368\n",
      "MSSubClass_50      -0.173466\n",
      "HeatingScale_1     -0.180610\n",
      "EnclosedPorch      -0.186542\n",
      "NewerDwelling_2    -0.188447\n",
      "BsmtFinType2_0     -0.191339\n",
      "BsmtExposure_0     -0.195532\n",
      "BsmtFinType1_0     -0.199660\n",
      "HasEnclosedPorch   -0.216112\n",
      "BsmtExposure_1     -0.236376\n",
      "Foundation_0       -0.248069\n",
      "MSSubClass_30      -0.329296\n",
      "HeatingScale_2     -0.336485\n",
      "NewerDwelling_1    -0.347463\n",
      "GarageType         -0.388661\n",
      "NeighBin_1         -0.509393\n",
      "YearSinceRemodel   -0.568061\n",
      "Age                -0.587770\n",
      "Functional_0             NaN\n",
      "MSSubClass_150           NaN\n",
      "dtype: float64\n"
     ]
    }
   ],
   "source": [
    "corr_series = train_df.corrwith( train_df['SalePrice'] ).sort_values( ascending=False )\n",
    "print corr_series"
   ]
  },
  {
   "cell_type": "code",
   "execution_count": 179,
   "metadata": {
    "collapsed": true
   },
   "outputs": [
    {
     "name": "stdout",
     "output_type": "stream",
     "text": [
      "SalePrice           1.000000\n",
      "OverallQual         0.800837\n",
      "AreaInside          0.729597\n",
      "GrLivArea           0.720194\n",
      "GarageCars          0.650456\n",
      "TotalBsmtSF         0.647040\n",
      "GarageArea          0.638182\n",
      "NBath               0.636585\n",
      "1stFlrSF            0.626261\n",
      "NeighBin_4          0.574917\n",
      "TotRmsAbvGrd        0.536751\n",
      "YearBuilt           0.536327\n",
      "YearRemodAdd        0.521238\n",
      "MasVnrArea          0.474169\n",
      "Fireplaces          0.466000\n",
      "HeatingScale_4      0.441162\n",
      "BsmtFinType1_6      0.436844\n",
      "GarageFinish        0.421054\n",
      "HasOpenPorchSF      0.420057\n",
      "BsmtFinSF1          0.396542\n",
      "HasMasVnrArea       0.380866\n",
      "MSSubClass_60       0.373993\n",
      "HasMasVnr           0.373428\n",
      "PartialPlan         0.371902\n",
      "RecentRemodel       0.355081\n",
      "LotFrontage         0.338617\n",
      "OpenPorchSF         0.330585\n",
      "WoodDeckSF          0.329092\n",
      "BsmtExposure_4      0.308133\n",
      "HasWoodDeck         0.300442\n",
      "                      ...   \n",
      "BsmtFinType1_5     -0.103088\n",
      "NewerDwelling_2    -0.114604\n",
      "Fence_1            -0.115035\n",
      "MSSubClass_160     -0.115115\n",
      "NeighBin_0         -0.115675\n",
      "MSSubClass_90      -0.116998\n",
      "EnclosedPorch      -0.129199\n",
      "BsmtFinType1_4     -0.133908\n",
      "HeatingScale_3     -0.133987\n",
      "HeatingScale_1     -0.136886\n",
      "BsmtFinType1_3     -0.137529\n",
      "KitchenAbvGr       -0.138859\n",
      "Alley_2.0          -0.142511\n",
      "BsmtFinType2_0     -0.149077\n",
      "BsmtExposure_0     -0.154221\n",
      "BsmtFinType1_0     -0.156942\n",
      "MSSubClass_50      -0.159212\n",
      "Fence_2            -0.160446\n",
      "HasEnclosedPorch   -0.185536\n",
      "Foundation_0       -0.206059\n",
      "MSSubClass_30      -0.245381\n",
      "BsmtExposure_1     -0.261790\n",
      "NewerDwelling_1    -0.294733\n",
      "HeatingScale_2     -0.318948\n",
      "GarageType         -0.361627\n",
      "NeighBin_1         -0.436482\n",
      "YearSinceRemodel   -0.522929\n",
      "Age                -0.536327\n",
      "Functional_0             NaN\n",
      "MSSubClass_150           NaN\n",
      "dtype: float64\n"
     ]
    }
   ],
   "source": [
    "corr_series = train_df.corrwith( train_df['SalePrice'] ).sort_values( ascending=False )\n",
    "print corr_series"
   ]
  },
  {
   "cell_type": "code",
   "execution_count": 180,
   "metadata": {
    "collapsed": true
   },
   "outputs": [
    {
     "name": "stdout",
     "output_type": "stream",
     "text": [
      "1stFlrSF 3228\n",
      "2ndFlrSF 1818\n",
      "3SsnPorch 508\n",
      "Age 138\n",
      "AreaInside 3627\n",
      "BedroomAbvGr 8\n",
      "BsmtFinSF1 2188.0\n",
      "BsmtFinSF2 1474.0\n",
      "BsmtUnfSF 2336.0\n",
      "EnclosedPorch 552\n",
      "Fireplaces 3\n",
      "GarageArea 1390.0\n",
      "GarageCars 4.0\n",
      "GarageYrBlt 2010.0\n",
      "GrLivArea 3627\n",
      "Id 1456\n",
      "KitchenAbvGr 3\n",
      "LotArea 215245\n",
      "LotFrontage 313.0\n",
      "LowQualFinSF 572\n",
      "MSSubClass 190\n",
      "MasVnrArea 1600.0\n",
      "MiscVal 15500\n",
      "MoSold 12\n",
      "NBath 6.0\n",
      "OpenPorchSF 547\n",
      "OverallCond 9\n",
      "OverallQual 10\n",
      "PoolArea 738\n",
      "SalePrice 625000\n",
      "ScreenPorch 480\n",
      "TimeSinceSold 4\n",
      "TotRmsAbvGrd 14\n",
      "TotalBsmtSF 3206.0\n",
      "WoodDeckSF 857\n",
      "YearBuilt 2010\n",
      "YearRemodAdd 2010\n",
      "YearSinceRemodel 60\n",
      "YrSold 2010\n"
     ]
    }
   ],
   "source": [
    "col_list   = big_df.columns.values\n",
    "large_list = []\n",
    "for col in col_list:\n",
    "    if ( big_df[col].unique().shape[0] > 2 ):\n",
    "        print col, train_df[col].max()"
   ]
  },
  {
   "cell_type": "code",
   "execution_count": 181,
   "metadata": {
    "collapsed": true
   },
   "outputs": [
    {
     "name": "stdout",
     "output_type": "stream",
     "text": [
      "Alley_0.0 1\n",
      "Alley_1.0 1\n",
      "Alley_2.0 1\n",
      "BsmtExposure_0 1\n",
      "BsmtExposure_1 1\n",
      "BsmtExposure_2 1\n",
      "BsmtExposure_3 1\n",
      "BsmtExposure_4 1\n",
      "BsmtFinType1_0 1\n",
      "BsmtFinType1_1 1\n",
      "BsmtFinType1_2 1\n",
      "BsmtFinType1_3 1\n",
      "BsmtFinType1_4 1\n",
      "BsmtFinType1_5 1\n",
      "BsmtFinType1_6 1\n",
      "BsmtFinType2_0 1\n",
      "BsmtFinType2_1 1\n",
      "BsmtFinType2_2 1\n",
      "BsmtFinType2_3 1\n",
      "BsmtFinType2_4 1\n",
      "BsmtFinType2_5 1\n",
      "BsmtFinType2_6 1\n",
      "Electrical 1\n",
      "Fence_0 1\n",
      "Fence_1 1\n",
      "Fence_2 1\n",
      "Fence_4 1\n",
      "Foundation_0 1\n",
      "Foundation_1 1\n",
      "Foundation_2 1\n",
      "Functional_0 0\n",
      "Functional_2 1\n",
      "Functional_3 1\n",
      "Functional_4 1\n",
      "Functional_5 1\n",
      "Functional_6 1\n",
      "Functional_7 1\n",
      "Functional_8 1\n",
      "GarageFinish 1\n",
      "GarageType 1\n",
      "Has2ndFlr 1\n",
      "Has2ndFlrSF 1\n",
      "Has3SsnPorch 1\n",
      "HasEnclosedPorch 1\n",
      "HasMasVnr 1\n",
      "HasMasVnrArea 1\n",
      "HasOpenPorchSF 1\n",
      "HasScreenPorch 1\n",
      "HasWoodDeck 1\n",
      "HasWoodDeckSF 1\n",
      "HeatingScale_0 1\n",
      "HeatingScale_1 1\n",
      "HeatingScale_2 1\n",
      "HeatingScale_3 1\n",
      "HeatingScale_4 1\n",
      "HighSeason 1\n",
      "LandSlope 1\n",
      "LotConfig_0 1\n",
      "LotConfig_1 1\n",
      "LotConfig_2 1\n",
      "LotConfig_3 1\n",
      "LotConfig_4 1\n",
      "MSSubClass_120 1\n",
      "MSSubClass_150 0\n",
      "MSSubClass_160 1\n",
      "MSSubClass_180 1\n",
      "MSSubClass_190 1\n",
      "MSSubClass_20 1\n",
      "MSSubClass_30 1\n",
      "MSSubClass_40 1\n",
      "MSSubClass_45 1\n",
      "MSSubClass_50 1\n",
      "MSSubClass_60 1\n",
      "MSSubClass_70 1\n",
      "MSSubClass_75 1\n",
      "MSSubClass_80 1\n",
      "MSSubClass_85 1\n",
      "MSSubClass_90 1\n",
      "MiscFeature 1\n",
      "NeighBin_0 1\n",
      "NeighBin_1 1\n",
      "NeighBin_2 1\n",
      "NeighBin_3 1\n",
      "NeighBin_4 1\n",
      "NewHouse 1\n",
      "NewerDwelling_0 1\n",
      "NewerDwelling_1 1\n",
      "NewerDwelling_2 1\n",
      "NewerDwelling_3 1\n",
      "NewerDwelling_4 1\n",
      "PartialPlan 1\n",
      "PavedDrive 1\n",
      "RecentRemodel 1\n",
      "Remodeled 1\n",
      "Street 1\n"
     ]
    }
   ],
   "source": [
    "col_list   = big_df.columns.values\n",
    "large_list = []\n",
    "for col in col_list:\n",
    "    if ( big_df[col].unique().shape[0] < 3 ):\n",
    "        print col, train_df[col].max()"
   ]
  },
  {
   "cell_type": "code",
   "execution_count": null,
   "metadata": {
    "collapsed": true
   },
   "outputs": [],
   "source": []
  },
  {
   "cell_type": "code",
   "execution_count": null,
   "metadata": {
    "collapsed": true
   },
   "outputs": [],
   "source": []
  },
  {
   "cell_type": "code",
   "execution_count": 182,
   "metadata": {
    "collapsed": true
   },
   "outputs": [],
   "source": [
    "invest = 'PoolQC'"
   ]
  },
  {
   "cell_type": "code",
   "execution_count": 183,
   "metadata": {
    "collapsed": true
   },
   "outputs": [
    {
     "ename": "KeyError",
     "evalue": "'PoolQC'",
     "output_type": "error",
     "traceback": [
      "\u001b[0;31m---------------------------------------------------------------------------\u001b[0m",
      "\u001b[0;31mKeyError\u001b[0m                                  Traceback (most recent call last)",
      "\u001b[0;32m<ipython-input-183-c3f14ec268a3>\u001b[0m in \u001b[0;36m<module>\u001b[0;34m()\u001b[0m\n\u001b[0;32m----> 1\u001b[0;31m \u001b[0mbig_df\u001b[0m\u001b[0;34m[\u001b[0m\u001b[0minvest\u001b[0m\u001b[0;34m]\u001b[0m\u001b[0;34m.\u001b[0m\u001b[0munique\u001b[0m\u001b[0;34m(\u001b[0m\u001b[0;34m)\u001b[0m\u001b[0;34m\u001b[0m\u001b[0m\n\u001b[0m",
      "\u001b[0;32m/home/sean/anaconda/lib/python2.7/site-packages/pandas/core/frame.pyc\u001b[0m in \u001b[0;36m__getitem__\u001b[0;34m(self, key)\u001b[0m\n\u001b[1;32m   2057\u001b[0m             \u001b[0;32mreturn\u001b[0m \u001b[0mself\u001b[0m\u001b[0;34m.\u001b[0m\u001b[0m_getitem_multilevel\u001b[0m\u001b[0;34m(\u001b[0m\u001b[0mkey\u001b[0m\u001b[0;34m)\u001b[0m\u001b[0;34m\u001b[0m\u001b[0m\n\u001b[1;32m   2058\u001b[0m         \u001b[0;32melse\u001b[0m\u001b[0;34m:\u001b[0m\u001b[0;34m\u001b[0m\u001b[0m\n\u001b[0;32m-> 2059\u001b[0;31m             \u001b[0;32mreturn\u001b[0m \u001b[0mself\u001b[0m\u001b[0;34m.\u001b[0m\u001b[0m_getitem_column\u001b[0m\u001b[0;34m(\u001b[0m\u001b[0mkey\u001b[0m\u001b[0;34m)\u001b[0m\u001b[0;34m\u001b[0m\u001b[0m\n\u001b[0m\u001b[1;32m   2060\u001b[0m \u001b[0;34m\u001b[0m\u001b[0m\n\u001b[1;32m   2061\u001b[0m     \u001b[0;32mdef\u001b[0m \u001b[0m_getitem_column\u001b[0m\u001b[0;34m(\u001b[0m\u001b[0mself\u001b[0m\u001b[0;34m,\u001b[0m \u001b[0mkey\u001b[0m\u001b[0;34m)\u001b[0m\u001b[0;34m:\u001b[0m\u001b[0;34m\u001b[0m\u001b[0m\n",
      "\u001b[0;32m/home/sean/anaconda/lib/python2.7/site-packages/pandas/core/frame.pyc\u001b[0m in \u001b[0;36m_getitem_column\u001b[0;34m(self, key)\u001b[0m\n\u001b[1;32m   2064\u001b[0m         \u001b[0;31m# get column\u001b[0m\u001b[0;34m\u001b[0m\u001b[0;34m\u001b[0m\u001b[0m\n\u001b[1;32m   2065\u001b[0m         \u001b[0;32mif\u001b[0m \u001b[0mself\u001b[0m\u001b[0;34m.\u001b[0m\u001b[0mcolumns\u001b[0m\u001b[0;34m.\u001b[0m\u001b[0mis_unique\u001b[0m\u001b[0;34m:\u001b[0m\u001b[0;34m\u001b[0m\u001b[0m\n\u001b[0;32m-> 2066\u001b[0;31m             \u001b[0;32mreturn\u001b[0m \u001b[0mself\u001b[0m\u001b[0;34m.\u001b[0m\u001b[0m_get_item_cache\u001b[0m\u001b[0;34m(\u001b[0m\u001b[0mkey\u001b[0m\u001b[0;34m)\u001b[0m\u001b[0;34m\u001b[0m\u001b[0m\n\u001b[0m\u001b[1;32m   2067\u001b[0m \u001b[0;34m\u001b[0m\u001b[0m\n\u001b[1;32m   2068\u001b[0m         \u001b[0;31m# duplicate columns & possible reduce dimensionality\u001b[0m\u001b[0;34m\u001b[0m\u001b[0;34m\u001b[0m\u001b[0m\n",
      "\u001b[0;32m/home/sean/anaconda/lib/python2.7/site-packages/pandas/core/generic.pyc\u001b[0m in \u001b[0;36m_get_item_cache\u001b[0;34m(self, item)\u001b[0m\n\u001b[1;32m   1384\u001b[0m         \u001b[0mres\u001b[0m \u001b[0;34m=\u001b[0m \u001b[0mcache\u001b[0m\u001b[0;34m.\u001b[0m\u001b[0mget\u001b[0m\u001b[0;34m(\u001b[0m\u001b[0mitem\u001b[0m\u001b[0;34m)\u001b[0m\u001b[0;34m\u001b[0m\u001b[0m\n\u001b[1;32m   1385\u001b[0m         \u001b[0;32mif\u001b[0m \u001b[0mres\u001b[0m \u001b[0;32mis\u001b[0m \u001b[0mNone\u001b[0m\u001b[0;34m:\u001b[0m\u001b[0;34m\u001b[0m\u001b[0m\n\u001b[0;32m-> 1386\u001b[0;31m             \u001b[0mvalues\u001b[0m \u001b[0;34m=\u001b[0m \u001b[0mself\u001b[0m\u001b[0;34m.\u001b[0m\u001b[0m_data\u001b[0m\u001b[0;34m.\u001b[0m\u001b[0mget\u001b[0m\u001b[0;34m(\u001b[0m\u001b[0mitem\u001b[0m\u001b[0;34m)\u001b[0m\u001b[0;34m\u001b[0m\u001b[0m\n\u001b[0m\u001b[1;32m   1387\u001b[0m             \u001b[0mres\u001b[0m \u001b[0;34m=\u001b[0m \u001b[0mself\u001b[0m\u001b[0;34m.\u001b[0m\u001b[0m_box_item_values\u001b[0m\u001b[0;34m(\u001b[0m\u001b[0mitem\u001b[0m\u001b[0;34m,\u001b[0m \u001b[0mvalues\u001b[0m\u001b[0;34m)\u001b[0m\u001b[0;34m\u001b[0m\u001b[0m\n\u001b[1;32m   1388\u001b[0m             \u001b[0mcache\u001b[0m\u001b[0;34m[\u001b[0m\u001b[0mitem\u001b[0m\u001b[0;34m]\u001b[0m \u001b[0;34m=\u001b[0m \u001b[0mres\u001b[0m\u001b[0;34m\u001b[0m\u001b[0m\n",
      "\u001b[0;32m/home/sean/anaconda/lib/python2.7/site-packages/pandas/core/internals.pyc\u001b[0m in \u001b[0;36mget\u001b[0;34m(self, item, fastpath)\u001b[0m\n\u001b[1;32m   3541\u001b[0m \u001b[0;34m\u001b[0m\u001b[0m\n\u001b[1;32m   3542\u001b[0m             \u001b[0;32mif\u001b[0m \u001b[0;32mnot\u001b[0m \u001b[0misnull\u001b[0m\u001b[0;34m(\u001b[0m\u001b[0mitem\u001b[0m\u001b[0;34m)\u001b[0m\u001b[0;34m:\u001b[0m\u001b[0;34m\u001b[0m\u001b[0m\n\u001b[0;32m-> 3543\u001b[0;31m                 \u001b[0mloc\u001b[0m \u001b[0;34m=\u001b[0m \u001b[0mself\u001b[0m\u001b[0;34m.\u001b[0m\u001b[0mitems\u001b[0m\u001b[0;34m.\u001b[0m\u001b[0mget_loc\u001b[0m\u001b[0;34m(\u001b[0m\u001b[0mitem\u001b[0m\u001b[0;34m)\u001b[0m\u001b[0;34m\u001b[0m\u001b[0m\n\u001b[0m\u001b[1;32m   3544\u001b[0m             \u001b[0;32melse\u001b[0m\u001b[0;34m:\u001b[0m\u001b[0;34m\u001b[0m\u001b[0m\n\u001b[1;32m   3545\u001b[0m                 \u001b[0mindexer\u001b[0m \u001b[0;34m=\u001b[0m \u001b[0mnp\u001b[0m\u001b[0;34m.\u001b[0m\u001b[0marange\u001b[0m\u001b[0;34m(\u001b[0m\u001b[0mlen\u001b[0m\u001b[0;34m(\u001b[0m\u001b[0mself\u001b[0m\u001b[0;34m.\u001b[0m\u001b[0mitems\u001b[0m\u001b[0;34m)\u001b[0m\u001b[0;34m)\u001b[0m\u001b[0;34m[\u001b[0m\u001b[0misnull\u001b[0m\u001b[0;34m(\u001b[0m\u001b[0mself\u001b[0m\u001b[0;34m.\u001b[0m\u001b[0mitems\u001b[0m\u001b[0;34m)\u001b[0m\u001b[0;34m]\u001b[0m\u001b[0;34m\u001b[0m\u001b[0m\n",
      "\u001b[0;32m/home/sean/anaconda/lib/python2.7/site-packages/pandas/indexes/base.pyc\u001b[0m in \u001b[0;36mget_loc\u001b[0;34m(self, key, method, tolerance)\u001b[0m\n\u001b[1;32m   2134\u001b[0m                 \u001b[0;32mreturn\u001b[0m \u001b[0mself\u001b[0m\u001b[0;34m.\u001b[0m\u001b[0m_engine\u001b[0m\u001b[0;34m.\u001b[0m\u001b[0mget_loc\u001b[0m\u001b[0;34m(\u001b[0m\u001b[0mkey\u001b[0m\u001b[0;34m)\u001b[0m\u001b[0;34m\u001b[0m\u001b[0m\n\u001b[1;32m   2135\u001b[0m             \u001b[0;32mexcept\u001b[0m \u001b[0mKeyError\u001b[0m\u001b[0;34m:\u001b[0m\u001b[0;34m\u001b[0m\u001b[0m\n\u001b[0;32m-> 2136\u001b[0;31m                 \u001b[0;32mreturn\u001b[0m \u001b[0mself\u001b[0m\u001b[0;34m.\u001b[0m\u001b[0m_engine\u001b[0m\u001b[0;34m.\u001b[0m\u001b[0mget_loc\u001b[0m\u001b[0;34m(\u001b[0m\u001b[0mself\u001b[0m\u001b[0;34m.\u001b[0m\u001b[0m_maybe_cast_indexer\u001b[0m\u001b[0;34m(\u001b[0m\u001b[0mkey\u001b[0m\u001b[0;34m)\u001b[0m\u001b[0;34m)\u001b[0m\u001b[0;34m\u001b[0m\u001b[0m\n\u001b[0m\u001b[1;32m   2137\u001b[0m \u001b[0;34m\u001b[0m\u001b[0m\n\u001b[1;32m   2138\u001b[0m         \u001b[0mindexer\u001b[0m \u001b[0;34m=\u001b[0m \u001b[0mself\u001b[0m\u001b[0;34m.\u001b[0m\u001b[0mget_indexer\u001b[0m\u001b[0;34m(\u001b[0m\u001b[0;34m[\u001b[0m\u001b[0mkey\u001b[0m\u001b[0;34m]\u001b[0m\u001b[0;34m,\u001b[0m \u001b[0mmethod\u001b[0m\u001b[0;34m=\u001b[0m\u001b[0mmethod\u001b[0m\u001b[0;34m,\u001b[0m \u001b[0mtolerance\u001b[0m\u001b[0;34m=\u001b[0m\u001b[0mtolerance\u001b[0m\u001b[0;34m)\u001b[0m\u001b[0;34m\u001b[0m\u001b[0m\n",
      "\u001b[0;32mpandas/index.pyx\u001b[0m in \u001b[0;36mpandas.index.IndexEngine.get_loc (pandas/index.c:4433)\u001b[0;34m()\u001b[0m\n",
      "\u001b[0;32mpandas/index.pyx\u001b[0m in \u001b[0;36mpandas.index.IndexEngine.get_loc (pandas/index.c:4279)\u001b[0;34m()\u001b[0m\n",
      "\u001b[0;32mpandas/src/hashtable_class_helper.pxi\u001b[0m in \u001b[0;36mpandas.hashtable.PyObjectHashTable.get_item (pandas/hashtable.c:13742)\u001b[0;34m()\u001b[0m\n",
      "\u001b[0;32mpandas/src/hashtable_class_helper.pxi\u001b[0m in \u001b[0;36mpandas.hashtable.PyObjectHashTable.get_item (pandas/hashtable.c:13696)\u001b[0;34m()\u001b[0m\n",
      "\u001b[0;31mKeyError\u001b[0m: 'PoolQC'"
     ]
    }
   ],
   "source": [
    "big_df[invest].unique()"
   ]
  },
  {
   "cell_type": "code",
   "execution_count": 86,
   "metadata": {
    "collapsed": false
   },
   "outputs": [],
   "source": [
    "gp.plot_avg( train_df, invest, 'SalePrice' )"
   ]
  },
  {
   "cell_type": "code",
   "execution_count": 74,
   "metadata": {
    "collapsed": false
   },
   "outputs": [],
   "source": [
    "gp.hist_plot( big_df, invest )"
   ]
  },
  {
   "cell_type": "code",
   "execution_count": null,
   "metadata": {
    "collapsed": true
   },
   "outputs": [],
   "source": []
  },
  {
   "cell_type": "code",
   "execution_count": 5,
   "metadata": {
    "collapsed": true
   },
   "outputs": [],
   "source": [
    "#y_pred = (y_pred.xgb + y_pred.ridge + y_pred.lasso + y_pred.net)/4.0"
   ]
  },
  {
   "cell_type": "code",
   "execution_count": 5,
   "metadata": {
    "collapsed": true
   },
   "outputs": [],
   "source": [
    "from sklearn.utils        import shuffle\n",
    "\n",
    "from sklearn.linear_model import Ridge # alpha, fit_intercept\n",
    "from sklearn.linear_model import Lasso # alpha, fit_intercept\n",
    "from sklearn.svm          import SVR   # kernel, degree, gamma', C, epsilon\n",
    "from sklearn.linear_model import SGDRegressor\n",
    "from sklearn.kernel_ridge import KernelRidge # alpha , kernel, gamma, degree\n",
    "from sklearn.linear_model import ElasticNet\n",
    "\n",
    "from sklearn.ensemble     import AdaBoostRegressor # base_estimator, n_estimators 50d, learning_rate, loss, rand_state\n",
    "from sklearn.ensemble     import ExtraTreesRegressor # n_estimators, max_features, \n",
    "from sklearn.ensemble     import BaggingRegressor # base_estimator, n_estimators 10d, random_state\n",
    "from sklearn.ensemble     import GradientBoostingRegressor # loss ‘ls’, ‘lad’, ‘huber’, min_samples_split, max_depth, learning rate .11, n_estimators, random_state"
   ]
  },
  {
   "cell_type": "code",
   "execution_count": 6,
   "metadata": {
    "collapsed": true
   },
   "outputs": [],
   "source": [
    "train_df = shuffle( train_df )\n",
    "\n",
    "train_x = train_df.drop( 'SalePrice', axis=1).values\n",
    "train_y = train_df['SalePrice'].values"
   ]
  },
  {
   "cell_type": "code",
   "execution_count": 7,
   "metadata": {
    "collapsed": true
   },
   "outputs": [
    {
     "name": "stdout",
     "output_type": "stream",
     "text": [
      "Fold  1 accuracy: 0.8221  ,  0.9126  {'epsilon': 0.005, 'C': 10, 'gamma': 0.001, 'kernel': 'rbf'}\n",
      "Fold  2 accuracy: 0.9229  ,  0.8993  {'epsilon': 0.01, 'C': 20, 'gamma': 0.0005, 'kernel': 'rbf'}\n",
      "Fold  3 accuracy: 0.8449  ,  0.9082  {'epsilon': 0.01, 'C': 15, 'gamma': 0.001, 'kernel': 'rbf'}\n",
      "Fold  4 accuracy: 0.9146  ,  0.9011  {'epsilon': 0.005, 'C': 15, 'gamma': 0.001, 'kernel': 'rbf'}\n",
      "Fold  5 accuracy: 0.9194  ,  0.9014  {'epsilon': 0.01, 'C': 15, 'gamma': 0.001, 'kernel': 'rbf'}\n",
      "Fold  6 accuracy: 0.8760  ,  0.9047  {'epsilon': 0.01, 'C': 15, 'gamma': 0.0005, 'kernel': 'rbf'}\n",
      "Fold  7 accuracy: 0.9357  ,  0.8977  {'epsilon': 0.005, 'C': 20, 'gamma': 0.001, 'kernel': 'rbf'}\n",
      "Fold  8 accuracy: 0.9028  ,  0.9018  {'epsilon': 0.01, 'C': 10, 'gamma': 0.0005, 'kernel': 'rbf'}\n",
      "Fold  9 accuracy: 0.9429  ,  0.8964  {'epsilon': 0.01, 'C': 20, 'gamma': 0.0005, 'kernel': 'rbf'}\n",
      "Fold 10 accuracy: 0.9302  ,  0.8984  {'epsilon': 0.01, 'C': 10, 'gamma': 0.0005, 'kernel': 'rbf'}\n",
      " \n",
      "Clf  0 Mean Accuracy: 0.9031 +/- 0.0385\n",
      "Clf  1 Mean Accuracy: 0.9036 +/- 0.0371\n",
      "Clf  2 Mean Accuracy: 0.9031 +/- 0.0397\n",
      "Clf  3 Mean Accuracy: 0.9024 +/- 0.0396\n",
      "Clf  4 Mean Accuracy: 0.9031 +/- 0.0397\n",
      "Clf  5 Mean Accuracy: 0.9033 +/- 0.0368\n",
      "Clf  6 Mean Accuracy: 0.9024 +/- 0.0405\n",
      "Clf  7 Mean Accuracy: 0.9029 +/- 0.0360\n",
      "Clf  8 Mean Accuracy: 0.9036 +/- 0.0371\n",
      "Clf  9 Mean Accuracy: 0.9029 +/- 0.0360\n",
      "Using CLF with accuracy:   0.903567\n",
      "CLF params:  {'kernel': 'rbf', 'C': 20, 'verbose': False, 'degree': 3, 'epsilon': 0.01, 'shrinking': True, 'max_iter': -1, 'tol': 0.001, 'cache_size': 200, 'coef0': 0.0, 'gamma': 0.0005}\n"
     ]
    }
   ],
   "source": [
    "gen_params = {'kernel':['rbf'], \n",
    "              'C':      [10,15,20],\n",
    "              'gamma':  [5e-4,1e-3,5e-3],\n",
    "              'epsilon':[5e-3,1e-2,5e-2]\n",
    "             }\n",
    "svr_reg = rv.optimize_fit( SVR(), train_x, train_y, gen_params, nf=10 )"
   ]
  },
  {
   "cell_type": "code",
   "execution_count": 8,
   "metadata": {
    "collapsed": true
   },
   "outputs": [
    {
     "name": "stdout",
     "output_type": "stream",
     "text": [
      "Fold  1 accuracy: 0.8360  ,  0.9105  {'alpha': 4.0, 'fit_intercept': True}\n",
      "Fold  2 accuracy: 0.9274  ,  0.8948  {'alpha': 7.5, 'fit_intercept': True}\n",
      "Fold  3 accuracy: 0.8619  ,  0.9061  {'alpha': 3.9000000000000004, 'fit_intercept': True}\n",
      "Fold  4 accuracy: 0.9218  ,  0.8969  {'alpha': 4.6000000000000005, 'fit_intercept': True}\n",
      "Fold  5 accuracy: 0.9133  ,  0.8986  {'alpha': 4.8000000000000007, 'fit_intercept': True}\n",
      "Fold  6 accuracy: 0.8769  ,  0.9014  {'alpha': 6.6000000000000005, 'fit_intercept': True}\n",
      "Fold  7 accuracy: 0.9312  ,  0.8943  {'alpha': 3.8000000000000003, 'fit_intercept': True}\n",
      "Fold  8 accuracy: 0.8976  ,  0.8981  {'alpha': 3.6000000000000001, 'fit_intercept': True}\n",
      "Fold  9 accuracy: 0.9393  ,  0.8932  {'alpha': 5.2000000000000002, 'fit_intercept': True}\n",
      "Fold 10 accuracy: 0.9237  ,  0.8949  {'alpha': 4.7000000000000002, 'fit_intercept': True}\n",
      " \n",
      "Clf  0 Mean Accuracy: 0.9033 +/- 0.0324\n",
      "Clf  1 Mean Accuracy: 0.9031 +/- 0.0329\n",
      "Clf  2 Mean Accuracy: 0.9033 +/- 0.0323\n",
      "Clf  3 Mean Accuracy: 0.9033 +/- 0.0325\n",
      "Clf  4 Mean Accuracy: 0.9033 +/- 0.0325\n",
      "Clf  5 Mean Accuracy: 0.9032 +/- 0.0328\n",
      "Clf  6 Mean Accuracy: 0.9033 +/- 0.0323\n",
      "Clf  7 Mean Accuracy: 0.9033 +/- 0.0323\n",
      "Clf  8 Mean Accuracy: 0.9033 +/- 0.0326\n",
      "Clf  9 Mean Accuracy: 0.9033 +/- 0.0325\n",
      "Using CLF with accuracy:   0.903340\n",
      "CLF params:  {'normalize': False, 'fit_intercept': True, 'max_iter': None, 'random_state': None, 'tol': 0.001, 'copy_X': True, 'alpha': 4.6000000000000005, 'solver': 'auto'}\n"
     ]
    }
   ],
   "source": [
    "gen_params = { \n",
    "                'alpha':np.arange( 0., 10., 0.1),\n",
    "                'fit_intercept':[True,False] \n",
    "             }\n",
    "rid_reg = rv.optimize_fit( Ridge(), train_x, train_y, gen_params, nf=10 )"
   ]
  },
  {
   "cell_type": "code",
   "execution_count": 9,
   "metadata": {
    "collapsed": true
   },
   "outputs": [
    {
     "name": "stderr",
     "output_type": "stream",
     "text": [
      "/home/sean/anaconda/lib/python2.7/site-packages/sklearn/linear_model/coordinate_descent.py:484: ConvergenceWarning: Objective did not converge. You might want to increase the number of iterations. Fitting data with very small alpha may cause precision problems.\n",
      "  ConvergenceWarning)\n"
     ]
    },
    {
     "name": "stdout",
     "output_type": "stream",
     "text": [
      "Fold  1 accuracy: 0.8872  ,  0.9047  {'alpha': 0.00025118864315095514, 'fit_intercept': True}\n",
      "Fold  2 accuracy: 0.8913  ,  0.9036  {'alpha': 0.00039810717055349204, 'fit_intercept': True}\n",
      "Fold  3 accuracy: 0.8916  ,  0.8999  {'alpha': 0.00039810717055349204, 'fit_intercept': True}\n",
      "Fold  4 accuracy: 0.9127  ,  0.8961  {'alpha': 0.00031622776601683404, 'fit_intercept': True}\n",
      "Fold  5 accuracy: 0.9294  ,  0.8925  {'alpha': 0.00039810717055349204, 'fit_intercept': True}\n",
      " \n",
      "Clf  0 Mean Accuracy: 0.9032 +/- 0.0156\n",
      "Clf  1 Mean Accuracy: 0.9022 +/- 0.0164\n",
      "Clf  2 Mean Accuracy: 0.9022 +/- 0.0164\n",
      "Clf  3 Mean Accuracy: 0.9029 +/- 0.0158\n",
      "Clf  4 Mean Accuracy: 0.9022 +/- 0.0164\n",
      "Using CLF with accuracy:   0.903237\n",
      "CLF params:  {'normalize': False, 'warm_start': False, 'selection': 'cyclic', 'fit_intercept': True, 'positive': False, 'max_iter': 1000, 'precompute': False, 'random_state': None, 'tol': 0.0001, 'copy_X': True, 'alpha': 0.00025118864315095514}\n"
     ]
    }
   ],
   "source": [
    "gen_params = { \n",
    "                'alpha':10**np.arange( -5., -3., 0.1),\n",
    "                'fit_intercept':[True,False] \n",
    "             }\n",
    "las_reg = rv.optimize_fit( Lasso(), train_x, train_y, gen_params, nf=5 )"
   ]
  },
  {
   "cell_type": "code",
   "execution_count": 10,
   "metadata": {
    "collapsed": true
   },
   "outputs": [
    {
     "name": "stdout",
     "output_type": "stream",
     "text": [
      "Fold  1 accuracy: 0.8371  ,  0.9111  {'alpha': 0.001995262314968885, 'l1_ratio': 0.05}\n",
      "Fold  2 accuracy: 0.9208  ,  0.8957  {'alpha': 0.0063095734448019554, 'l1_ratio': 0.05}\n",
      "Fold  3 accuracy: 0.8622  ,  0.9075  {'alpha': 0.0015848931924611173, 'l1_ratio': 0.15}\n",
      "Fold  4 accuracy: 0.9197  ,  0.8984  {'alpha': 0.0015848931924611173, 'l1_ratio': 0.15}\n",
      "Fold  5 accuracy: 0.9136  ,  0.9000  {'alpha': 0.0015848931924611173, 'l1_ratio': 0.15}\n",
      "Fold  6 accuracy: 0.8762  ,  0.9026  {'alpha': 0.0039810717055349856, 'l1_ratio': 0.05}\n",
      "Fold  7 accuracy: 0.9302  ,  0.8968  {'alpha': 0.0012589254117941701, 'l1_ratio': 0.15}\n",
      "Fold  8 accuracy: 0.8980  ,  0.8996  {'alpha': 0.0012589254117941701, 'l1_ratio': 0.15}\n",
      "Fold  9 accuracy: 0.9414  ,  0.8944  {'alpha': 0.0015848931924611173, 'l1_ratio': 0.15}\n",
      "Fold 10 accuracy: 0.9189  ,  0.8970  {'alpha': 0.0015848931924611173, 'l1_ratio': 0.15}\n",
      " \n",
      "Clf  0 Mean Accuracy: 0.9034 +/- 0.0321\n",
      "Clf  1 Mean Accuracy: 0.9017 +/- 0.0308\n",
      "Clf  2 Mean Accuracy: 0.9031 +/- 0.0308\n",
      "Clf  3 Mean Accuracy: 0.9031 +/- 0.0308\n",
      "Clf  4 Mean Accuracy: 0.9031 +/- 0.0308\n",
      "Clf  5 Mean Accuracy: 0.9028 +/- 0.0315\n",
      "Clf  6 Mean Accuracy: 0.9030 +/- 0.0311\n",
      "Clf  7 Mean Accuracy: 0.9030 +/- 0.0311\n",
      "Clf  8 Mean Accuracy: 0.9031 +/- 0.0308\n",
      "Clf  9 Mean Accuracy: 0.9031 +/- 0.0308\n",
      "Using CLF with accuracy:   0.903396\n",
      "CLF params:  {'normalize': False, 'warm_start': False, 'selection': 'cyclic', 'fit_intercept': True, 'l1_ratio': 0.05, 'max_iter': 1000, 'precompute': False, 'random_state': None, 'tol': 0.0001, 'positive': False, 'copy_X': True, 'alpha': 0.001995262314968885}\n"
     ]
    }
   ],
   "source": [
    "gen_params = { \n",
    "                'alpha':10**np.arange(-4.,-2.,0.1),\n",
    "                'l1_ratio':[0.05,0.1,0.15],\n",
    "             }\n",
    "net_reg = rv.optimize_fit( ElasticNet(), train_x, train_y, gen_params, nf=10 )"
   ]
  },
  {
   "cell_type": "code",
   "execution_count": 13,
   "metadata": {
    "collapsed": true
   },
   "outputs": [
    {
     "name": "stdout",
     "output_type": "stream",
     "text": [
      "Fold  1 accuracy: 0.8371  ,  0.9108  {'alpha': 0.0079432823472428051, 'gamma': 0.00031622776601683729, 'degree': 7, 'kernel': 'poly'}\n",
      "Fold  2 accuracy: 0.9275  ,  0.8948  {'alpha': 0.001, 'gamma': 1.9952623149688786e-05, 'degree': 7, 'kernel': 'poly'}\n",
      "Fold  3 accuracy: 0.8628  ,  0.9063  {'alpha': 0.0039810717055349691, 'gamma': 0.00015848931924611109, 'degree': 7, 'kernel': 'poly'}\n",
      "Fold  4 accuracy: 0.9210  ,  0.8970  {'alpha': 0.0079432823472428051, 'gamma': 0.00031622776601683729, 'degree': 5, 'kernel': 'poly'}\n",
      "Fold  5 accuracy: 0.9129  ,  0.8989  {'alpha': 0.0079432823472428051, 'gamma': 0.00031622776601683729, 'degree': 5, 'kernel': 'poly'}\n",
      "Fold  6 accuracy: 0.8767  ,  0.9014  {'alpha': 0.0039810717055349691, 'gamma': 7.9432823472428058e-05, 'degree': 7, 'kernel': 'poly'}\n",
      "Fold  7 accuracy: 0.9313  ,  0.8943  {'alpha': 0.001, 'gamma': 3.9810717055349695e-05, 'degree': 7, 'kernel': 'poly'}\n",
      "Fold  8 accuracy: 0.8983  ,  0.8981  {'alpha': 0.001, 'gamma': 3.9810717055349695e-05, 'degree': 7, 'kernel': 'poly'}\n",
      "Fold  9 accuracy: 0.9396  ,  0.8931  {'alpha': 0.001, 'gamma': 3.9810717055349695e-05, 'degree': 5, 'kernel': 'poly'}\n",
      "Fold 10 accuracy: 0.9237  ,  0.8950  {'alpha': 0.0079432823472428051, 'gamma': 0.00031622776601683729, 'degree': 5, 'kernel': 'poly'}\n",
      " \n",
      "Clf  0 Mean Accuracy: 0.9041 +/- 0.0319\n",
      "Clf  1 Mean Accuracy: 0.9032 +/- 0.0329\n",
      "Clf  2 Mean Accuracy: 0.9038 +/- 0.0321\n",
      "Clf  3 Mean Accuracy: 0.9038 +/- 0.0324\n",
      "Clf  4 Mean Accuracy: 0.9038 +/- 0.0324\n",
      "Clf  5 Mean Accuracy: 0.9033 +/- 0.0328\n",
      "Clf  6 Mean Accuracy: 0.9035 +/- 0.0322\n",
      "Clf  7 Mean Accuracy: 0.9035 +/- 0.0322\n",
      "Clf  8 Mean Accuracy: 0.9034 +/- 0.0325\n",
      "Clf  9 Mean Accuracy: 0.9038 +/- 0.0324\n",
      "Using CLF with accuracy:   0.904148\n",
      "CLF params:  {'kernel': 'poly', 'degree': 7, 'kernel_params': None, 'alpha': 0.0079432823472428051, 'coef0': 1, 'gamma': 0.00031622776601683729}\n"
     ]
    }
   ],
   "source": [
    "gen_params = {\n",
    "                'kernel':['poly'],\n",
    "                'alpha':10**np.arange(-3.,-1.,0.3),\n",
    "                'gamma':10**np.arange(-5.,-3.,0.3),\n",
    "                'degree':[5,7]\n",
    "            }\n",
    "krr_reg = rv.optimize_fit( KernelRidge(), train_x, train_y, gen_params, nf=10 )"
   ]
  },
  {
   "cell_type": "code",
   "execution_count": 84,
   "metadata": {
    "collapsed": true
   },
   "outputs": [],
   "source": [
    "# AdaBoostRegressor         # base_estimator, n_estimators 50d, learning_rate, loss, rand_state\n",
    "# BaggingRegressor          # base_estimator, n_estimators 10d, random_state\n",
    "# GradientBoostingRegressor # loss ‘ls’, ‘lad’, ‘huber’, min_samples_split, max_depth, learning rate .11, n_estimators, random_state"
   ]
  },
  {
   "cell_type": "code",
   "execution_count": 15,
   "metadata": {
    "collapsed": true
   },
   "outputs": [
    {
     "name": "stdout",
     "output_type": "stream",
     "text": [
      "Fold  1 accuracy: 0.8557  ,  0.9037  {'loss': 'ls', 'learning_rate': 0.1, 'n_estimators': 300, 'min_samples_split': 15, 'max_features': 30, 'max_depth': 3}\n",
      "Fold  2 accuracy: 0.9173  ,  0.8911  {'loss': 'ls', 'learning_rate': 0.1, 'n_estimators': 300, 'min_samples_split': 10, 'max_features': 20, 'max_depth': 3}\n",
      "Fold  3 accuracy: 0.9132  ,  0.8996  {'loss': 'ls', 'learning_rate': 0.1, 'n_estimators': 300, 'min_samples_split': 10, 'max_features': 20, 'max_depth': 3}\n",
      "Fold  4 accuracy: 0.8937  ,  0.8943  {'loss': 'ls', 'learning_rate': 0.1, 'n_estimators': 300, 'min_samples_split': 10, 'max_features': 20, 'max_depth': 3}\n",
      "Fold  5 accuracy: 0.9121  ,  0.8921  {'loss': 'ls', 'learning_rate': 0.1, 'n_estimators': 300, 'min_samples_split': 10, 'max_features': 20, 'max_depth': 3}\n",
      "Fold  6 accuracy: 0.8832  ,  0.8952  {'loss': 'ls', 'learning_rate': 0.1, 'n_estimators': 300, 'min_samples_split': 10, 'max_features': 30, 'max_depth': 3}\n",
      "Fold  7 accuracy: 0.9156  ,  0.8916  {'loss': 'ls', 'learning_rate': 0.1, 'n_estimators': 300, 'min_samples_split': 10, 'max_features': 20, 'max_depth': 4}\n",
      "Fold  8 accuracy: 0.8960  ,  0.8913  {'loss': 'ls', 'learning_rate': 0.1, 'n_estimators': 300, 'min_samples_split': 10, 'max_features': 20, 'max_depth': 3}\n",
      "Fold  9 accuracy: 0.9295  ,  0.8899  {'loss': 'ls', 'learning_rate': 0.1, 'n_estimators': 300, 'min_samples_split': 15, 'max_features': 30, 'max_depth': 3}\n",
      "Fold 10 accuracy: 0.9141  ,  0.8880  {'loss': 'ls', 'learning_rate': 0.1, 'n_estimators': 300, 'min_samples_split': 15, 'max_features': 20, 'max_depth': 3}\n",
      " \n",
      "Clf  0 Mean Accuracy: 0.9051 +/- 0.0223\n",
      "Clf  1 Mean Accuracy: 0.9019 +/- 0.0249\n",
      "Clf  2 Mean Accuracy: 0.9008 +/- 0.0249\n",
      "Clf  3 Mean Accuracy: 0.9026 +/- 0.0246\n",
      "Clf  4 Mean Accuracy: 0.9032 +/- 0.0197\n",
      "Clf  5 Mean Accuracy: 0.9026 +/- 0.0234\n",
      "Clf  6 Mean Accuracy: 0.9007 +/- 0.0193\n",
      "Clf  7 Mean Accuracy: 0.9037 +/- 0.0229\n",
      "Clf  8 Mean Accuracy: 0.9031 +/- 0.0226\n",
      "Clf  9 Mean Accuracy: 0.9034 +/- 0.0269\n",
      "Using CLF with accuracy:   0.905131\n",
      "CLF params:  {'presort': 'auto', 'loss': 'ls', 'verbose': 0, 'subsample': 1.0, 'max_leaf_nodes': None, 'learning_rate': 0.1, 'warm_start': False, 'min_samples_leaf': 1, 'n_estimators': 300, 'min_samples_split': 15, 'init': None, 'min_weight_fraction_leaf': 0.0, 'criterion': 'friedman_mse', 'random_state': None, 'min_impurity_split': 1e-07, 'max_features': 30, 'alpha': 0.9, 'max_depth': 3}\n"
     ]
    }
   ],
   "source": [
    "gen_params = {\n",
    "                'loss':['ls'],\n",
    "                'max_features':[20,30],\n",
    "                'min_samples_split':[10,15],\n",
    "                'learning_rate':[1e-1],\n",
    "                'max_depth':[3,4],\n",
    "                'n_estimators':[300]\n",
    "             }\n",
    "gbr_reg = rv.optimize_fit( GradientBoostingRegressor(), train_x, train_y, gen_params, nf=10 )"
   ]
  },
  {
   "cell_type": "code",
   "execution_count": 51,
   "metadata": {
    "collapsed": false,
    "scrolled": false
   },
   "outputs": [
    {
     "data": {
      "text/plain": [
       "<module 'remap_values' from 'remap_values.pyc'>"
      ]
     },
     "execution_count": 51,
     "metadata": {},
     "output_type": "execute_result"
    }
   ],
   "source": [
    "reload( rv )"
   ]
  },
  {
   "cell_type": "code",
   "execution_count": 52,
   "metadata": {
    "collapsed": false
   },
   "outputs": [
    {
     "name": "stdout",
     "output_type": "stream",
     "text": [
      "Fold 1 accuracy: 0.854140328869\n",
      "Fold 2 accuracy: 0.867803055108\n",
      "Fold 3 accuracy: 0.871759738498\n",
      "Fold 4 accuracy: 0.877288086406\n",
      "Fold 5 accuracy: 0.885224787795\n",
      "Mean Accuracy: 0.871243199335 +/- 0.0103598750836\n"
     ]
    }
   ],
   "source": [
    "ada_svr_reg = AdaBoostRegressor( SVR( kernel='rbf', C=10.0, gamma=1.e-2, epsilon=1.e-2) , n_estimators=100, random_state=0 )\n",
    "rv.run_kfold_arr( ada_svr_reg, train_x, train_y, nf=5 )"
   ]
  },
  {
   "cell_type": "code",
   "execution_count": 53,
   "metadata": {
    "collapsed": true
   },
   "outputs": [
    {
     "name": "stdout",
     "output_type": "stream",
     "text": [
      "Fold 1 accuracy: 0.869721749268\n",
      "Fold 2 accuracy: 0.86352463841\n",
      "Fold 3 accuracy: 0.849836607295\n",
      "Fold 4 accuracy: 0.876172457442\n",
      "Fold 5 accuracy: 0.892901524538\n",
      "Mean Accuracy: 0.87043139539 +/- 0.0142142089734\n"
     ]
    }
   ],
   "source": [
    "ada_las_reg = AdaBoostRegressor( Lasso( alpha = 0.00025 ) , n_estimators=300 )\n",
    "rv.run_kfold_arr( ada_las_reg, train_x, train_y, nf=5 )"
   ]
  },
  {
   "cell_type": "code",
   "execution_count": null,
   "metadata": {
    "collapsed": true
   },
   "outputs": [],
   "source": []
  },
  {
   "cell_type": "code",
   "execution_count": null,
   "metadata": {
    "collapsed": true
   },
   "outputs": [],
   "source": []
  },
  {
   "cell_type": "code",
   "execution_count": 43,
   "metadata": {
    "collapsed": true
   },
   "outputs": [
    {
     "name": "stdout",
     "output_type": "stream",
     "text": [
      "Fold 1 accuracy: 0.875223024262\n",
      "Fold 2 accuracy: 0.884424705717\n",
      "Fold 3 accuracy: 0.890451661107\n",
      "Fold 4 accuracy: 0.919656220087\n",
      "Fold 5 accuracy: 0.932329804351\n",
      "Mean Accuracy: 0.900417083105 +/- 0.0218099635041\n"
     ]
    }
   ],
   "source": [
    "bag_svr_reg = BaggingRegressor( SVR( C=20.0, gamma=1.e-4, epsilon=1.e-2), n_estimators=20 )\n",
    "rv.run_kfold_arr( bag_svr_reg, train_x, train_y, nf=5 )"
   ]
  },
  {
   "cell_type": "code",
   "execution_count": 46,
   "metadata": {
    "collapsed": true
   },
   "outputs": [
    {
     "name": "stdout",
     "output_type": "stream",
     "text": [
      "Fold 1 accuracy: 0.882882980065\n",
      "Fold 2 accuracy: 0.891649423326\n",
      "Fold 3 accuracy: 0.895178472743\n",
      "Fold 4 accuracy: 0.916954950555\n",
      "Fold 5 accuracy: 0.929832588033\n",
      "Mean Accuracy: 0.903299682945 +/- 0.0173723098447\n"
     ]
    }
   ],
   "source": [
    "bag_ridge_reg = BaggingRegressor( Ridge( alpha = 4.60, fit_intercept=True ), n_estimators=20 )\n",
    "rv.run_kfold_arr( bag_ridge_reg, train_x, train_y, nf=5 )"
   ]
  },
  {
   "cell_type": "code",
   "execution_count": 47,
   "metadata": {
    "collapsed": true
   },
   "outputs": [
    {
     "name": "stdout",
     "output_type": "stream",
     "text": [
      "Fold 1 accuracy: 0.887069397999\n",
      "Fold 2 accuracy: 0.891165471713\n",
      "Fold 3 accuracy: 0.897233722751\n",
      "Fold 4 accuracy: 0.911874075298\n",
      "Fold 5 accuracy: 0.930338185487\n",
      "Mean Accuracy: 0.90353617065 +/- 0.0158226312381\n"
     ]
    }
   ],
   "source": [
    "bag_lasso_reg = BaggingRegressor( Lasso( alpha = 0.00025, fit_intercept=True ), n_estimators=20 )\n",
    "rv.run_kfold_arr( bag_lasso_reg, train_x, train_y, nf=5 )"
   ]
  },
  {
   "cell_type": "code",
   "execution_count": 48,
   "metadata": {
    "collapsed": true
   },
   "outputs": [
    {
     "name": "stdout",
     "output_type": "stream",
     "text": [
      "Fold 1 accuracy: 0.885880446493\n",
      "Fold 2 accuracy: 0.89202514542\n",
      "Fold 3 accuracy: 0.89613750408\n",
      "Fold 4 accuracy: 0.91400960753\n",
      "Fold 5 accuracy: 0.930242440675\n",
      "Mean Accuracy: 0.903659028839 +/- 0.0162592178926\n"
     ]
    }
   ],
   "source": [
    "bag_net_reg = BaggingRegressor( ElasticNet( l1_ratio = 0.05, alpha = 0.002 ), n_estimators=20 )\n",
    "rv.run_kfold_arr( bag_net_reg, train_x, train_y, nf=5 )"
   ]
  },
  {
   "cell_type": "code",
   "execution_count": 50,
   "metadata": {
    "collapsed": true
   },
   "outputs": [
    {
     "name": "stdout",
     "output_type": "stream",
     "text": [
      "Fold 1 accuracy: 0.884380600644\n",
      "Fold 2 accuracy: 0.893149261292\n",
      "Fold 3 accuracy: 0.895132238863\n",
      "Fold 4 accuracy: 0.918450587277\n",
      "Fold 5 accuracy: 0.928233628754\n",
      "Mean Accuracy: 0.903869263366 +/- 0.0165969836056\n"
     ]
    }
   ],
   "source": [
    "bag_kernel_reg = BaggingRegressor( KernelRidge( kernel = 'poly', degree = 7, alpha = 0.008, gamma = 0.0003 ), n_estimators=20 )\n",
    "rv.run_kfold_arr( bag_kernel_reg, train_x, train_y, nf=5 )"
   ]
  },
  {
   "cell_type": "code",
   "execution_count": 54,
   "metadata": {
    "collapsed": false
   },
   "outputs": [
    {
     "data": {
      "text/plain": [
       "'\\nsvr_reg 0.903567\\nrid_reg 0.903340\\nlas_reg 0.903237\\nnet_reg 0.903396\\nkrr_reg 0.904148\\n\\ngbr_reg      0.905131\\nada_svr_reg  0.871243\\nada_las_reg  0.870431\\n\\nbag_svr_reg     0.905131\\nbag_ridge_reg   0.903299\\nbag_lasso_reg   0.903536\\nbag_net_reg     0.903659\\nbag_kernel_reg  0.903869\\n'"
      ]
     },
     "execution_count": 54,
     "metadata": {},
     "output_type": "execute_result"
    }
   ],
   "source": [
    "'''\n",
    "svr_reg 0.903567\n",
    "rid_reg 0.903340\n",
    "las_reg 0.903237\n",
    "net_reg 0.903396\n",
    "krr_reg 0.904148\n",
    "\n",
    "gbr_reg      0.905131\n",
    "ada_svr_reg  0.871243\n",
    "ada_las_reg  0.870431\n",
    "\n",
    "bag_svr_reg     0.905131\n",
    "bag_ridge_reg   0.903299\n",
    "bag_lasso_reg   0.903536\n",
    "bag_net_reg     0.903659\n",
    "bag_kernel_reg  0.903869\n",
    "'''"
   ]
  },
  {
   "cell_type": "code",
   "execution_count": 55,
   "metadata": {
    "collapsed": true
   },
   "outputs": [],
   "source": [
    "reg_list  = [ svr_reg , rid_reg , las_reg , net_reg , krr_reg ]\n",
    "reg_names = ['svr_reg','rid_reg','las_reg','net_reg','krr_reg']\n",
    "\n",
    "bag_list  = [ bag_svr_reg , bag_ridge_reg , bag_lasso_reg , bag_net_reg , bag_kernel_reg ]\n",
    "bag_names = ['bag_svr_reg','bag_ridge_reg','bag_lasso_reg','bag_net_reg','bag_kernel_reg']"
   ]
  },
  {
   "cell_type": "code",
   "execution_count": 82,
   "metadata": {
    "collapsed": true
   },
   "outputs": [],
   "source": [
    "def plot_pred( myList, myNames ):\n",
    "    \n",
    "    colors = ['k','r','b','g','m']\n",
    "    \n",
    "    f, ax = plt.subplots()\n",
    "    \n",
    "    for reg, name, col in zip( reg_list, reg_names, colors ):\n",
    "        pred = reg.predict( test_df )\n",
    "        ax.plot( test_id.values, pred, color=col, marker='.', linestyle='None' )\n",
    "    plt.show()"
   ]
  },
  {
   "cell_type": "code",
   "execution_count": 84,
   "metadata": {
    "collapsed": false
   },
   "outputs": [],
   "source": [
    "plot_pred( bag_list, bag_names )"
   ]
  },
  {
   "cell_type": "code",
   "execution_count": null,
   "metadata": {
    "collapsed": true
   },
   "outputs": [],
   "source": []
  },
  {
   "cell_type": "code",
   "execution_count": 86,
   "metadata": {
    "collapsed": true
   },
   "outputs": [],
   "source": [
    "norm_pred = 0\n",
    "for reg in reg_list:\n",
    "    norm_pred = norm_pred + reg.predict( test_df )\n",
    "norm_pred = 10**( norm_pred / 5.0 )"
   ]
  },
  {
   "cell_type": "code",
   "execution_count": 88,
   "metadata": {
    "collapsed": true
   },
   "outputs": [],
   "source": [
    "bag_pred = 0\n",
    "for reg in bag_list:\n",
    "    bag_pred = bag_pred + reg.predict( test_df )\n",
    "bag_pred = 10**( bag_pred / 5.0 )"
   ]
  },
  {
   "cell_type": "code",
   "execution_count": null,
   "metadata": {
    "collapsed": true
   },
   "outputs": [],
   "source": []
  },
  {
   "cell_type": "code",
   "execution_count": 117,
   "metadata": {
    "collapsed": true
   },
   "outputs": [],
   "source": [
    "id_df  = pd.read_csv( \"inp_data/test.csv\" )[['Id','Fence']]\n",
    "\n",
    "norm_df = id_df.copy()\n",
    "bag_df  = id_df.copy()\n",
    "svr_df  = id_df.copy()\n",
    "krr_df  = id_df.copy()\n",
    "gbr_df  = id_df.copy()\n",
    "bkr_df  = id_df.copy()\n",
    "\n",
    "norm_df['SalePrice'] = norm_pred\n",
    "bag_df ['SalePrice'] =  bag_pred\n",
    "svr_df ['SalePrice'] =  10**svr_reg.predict( test_df )\n",
    "krr_df ['SalePrice'] =  10**krr_reg.predict( test_df )\n",
    "gbr_df ['SalePrice'] =  10**gbr_reg.predict( test_df )\n",
    "bkr_df ['SalePrice'] =  10**bag_kernel_reg.predict( test_df )\n",
    "\n",
    "norm_df = norm_df.drop( ['Fence'], axis=1 )\n",
    "bag_df  =  bag_df.drop( ['Fence'], axis=1 )\n",
    "svr_df  =  svr_df.drop( ['Fence'], axis=1 )\n",
    "krr_df  =  krr_df.drop( ['Fence'], axis=1 )\n",
    "gbr_df  =  gbr_df.drop( ['Fence'], axis=1 )\n",
    "bkr_df  =  bkr_df.drop( ['Fence'], axis=1 )"
   ]
  },
  {
   "cell_type": "code",
   "execution_count": 97,
   "metadata": {
    "collapsed": true
   },
   "outputs": [],
   "source": [
    "norm_df.to_csv( 'norm_5.csv', index=False )\n",
    "bag_df .to_csv(  'bag_5.csv', index=False )\n",
    "svr_df .to_csv(  'svr_5.csv', index=False )\n",
    "krr_df .to_csv(  'krr_5.csv', index=False )\n",
    "gbr_df .to_csv(  'gbr_5.csv', index=False )\n",
    "bkr_df .to_csv(  'bkr_5.csv', index=False )"
   ]
  },
  {
   "cell_type": "code",
   "execution_count": null,
   "metadata": {
    "collapsed": true
   },
   "outputs": [],
   "source": []
  },
  {
   "cell_type": "code",
   "execution_count": 98,
   "metadata": {
    "collapsed": true
   },
   "outputs": [],
   "source": [
    "import math"
   ]
  },
  {
   "cell_type": "code",
   "execution_count": 118,
   "metadata": {
    "collapsed": true
   },
   "outputs": [],
   "source": [
    "def roundup(x):\n",
    "    y = np.zeros( len(x) )\n",
    "    for i in range( 0, len(y) ):\n",
    "        y[i] = float( int(math.ceil(x[i] / 500.0)) * 500 )\n",
    "    return y"
   ]
  },
  {
   "cell_type": "code",
   "execution_count": 119,
   "metadata": {
    "collapsed": false
   },
   "outputs": [],
   "source": [
    "svr_df ['SalePrice'] = roundup(  svr_df['SalePrice'] )\n",
    "bag_df ['SalePrice'] = roundup(  bag_df['SalePrice'] )\n",
    "norm_df['SalePrice'] = roundup( norm_df['SalePrice'] )"
   ]
  },
  {
   "cell_type": "code",
   "execution_count": 121,
   "metadata": {
    "collapsed": true
   },
   "outputs": [
    {
     "data": {
      "text/html": [
       "<div>\n",
       "<table border=\"1\" class=\"dataframe\">\n",
       "  <thead>\n",
       "    <tr style=\"text-align: right;\">\n",
       "      <th></th>\n",
       "      <th>Id</th>\n",
       "      <th>SalePrice</th>\n",
       "    </tr>\n",
       "  </thead>\n",
       "  <tbody>\n",
       "    <tr>\n",
       "      <th>0</th>\n",
       "      <td>1461</td>\n",
       "      <td>112500.0</td>\n",
       "    </tr>\n",
       "    <tr>\n",
       "      <th>1</th>\n",
       "      <td>1462</td>\n",
       "      <td>154500.0</td>\n",
       "    </tr>\n",
       "    <tr>\n",
       "      <th>2</th>\n",
       "      <td>1463</td>\n",
       "      <td>176500.0</td>\n",
       "    </tr>\n",
       "    <tr>\n",
       "      <th>3</th>\n",
       "      <td>1464</td>\n",
       "      <td>198500.0</td>\n",
       "    </tr>\n",
       "    <tr>\n",
       "      <th>4</th>\n",
       "      <td>1465</td>\n",
       "      <td>207000.0</td>\n",
       "    </tr>\n",
       "    <tr>\n",
       "      <th>5</th>\n",
       "      <td>1466</td>\n",
       "      <td>170500.0</td>\n",
       "    </tr>\n",
       "    <tr>\n",
       "      <th>6</th>\n",
       "      <td>1467</td>\n",
       "      <td>190000.0</td>\n",
       "    </tr>\n",
       "    <tr>\n",
       "      <th>7</th>\n",
       "      <td>1468</td>\n",
       "      <td>162500.0</td>\n",
       "    </tr>\n",
       "    <tr>\n",
       "      <th>8</th>\n",
       "      <td>1469</td>\n",
       "      <td>197000.0</td>\n",
       "    </tr>\n",
       "    <tr>\n",
       "      <th>9</th>\n",
       "      <td>1470</td>\n",
       "      <td>121000.0</td>\n",
       "    </tr>\n",
       "    <tr>\n",
       "      <th>10</th>\n",
       "      <td>1471</td>\n",
       "      <td>175000.0</td>\n",
       "    </tr>\n",
       "    <tr>\n",
       "      <th>11</th>\n",
       "      <td>1472</td>\n",
       "      <td>93000.0</td>\n",
       "    </tr>\n",
       "    <tr>\n",
       "      <th>12</th>\n",
       "      <td>1473</td>\n",
       "      <td>91000.0</td>\n",
       "    </tr>\n",
       "    <tr>\n",
       "      <th>13</th>\n",
       "      <td>1474</td>\n",
       "      <td>147500.0</td>\n",
       "    </tr>\n",
       "    <tr>\n",
       "      <th>14</th>\n",
       "      <td>1475</td>\n",
       "      <td>113500.0</td>\n",
       "    </tr>\n",
       "    <tr>\n",
       "      <th>15</th>\n",
       "      <td>1476</td>\n",
       "      <td>344000.0</td>\n",
       "    </tr>\n",
       "    <tr>\n",
       "      <th>16</th>\n",
       "      <td>1477</td>\n",
       "      <td>256500.0</td>\n",
       "    </tr>\n",
       "    <tr>\n",
       "      <th>17</th>\n",
       "      <td>1478</td>\n",
       "      <td>302000.0</td>\n",
       "    </tr>\n",
       "    <tr>\n",
       "      <th>18</th>\n",
       "      <td>1479</td>\n",
       "      <td>272000.0</td>\n",
       "    </tr>\n",
       "    <tr>\n",
       "      <th>19</th>\n",
       "      <td>1480</td>\n",
       "      <td>439000.0</td>\n",
       "    </tr>\n",
       "  </tbody>\n",
       "</table>\n",
       "</div>"
      ],
      "text/plain": [
       "      Id  SalePrice\n",
       "0   1461   112500.0\n",
       "1   1462   154500.0\n",
       "2   1463   176500.0\n",
       "3   1464   198500.0\n",
       "4   1465   207000.0\n",
       "5   1466   170500.0\n",
       "6   1467   190000.0\n",
       "7   1468   162500.0\n",
       "8   1469   197000.0\n",
       "9   1470   121000.0\n",
       "10  1471   175000.0\n",
       "11  1472    93000.0\n",
       "12  1473    91000.0\n",
       "13  1474   147500.0\n",
       "14  1475   113500.0\n",
       "15  1476   344000.0\n",
       "16  1477   256500.0\n",
       "17  1478   302000.0\n",
       "18  1479   272000.0\n",
       "19  1480   439000.0"
      ]
     },
     "execution_count": 121,
     "metadata": {},
     "output_type": "execute_result"
    }
   ],
   "source": [
    "bag_df.head(20)"
   ]
  },
  {
   "cell_type": "code",
   "execution_count": 122,
   "metadata": {
    "collapsed": true
   },
   "outputs": [],
   "source": [
    "norm_df.to_csv( 'norm_6.csv', index=False )\n",
    "bag_df .to_csv(  'bag_6.csv', index=False )\n",
    "svr_df .to_csv(  'svr_6.csv', index=False )"
   ]
  },
  {
   "cell_type": "code",
   "execution_count": null,
   "metadata": {
    "collapsed": true
   },
   "outputs": [],
   "source": []
  }
 ],
 "metadata": {
  "kernelspec": {
   "display_name": "Python 2",
   "language": "python",
   "name": "python2"
  },
  "language_info": {
   "codemirror_mode": {
    "name": "ipython",
    "version": 2
   },
   "file_extension": ".py",
   "mimetype": "text/x-python",
   "name": "python",
   "nbconvert_exporter": "python",
   "pygments_lexer": "ipython2",
   "version": "2.7.13"
  }
 },
 "nbformat": 4,
 "nbformat_minor": 2
}
