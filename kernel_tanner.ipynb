{
 "cells": [
  {
   "cell_type": "code",
   "execution_count": 1,
   "metadata": {
    "collapsed": true
   },
   "outputs": [],
   "source": [
    "import numpy as np\n",
    "import pandas as pd\n",
    "import seaborn as sns\n",
    "\n",
    "import matplotlib.pyplot as plt\n",
    "\n",
    "import remap_values as rv\n",
    "import good_plots   as gp\n",
    "\n",
    "import cPickle"
   ]
  },
  {
   "cell_type": "code",
   "execution_count": 317,
   "metadata": {
    "collapsed": false
   },
   "outputs": [
    {
     "data": {
      "text/plain": [
       "<module 'remap_values' from 'remap_values.py'>"
      ]
     },
     "execution_count": 317,
     "metadata": {},
     "output_type": "execute_result"
    }
   ],
   "source": [
    "reload( rv )"
   ]
  },
  {
   "cell_type": "code",
   "execution_count": 318,
   "metadata": {
    "collapsed": false,
    "scrolled": true
   },
   "outputs": [],
   "source": [
    "train_df = pd.read_csv('inp_data/train.csv')\n",
    "test_df  = pd.read_csv('inp_data/test.csv')\n",
    "\n",
    "train_df, test_df = rv.run_tan( train_df, test_df )"
   ]
  },
  {
   "cell_type": "code",
   "execution_count": 291,
   "metadata": {
    "collapsed": true
   },
   "outputs": [],
   "source": [
    "big_df = train_df.drop( 'SalePrice', axis=1).append( test_df, ignore_index=True)"
   ]
  },
  {
   "cell_type": "code",
   "execution_count": null,
   "metadata": {
    "collapsed": true
   },
   "outputs": [],
   "source": []
  },
  {
   "cell_type": "code",
   "execution_count": 41,
   "metadata": {
    "collapsed": true
   },
   "outputs": [],
   "source": [
    "#PCA?\n",
    "#Preprocess?"
   ]
  },
  {
   "cell_type": "code",
   "execution_count": 319,
   "metadata": {
    "collapsed": false,
    "scrolled": true
   },
   "outputs": [
    {
     "name": "stdout",
     "output_type": "stream",
     "text": [
      "SalePrice           1.000000\n",
      "OverallQual         0.800858\n",
      "AreaInside          0.729888\n",
      "GrLivArea           0.720516\n",
      "NeighBin            0.696339\n",
      "ExterQual           0.694628\n",
      "KitchenQual         0.666217\n",
      "GarageCars          0.649256\n",
      "TotalBsmtSF         0.646584\n",
      "GarageArea          0.636964\n",
      "NBath               0.635939\n",
      "1stFlrSF            0.625235\n",
      "BsmtQual            0.592073\n",
      "TotRmsAbvGrd        0.537462\n",
      "YearBuilt           0.535279\n",
      "FireplaceQu         0.528841\n",
      "YearRemodAdd        0.521428\n",
      "GarageYrBlt         0.520632\n",
      "MasVnrArea          0.473650\n",
      "Fireplaces          0.466765\n",
      "HeatingQC           0.435081\n",
      "HeatingScale        0.435081\n",
      "HasOpenPorchSF      0.419718\n",
      "GarageFinish        0.419276\n",
      "BsmtFinSF1          0.395923\n",
      "BsmtExposure        0.373158\n",
      "HasMasVnrArea       0.372950\n",
      "HasMasVnr           0.372950\n",
      "PartialPlan         0.371494\n",
      "RecentRemodel       0.354686\n",
      "                      ...   \n",
      "Functional          0.109250\n",
      "HasScreenPorch      0.093352\n",
      "MoSold              0.056797\n",
      "Has3SsnPorch        0.049029\n",
      "3SsnPorch           0.047414\n",
      "PoolArea            0.032819\n",
      "TimeSinceSold       0.023694\n",
      "ExterCond           0.021999\n",
      "BsmtFinSF2         -0.008900\n",
      "MiscVal            -0.021097\n",
      "Remodeled          -0.023562\n",
      "YrSold             -0.023694\n",
      "LowQualFinSF       -0.025351\n",
      "HighSeason         -0.025405\n",
      "Id                 -0.027455\n",
      "BsmtFinType2       -0.030097\n",
      "LandContour        -0.032620\n",
      "LandSlope          -0.055412\n",
      "MiscFeature        -0.070498\n",
      "Fence              -0.078988\n",
      "OverallCond        -0.080202\n",
      "MSSubClass         -0.088160\n",
      "NewerDwelling      -0.116106\n",
      "EnclosedPorch      -0.129774\n",
      "KitchenAbvGr       -0.138849\n",
      "HasEnclosedPorch   -0.186143\n",
      "LotShape           -0.265043\n",
      "GarageType         -0.361463\n",
      "YearSinceRemodel   -0.523102\n",
      "Age                -0.535279\n",
      "dtype: float64\n"
     ]
    }
   ],
   "source": [
    "corr_series = num_df.corrwith( num_df['SalePrice'] ).sort_values( ascending=False )\n",
    "print corr_series"
   ]
  },
  {
   "cell_type": "code",
   "execution_count": 320,
   "metadata": {
    "collapsed": false,
    "scrolled": true
   },
   "outputs": [
    {
     "name": "stdout",
     "output_type": "stream",
     "text": [
      "Id 2919\n",
      "MSSubClass 190\n",
      "LotFrontage 200.0\n",
      "LotArea 56600\n",
      "YearBuilt 2010\n",
      "YearRemodAdd 2010\n",
      "MasVnrArea 1290.0\n",
      "BsmtFinSF1 4010.0\n",
      "BsmtFinSF2 1526.0\n",
      "BsmtUnfSF 2140.0\n",
      "TotalBsmtSF 5095.0\n",
      "1stFlrSF 5095\n",
      "2ndFlrSF 1862\n",
      "LowQualFinSF 1064\n",
      "GrLivArea 5095\n",
      "TotRmsAbvGrd 15\n",
      "GarageYrBlt 2207.0\n",
      "GarageArea 1488.0\n",
      "WoodDeckSF 1424\n",
      "OpenPorchSF 742\n",
      "EnclosedPorch 1012\n",
      "3SsnPorch 360\n",
      "ScreenPorch 576\n",
      "PoolArea 800\n",
      "MiscVal 17000\n",
      "MoSold 12\n",
      "YrSold 2010\n",
      "AreaInside 5095\n",
      "Age 131\n",
      "YearSinceRemodel 60\n",
      "SalePrice 625000\n"
     ]
    }
   ],
   "source": [
    "col_list   = train_df.columns.values\n",
    "large_list = []\n",
    "for col in col_list:\n",
    "    if ( train_df[col].max() > 10 ):\n",
    "        print col, train_df[col].max()"
   ]
  },
  {
   "cell_type": "code",
   "execution_count": null,
   "metadata": {
    "collapsed": true
   },
   "outputs": [],
   "source": []
  },
  {
   "cell_type": "code",
   "execution_count": 305,
   "metadata": {
    "collapsed": true
   },
   "outputs": [],
   "source": [
    "invest = 'Neighborhood'"
   ]
  },
  {
   "cell_type": "code",
   "execution_count": 306,
   "metadata": {
    "collapsed": false,
    "scrolled": true
   },
   "outputs": [
    {
     "data": {
      "text/plain": [
       "array(['NAmes', 'Gilbert', 'StoneBr', 'BrDale', 'NPkVill', 'NridgHt',\n",
       "       'Blmngtn', 'NoRidge', 'Somerst', 'SawyerW', 'Sawyer', 'NWAmes',\n",
       "       'OldTown', 'BrkSide', 'ClearCr', 'SWISU', 'Edwards', 'CollgCr',\n",
       "       'Crawfor', 'Blueste', 'IDOTRR', 'Mitchel', 'Timber', 'MeadowV',\n",
       "       'Veenker'], dtype=object)"
      ]
     },
     "execution_count": 306,
     "metadata": {},
     "output_type": "execute_result"
    }
   ],
   "source": [
    "big_df[invest].unique()"
   ]
  },
  {
   "cell_type": "code",
   "execution_count": 308,
   "metadata": {
    "collapsed": false
   },
   "outputs": [],
   "source": [
    "gp.plot_avg( train_df, invest, 'SalePrice' )"
   ]
  },
  {
   "cell_type": "code",
   "execution_count": 321,
   "metadata": {
    "collapsed": false
   },
   "outputs": [],
   "source": [
    "gp.hist_plot( big_df, invest )"
   ]
  },
  {
   "cell_type": "code",
   "execution_count": null,
   "metadata": {
    "collapsed": true
   },
   "outputs": [],
   "source": []
  },
  {
   "cell_type": "code",
   "execution_count": 264,
   "metadata": {
    "collapsed": true
   },
   "outputs": [],
   "source": [
    "gp.corr_plot( train_df.ix[:200,['SalePrice','LotFrontage','LotArea','BsmtFinSF1','BsmtFinSF2','OpenPorchSF','EnclosedPorch']], focus='SalePrice')"
   ]
  },
  {
   "cell_type": "code",
   "execution_count": null,
   "metadata": {
    "collapsed": true
   },
   "outputs": [],
   "source": []
  }
 ],
 "metadata": {
  "kernelspec": {
   "display_name": "Python 2",
   "language": "python",
   "name": "python2"
  },
  "language_info": {
   "codemirror_mode": {
    "name": "ipython",
    "version": 2
   },
   "file_extension": ".py",
   "mimetype": "text/x-python",
   "name": "python",
   "nbconvert_exporter": "python",
   "pygments_lexer": "ipython2",
   "version": "2.7.13"
  }
 },
 "nbformat": 4,
 "nbformat_minor": 2
}
