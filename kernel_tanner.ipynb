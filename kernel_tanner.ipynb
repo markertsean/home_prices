{
 "cells": [
  {
   "cell_type": "code",
   "execution_count": 1,
   "metadata": {
    "collapsed": true
   },
   "outputs": [],
   "source": [
    "import numpy as np\n",
    "import pandas as pd\n",
    "import seaborn as sns\n",
    "\n",
    "import matplotlib.pyplot as plt\n",
    "\n",
    "import remap_values as rv\n",
    "import good_plots   as gp\n",
    "\n",
    "import cPickle"
   ]
  },
  {
   "cell_type": "code",
   "execution_count": 90,
   "metadata": {
    "collapsed": false,
    "scrolled": false
   },
   "outputs": [
    {
     "data": {
      "text/plain": [
       "<module 'remap_values' from 'remap_values.py'>"
      ]
     },
     "execution_count": 90,
     "metadata": {},
     "output_type": "execute_result"
    }
   ],
   "source": [
    "reload( rv )"
   ]
  },
  {
   "cell_type": "code",
   "execution_count": 91,
   "metadata": {
    "collapsed": false,
    "scrolled": true
   },
   "outputs": [],
   "source": [
    "train_df = pd.read_csv('inp_data/train.csv')\n",
    "test_df  = pd.read_csv('inp_data/test.csv')\n",
    "\n",
    "\n",
    "train_df, test_df = rv.run_tan( train_df, test_df )\n",
    "\n",
    "train_df = train_df.loc[ train_df['GrLivArea'] < 4000 ]"
   ]
  },
  {
   "cell_type": "code",
   "execution_count": 94,
   "metadata": {
    "collapsed": false
   },
   "outputs": [],
   "source": [
    "train_df, test_df = rv.norm_tan( train_df, test_df )"
   ]
  },
  {
   "cell_type": "code",
   "execution_count": 96,
   "metadata": {
    "collapsed": false
   },
   "outputs": [
    {
     "data": {
      "text/plain": [
       "0    5.319106\n",
       "1    5.258877\n",
       "2    5.349278\n",
       "3    5.146128\n",
       "4    5.397940\n",
       "Name: SalePrice, dtype: float64"
      ]
     },
     "execution_count": 96,
     "metadata": {},
     "output_type": "execute_result"
    }
   ],
   "source": [
    "train_df['SalePrice'].head()"
   ]
  },
  {
   "cell_type": "code",
   "execution_count": 3,
   "metadata": {
    "collapsed": true
   },
   "outputs": [],
   "source": [
    "big_df = train_df.drop( 'SalePrice', axis=1).append( test_df, ignore_index=True)"
   ]
  },
  {
   "cell_type": "code",
   "execution_count": null,
   "metadata": {
    "collapsed": true
   },
   "outputs": [],
   "source": []
  },
  {
   "cell_type": "code",
   "execution_count": 41,
   "metadata": {
    "collapsed": true
   },
   "outputs": [],
   "source": [
    "#PCA?\n",
    "#Preprocess?"
   ]
  },
  {
   "cell_type": "code",
   "execution_count": 179,
   "metadata": {
    "collapsed": true
   },
   "outputs": [
    {
     "name": "stdout",
     "output_type": "stream",
     "text": [
      "SalePrice           1.000000\n",
      "OverallQual         0.800837\n",
      "AreaInside          0.729597\n",
      "GrLivArea           0.720194\n",
      "GarageCars          0.650456\n",
      "TotalBsmtSF         0.647040\n",
      "GarageArea          0.638182\n",
      "NBath               0.636585\n",
      "1stFlrSF            0.626261\n",
      "NeighBin_4          0.574917\n",
      "TotRmsAbvGrd        0.536751\n",
      "YearBuilt           0.536327\n",
      "YearRemodAdd        0.521238\n",
      "MasVnrArea          0.474169\n",
      "Fireplaces          0.466000\n",
      "HeatingScale_4      0.441162\n",
      "BsmtFinType1_6      0.436844\n",
      "GarageFinish        0.421054\n",
      "HasOpenPorchSF      0.420057\n",
      "BsmtFinSF1          0.396542\n",
      "HasMasVnrArea       0.380866\n",
      "MSSubClass_60       0.373993\n",
      "HasMasVnr           0.373428\n",
      "PartialPlan         0.371902\n",
      "RecentRemodel       0.355081\n",
      "LotFrontage         0.338617\n",
      "OpenPorchSF         0.330585\n",
      "WoodDeckSF          0.329092\n",
      "BsmtExposure_4      0.308133\n",
      "HasWoodDeck         0.300442\n",
      "                      ...   \n",
      "BsmtFinType1_5     -0.103088\n",
      "NewerDwelling_2    -0.114604\n",
      "Fence_1            -0.115035\n",
      "MSSubClass_160     -0.115115\n",
      "NeighBin_0         -0.115675\n",
      "MSSubClass_90      -0.116998\n",
      "EnclosedPorch      -0.129199\n",
      "BsmtFinType1_4     -0.133908\n",
      "HeatingScale_3     -0.133987\n",
      "HeatingScale_1     -0.136886\n",
      "BsmtFinType1_3     -0.137529\n",
      "KitchenAbvGr       -0.138859\n",
      "Alley_2.0          -0.142511\n",
      "BsmtFinType2_0     -0.149077\n",
      "BsmtExposure_0     -0.154221\n",
      "BsmtFinType1_0     -0.156942\n",
      "MSSubClass_50      -0.159212\n",
      "Fence_2            -0.160446\n",
      "HasEnclosedPorch   -0.185536\n",
      "Foundation_0       -0.206059\n",
      "MSSubClass_30      -0.245381\n",
      "BsmtExposure_1     -0.261790\n",
      "NewerDwelling_1    -0.294733\n",
      "HeatingScale_2     -0.318948\n",
      "GarageType         -0.361627\n",
      "NeighBin_1         -0.436482\n",
      "YearSinceRemodel   -0.522929\n",
      "Age                -0.536327\n",
      "Functional_0             NaN\n",
      "MSSubClass_150           NaN\n",
      "dtype: float64\n"
     ]
    }
   ],
   "source": [
    "corr_series = train_df.corrwith( train_df['SalePrice'] ).sort_values( ascending=False )\n",
    "print corr_series"
   ]
  },
  {
   "cell_type": "code",
   "execution_count": 180,
   "metadata": {
    "collapsed": true
   },
   "outputs": [
    {
     "name": "stdout",
     "output_type": "stream",
     "text": [
      "1stFlrSF 3228\n",
      "2ndFlrSF 1818\n",
      "3SsnPorch 508\n",
      "Age 138\n",
      "AreaInside 3627\n",
      "BedroomAbvGr 8\n",
      "BsmtFinSF1 2188.0\n",
      "BsmtFinSF2 1474.0\n",
      "BsmtUnfSF 2336.0\n",
      "EnclosedPorch 552\n",
      "Fireplaces 3\n",
      "GarageArea 1390.0\n",
      "GarageCars 4.0\n",
      "GarageYrBlt 2010.0\n",
      "GrLivArea 3627\n",
      "Id 1456\n",
      "KitchenAbvGr 3\n",
      "LotArea 215245\n",
      "LotFrontage 313.0\n",
      "LowQualFinSF 572\n",
      "MSSubClass 190\n",
      "MasVnrArea 1600.0\n",
      "MiscVal 15500\n",
      "MoSold 12\n",
      "NBath 6.0\n",
      "OpenPorchSF 547\n",
      "OverallCond 9\n",
      "OverallQual 10\n",
      "PoolArea 738\n",
      "SalePrice 625000\n",
      "ScreenPorch 480\n",
      "TimeSinceSold 4\n",
      "TotRmsAbvGrd 14\n",
      "TotalBsmtSF 3206.0\n",
      "WoodDeckSF 857\n",
      "YearBuilt 2010\n",
      "YearRemodAdd 2010\n",
      "YearSinceRemodel 60\n",
      "YrSold 2010\n"
     ]
    }
   ],
   "source": [
    "col_list   = big_df.columns.values\n",
    "large_list = []\n",
    "for col in col_list:\n",
    "    if ( big_df[col].unique().shape[0] > 2 ):\n",
    "        print col, train_df[col].max()"
   ]
  },
  {
   "cell_type": "code",
   "execution_count": 181,
   "metadata": {
    "collapsed": true
   },
   "outputs": [
    {
     "name": "stdout",
     "output_type": "stream",
     "text": [
      "Alley_0.0 1\n",
      "Alley_1.0 1\n",
      "Alley_2.0 1\n",
      "BsmtExposure_0 1\n",
      "BsmtExposure_1 1\n",
      "BsmtExposure_2 1\n",
      "BsmtExposure_3 1\n",
      "BsmtExposure_4 1\n",
      "BsmtFinType1_0 1\n",
      "BsmtFinType1_1 1\n",
      "BsmtFinType1_2 1\n",
      "BsmtFinType1_3 1\n",
      "BsmtFinType1_4 1\n",
      "BsmtFinType1_5 1\n",
      "BsmtFinType1_6 1\n",
      "BsmtFinType2_0 1\n",
      "BsmtFinType2_1 1\n",
      "BsmtFinType2_2 1\n",
      "BsmtFinType2_3 1\n",
      "BsmtFinType2_4 1\n",
      "BsmtFinType2_5 1\n",
      "BsmtFinType2_6 1\n",
      "Electrical 1\n",
      "Fence_0 1\n",
      "Fence_1 1\n",
      "Fence_2 1\n",
      "Fence_4 1\n",
      "Foundation_0 1\n",
      "Foundation_1 1\n",
      "Foundation_2 1\n",
      "Functional_0 0\n",
      "Functional_2 1\n",
      "Functional_3 1\n",
      "Functional_4 1\n",
      "Functional_5 1\n",
      "Functional_6 1\n",
      "Functional_7 1\n",
      "Functional_8 1\n",
      "GarageFinish 1\n",
      "GarageType 1\n",
      "Has2ndFlr 1\n",
      "Has2ndFlrSF 1\n",
      "Has3SsnPorch 1\n",
      "HasEnclosedPorch 1\n",
      "HasMasVnr 1\n",
      "HasMasVnrArea 1\n",
      "HasOpenPorchSF 1\n",
      "HasScreenPorch 1\n",
      "HasWoodDeck 1\n",
      "HasWoodDeckSF 1\n",
      "HeatingScale_0 1\n",
      "HeatingScale_1 1\n",
      "HeatingScale_2 1\n",
      "HeatingScale_3 1\n",
      "HeatingScale_4 1\n",
      "HighSeason 1\n",
      "LandSlope 1\n",
      "LotConfig_0 1\n",
      "LotConfig_1 1\n",
      "LotConfig_2 1\n",
      "LotConfig_3 1\n",
      "LotConfig_4 1\n",
      "MSSubClass_120 1\n",
      "MSSubClass_150 0\n",
      "MSSubClass_160 1\n",
      "MSSubClass_180 1\n",
      "MSSubClass_190 1\n",
      "MSSubClass_20 1\n",
      "MSSubClass_30 1\n",
      "MSSubClass_40 1\n",
      "MSSubClass_45 1\n",
      "MSSubClass_50 1\n",
      "MSSubClass_60 1\n",
      "MSSubClass_70 1\n",
      "MSSubClass_75 1\n",
      "MSSubClass_80 1\n",
      "MSSubClass_85 1\n",
      "MSSubClass_90 1\n",
      "MiscFeature 1\n",
      "NeighBin_0 1\n",
      "NeighBin_1 1\n",
      "NeighBin_2 1\n",
      "NeighBin_3 1\n",
      "NeighBin_4 1\n",
      "NewHouse 1\n",
      "NewerDwelling_0 1\n",
      "NewerDwelling_1 1\n",
      "NewerDwelling_2 1\n",
      "NewerDwelling_3 1\n",
      "NewerDwelling_4 1\n",
      "PartialPlan 1\n",
      "PavedDrive 1\n",
      "RecentRemodel 1\n",
      "Remodeled 1\n",
      "Street 1\n"
     ]
    }
   ],
   "source": [
    "col_list   = big_df.columns.values\n",
    "large_list = []\n",
    "for col in col_list:\n",
    "    if ( big_df[col].unique().shape[0] < 3 ):\n",
    "        print col, train_df[col].max()"
   ]
  },
  {
   "cell_type": "code",
   "execution_count": null,
   "metadata": {
    "collapsed": true
   },
   "outputs": [],
   "source": []
  },
  {
   "cell_type": "code",
   "execution_count": null,
   "metadata": {
    "collapsed": true
   },
   "outputs": [],
   "source": []
  },
  {
   "cell_type": "code",
   "execution_count": 182,
   "metadata": {
    "collapsed": true
   },
   "outputs": [],
   "source": [
    "invest = 'PoolQC'"
   ]
  },
  {
   "cell_type": "code",
   "execution_count": 183,
   "metadata": {
    "collapsed": true
   },
   "outputs": [
    {
     "ename": "KeyError",
     "evalue": "'PoolQC'",
     "output_type": "error",
     "traceback": [
      "\u001b[0;31m---------------------------------------------------------------------------\u001b[0m",
      "\u001b[0;31mKeyError\u001b[0m                                  Traceback (most recent call last)",
      "\u001b[0;32m<ipython-input-183-c3f14ec268a3>\u001b[0m in \u001b[0;36m<module>\u001b[0;34m()\u001b[0m\n\u001b[0;32m----> 1\u001b[0;31m \u001b[0mbig_df\u001b[0m\u001b[0;34m[\u001b[0m\u001b[0minvest\u001b[0m\u001b[0;34m]\u001b[0m\u001b[0;34m.\u001b[0m\u001b[0munique\u001b[0m\u001b[0;34m(\u001b[0m\u001b[0;34m)\u001b[0m\u001b[0;34m\u001b[0m\u001b[0m\n\u001b[0m",
      "\u001b[0;32m/home/sean/anaconda/lib/python2.7/site-packages/pandas/core/frame.pyc\u001b[0m in \u001b[0;36m__getitem__\u001b[0;34m(self, key)\u001b[0m\n\u001b[1;32m   2057\u001b[0m             \u001b[0;32mreturn\u001b[0m \u001b[0mself\u001b[0m\u001b[0;34m.\u001b[0m\u001b[0m_getitem_multilevel\u001b[0m\u001b[0;34m(\u001b[0m\u001b[0mkey\u001b[0m\u001b[0;34m)\u001b[0m\u001b[0;34m\u001b[0m\u001b[0m\n\u001b[1;32m   2058\u001b[0m         \u001b[0;32melse\u001b[0m\u001b[0;34m:\u001b[0m\u001b[0;34m\u001b[0m\u001b[0m\n\u001b[0;32m-> 2059\u001b[0;31m             \u001b[0;32mreturn\u001b[0m \u001b[0mself\u001b[0m\u001b[0;34m.\u001b[0m\u001b[0m_getitem_column\u001b[0m\u001b[0;34m(\u001b[0m\u001b[0mkey\u001b[0m\u001b[0;34m)\u001b[0m\u001b[0;34m\u001b[0m\u001b[0m\n\u001b[0m\u001b[1;32m   2060\u001b[0m \u001b[0;34m\u001b[0m\u001b[0m\n\u001b[1;32m   2061\u001b[0m     \u001b[0;32mdef\u001b[0m \u001b[0m_getitem_column\u001b[0m\u001b[0;34m(\u001b[0m\u001b[0mself\u001b[0m\u001b[0;34m,\u001b[0m \u001b[0mkey\u001b[0m\u001b[0;34m)\u001b[0m\u001b[0;34m:\u001b[0m\u001b[0;34m\u001b[0m\u001b[0m\n",
      "\u001b[0;32m/home/sean/anaconda/lib/python2.7/site-packages/pandas/core/frame.pyc\u001b[0m in \u001b[0;36m_getitem_column\u001b[0;34m(self, key)\u001b[0m\n\u001b[1;32m   2064\u001b[0m         \u001b[0;31m# get column\u001b[0m\u001b[0;34m\u001b[0m\u001b[0;34m\u001b[0m\u001b[0m\n\u001b[1;32m   2065\u001b[0m         \u001b[0;32mif\u001b[0m \u001b[0mself\u001b[0m\u001b[0;34m.\u001b[0m\u001b[0mcolumns\u001b[0m\u001b[0;34m.\u001b[0m\u001b[0mis_unique\u001b[0m\u001b[0;34m:\u001b[0m\u001b[0;34m\u001b[0m\u001b[0m\n\u001b[0;32m-> 2066\u001b[0;31m             \u001b[0;32mreturn\u001b[0m \u001b[0mself\u001b[0m\u001b[0;34m.\u001b[0m\u001b[0m_get_item_cache\u001b[0m\u001b[0;34m(\u001b[0m\u001b[0mkey\u001b[0m\u001b[0;34m)\u001b[0m\u001b[0;34m\u001b[0m\u001b[0m\n\u001b[0m\u001b[1;32m   2067\u001b[0m \u001b[0;34m\u001b[0m\u001b[0m\n\u001b[1;32m   2068\u001b[0m         \u001b[0;31m# duplicate columns & possible reduce dimensionality\u001b[0m\u001b[0;34m\u001b[0m\u001b[0;34m\u001b[0m\u001b[0m\n",
      "\u001b[0;32m/home/sean/anaconda/lib/python2.7/site-packages/pandas/core/generic.pyc\u001b[0m in \u001b[0;36m_get_item_cache\u001b[0;34m(self, item)\u001b[0m\n\u001b[1;32m   1384\u001b[0m         \u001b[0mres\u001b[0m \u001b[0;34m=\u001b[0m \u001b[0mcache\u001b[0m\u001b[0;34m.\u001b[0m\u001b[0mget\u001b[0m\u001b[0;34m(\u001b[0m\u001b[0mitem\u001b[0m\u001b[0;34m)\u001b[0m\u001b[0;34m\u001b[0m\u001b[0m\n\u001b[1;32m   1385\u001b[0m         \u001b[0;32mif\u001b[0m \u001b[0mres\u001b[0m \u001b[0;32mis\u001b[0m \u001b[0mNone\u001b[0m\u001b[0;34m:\u001b[0m\u001b[0;34m\u001b[0m\u001b[0m\n\u001b[0;32m-> 1386\u001b[0;31m             \u001b[0mvalues\u001b[0m \u001b[0;34m=\u001b[0m \u001b[0mself\u001b[0m\u001b[0;34m.\u001b[0m\u001b[0m_data\u001b[0m\u001b[0;34m.\u001b[0m\u001b[0mget\u001b[0m\u001b[0;34m(\u001b[0m\u001b[0mitem\u001b[0m\u001b[0;34m)\u001b[0m\u001b[0;34m\u001b[0m\u001b[0m\n\u001b[0m\u001b[1;32m   1387\u001b[0m             \u001b[0mres\u001b[0m \u001b[0;34m=\u001b[0m \u001b[0mself\u001b[0m\u001b[0;34m.\u001b[0m\u001b[0m_box_item_values\u001b[0m\u001b[0;34m(\u001b[0m\u001b[0mitem\u001b[0m\u001b[0;34m,\u001b[0m \u001b[0mvalues\u001b[0m\u001b[0;34m)\u001b[0m\u001b[0;34m\u001b[0m\u001b[0m\n\u001b[1;32m   1388\u001b[0m             \u001b[0mcache\u001b[0m\u001b[0;34m[\u001b[0m\u001b[0mitem\u001b[0m\u001b[0;34m]\u001b[0m \u001b[0;34m=\u001b[0m \u001b[0mres\u001b[0m\u001b[0;34m\u001b[0m\u001b[0m\n",
      "\u001b[0;32m/home/sean/anaconda/lib/python2.7/site-packages/pandas/core/internals.pyc\u001b[0m in \u001b[0;36mget\u001b[0;34m(self, item, fastpath)\u001b[0m\n\u001b[1;32m   3541\u001b[0m \u001b[0;34m\u001b[0m\u001b[0m\n\u001b[1;32m   3542\u001b[0m             \u001b[0;32mif\u001b[0m \u001b[0;32mnot\u001b[0m \u001b[0misnull\u001b[0m\u001b[0;34m(\u001b[0m\u001b[0mitem\u001b[0m\u001b[0;34m)\u001b[0m\u001b[0;34m:\u001b[0m\u001b[0;34m\u001b[0m\u001b[0m\n\u001b[0;32m-> 3543\u001b[0;31m                 \u001b[0mloc\u001b[0m \u001b[0;34m=\u001b[0m \u001b[0mself\u001b[0m\u001b[0;34m.\u001b[0m\u001b[0mitems\u001b[0m\u001b[0;34m.\u001b[0m\u001b[0mget_loc\u001b[0m\u001b[0;34m(\u001b[0m\u001b[0mitem\u001b[0m\u001b[0;34m)\u001b[0m\u001b[0;34m\u001b[0m\u001b[0m\n\u001b[0m\u001b[1;32m   3544\u001b[0m             \u001b[0;32melse\u001b[0m\u001b[0;34m:\u001b[0m\u001b[0;34m\u001b[0m\u001b[0m\n\u001b[1;32m   3545\u001b[0m                 \u001b[0mindexer\u001b[0m \u001b[0;34m=\u001b[0m \u001b[0mnp\u001b[0m\u001b[0;34m.\u001b[0m\u001b[0marange\u001b[0m\u001b[0;34m(\u001b[0m\u001b[0mlen\u001b[0m\u001b[0;34m(\u001b[0m\u001b[0mself\u001b[0m\u001b[0;34m.\u001b[0m\u001b[0mitems\u001b[0m\u001b[0;34m)\u001b[0m\u001b[0;34m)\u001b[0m\u001b[0;34m[\u001b[0m\u001b[0misnull\u001b[0m\u001b[0;34m(\u001b[0m\u001b[0mself\u001b[0m\u001b[0;34m.\u001b[0m\u001b[0mitems\u001b[0m\u001b[0;34m)\u001b[0m\u001b[0;34m]\u001b[0m\u001b[0;34m\u001b[0m\u001b[0m\n",
      "\u001b[0;32m/home/sean/anaconda/lib/python2.7/site-packages/pandas/indexes/base.pyc\u001b[0m in \u001b[0;36mget_loc\u001b[0;34m(self, key, method, tolerance)\u001b[0m\n\u001b[1;32m   2134\u001b[0m                 \u001b[0;32mreturn\u001b[0m \u001b[0mself\u001b[0m\u001b[0;34m.\u001b[0m\u001b[0m_engine\u001b[0m\u001b[0;34m.\u001b[0m\u001b[0mget_loc\u001b[0m\u001b[0;34m(\u001b[0m\u001b[0mkey\u001b[0m\u001b[0;34m)\u001b[0m\u001b[0;34m\u001b[0m\u001b[0m\n\u001b[1;32m   2135\u001b[0m             \u001b[0;32mexcept\u001b[0m \u001b[0mKeyError\u001b[0m\u001b[0;34m:\u001b[0m\u001b[0;34m\u001b[0m\u001b[0m\n\u001b[0;32m-> 2136\u001b[0;31m                 \u001b[0;32mreturn\u001b[0m \u001b[0mself\u001b[0m\u001b[0;34m.\u001b[0m\u001b[0m_engine\u001b[0m\u001b[0;34m.\u001b[0m\u001b[0mget_loc\u001b[0m\u001b[0;34m(\u001b[0m\u001b[0mself\u001b[0m\u001b[0;34m.\u001b[0m\u001b[0m_maybe_cast_indexer\u001b[0m\u001b[0;34m(\u001b[0m\u001b[0mkey\u001b[0m\u001b[0;34m)\u001b[0m\u001b[0;34m)\u001b[0m\u001b[0;34m\u001b[0m\u001b[0m\n\u001b[0m\u001b[1;32m   2137\u001b[0m \u001b[0;34m\u001b[0m\u001b[0m\n\u001b[1;32m   2138\u001b[0m         \u001b[0mindexer\u001b[0m \u001b[0;34m=\u001b[0m \u001b[0mself\u001b[0m\u001b[0;34m.\u001b[0m\u001b[0mget_indexer\u001b[0m\u001b[0;34m(\u001b[0m\u001b[0;34m[\u001b[0m\u001b[0mkey\u001b[0m\u001b[0;34m]\u001b[0m\u001b[0;34m,\u001b[0m \u001b[0mmethod\u001b[0m\u001b[0;34m=\u001b[0m\u001b[0mmethod\u001b[0m\u001b[0;34m,\u001b[0m \u001b[0mtolerance\u001b[0m\u001b[0;34m=\u001b[0m\u001b[0mtolerance\u001b[0m\u001b[0;34m)\u001b[0m\u001b[0;34m\u001b[0m\u001b[0m\n",
      "\u001b[0;32mpandas/index.pyx\u001b[0m in \u001b[0;36mpandas.index.IndexEngine.get_loc (pandas/index.c:4433)\u001b[0;34m()\u001b[0m\n",
      "\u001b[0;32mpandas/index.pyx\u001b[0m in \u001b[0;36mpandas.index.IndexEngine.get_loc (pandas/index.c:4279)\u001b[0;34m()\u001b[0m\n",
      "\u001b[0;32mpandas/src/hashtable_class_helper.pxi\u001b[0m in \u001b[0;36mpandas.hashtable.PyObjectHashTable.get_item (pandas/hashtable.c:13742)\u001b[0;34m()\u001b[0m\n",
      "\u001b[0;32mpandas/src/hashtable_class_helper.pxi\u001b[0m in \u001b[0;36mpandas.hashtable.PyObjectHashTable.get_item (pandas/hashtable.c:13696)\u001b[0;34m()\u001b[0m\n",
      "\u001b[0;31mKeyError\u001b[0m: 'PoolQC'"
     ]
    }
   ],
   "source": [
    "big_df[invest].unique()"
   ]
  },
  {
   "cell_type": "code",
   "execution_count": 86,
   "metadata": {
    "collapsed": false
   },
   "outputs": [],
   "source": [
    "gp.plot_avg( train_df, invest, 'SalePrice' )"
   ]
  },
  {
   "cell_type": "code",
   "execution_count": 74,
   "metadata": {
    "collapsed": false
   },
   "outputs": [],
   "source": [
    "gp.hist_plot( big_df, invest )"
   ]
  },
  {
   "cell_type": "code",
   "execution_count": null,
   "metadata": {
    "collapsed": true
   },
   "outputs": [],
   "source": []
  },
  {
   "cell_type": "code",
   "execution_count": null,
   "metadata": {
    "collapsed": true
   },
   "outputs": [],
   "source": []
  }
 ],
 "metadata": {
  "kernelspec": {
   "display_name": "Python 2",
   "language": "python",
   "name": "python2"
  },
  "language_info": {
   "codemirror_mode": {
    "name": "ipython",
    "version": 2
   },
   "file_extension": ".py",
   "mimetype": "text/x-python",
   "name": "python",
   "nbconvert_exporter": "python",
   "pygments_lexer": "ipython2",
   "version": "2.7.13"
  }
 },
 "nbformat": 4,
 "nbformat_minor": 2
}
