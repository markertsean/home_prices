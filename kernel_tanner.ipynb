{
 "cells": [
  {
   "cell_type": "code",
   "execution_count": 1,
   "metadata": {
    "collapsed": true
   },
   "outputs": [],
   "source": [
    "import numpy as np\n",
    "import pandas as pd\n",
    "import seaborn as sns\n",
    "\n",
    "import matplotlib.pyplot as plt\n",
    "\n",
    "import remap_values as rv\n",
    "import good_plots   as gp\n",
    "\n",
    "import cPickle"
   ]
  },
  {
   "cell_type": "code",
   "execution_count": 2,
   "metadata": {
    "collapsed": false
   },
   "outputs": [
    {
     "name": "stderr",
     "output_type": "stream",
     "text": [
      "remap_values.py:554: UserWarning: Boolean Series key will be reindexed to match DataFrame index.\n",
      "  inds = df[ df['PoolQC'].isnull() ][ df['PoolArea'] > 0 ].index\n"
     ]
    }
   ],
   "source": [
    "train_df = pd.read_csv('inp_data/train.csv')\n",
    "test_df  = pd.read_csv('inp_data/test.csv')\n",
    "\n",
    "train_df, test_df = rv.run_tan( train_df, test_df )"
   ]
  },
  {
   "cell_type": "code",
   "execution_count": 3,
   "metadata": {
    "collapsed": true
   },
   "outputs": [],
   "source": [
    "big_df = train_df.drop( 'SalePrice', axis=1).append( test_df, ignore_index=True)"
   ]
  },
  {
   "cell_type": "code",
   "execution_count": null,
   "metadata": {
    "collapsed": true
   },
   "outputs": [],
   "source": []
  },
  {
   "cell_type": "code",
   "execution_count": 4,
   "metadata": {
    "collapsed": false
   },
   "outputs": [],
   "source": [
    "num_df = train_df.ix[:, train_df.dtypes==float ].copy()\n",
    "num_df = num_df.join( train_df.ix[:, train_df.dtypes==int ], how='inner'  ).copy()"
   ]
  },
  {
   "cell_type": "code",
   "execution_count": 5,
   "metadata": {
    "collapsed": false
   },
   "outputs": [],
   "source": [
    "cat_df = train_df.ix[:, train_df.dtypes=='O'].copy()"
   ]
  },
  {
   "cell_type": "code",
   "execution_count": null,
   "metadata": {
    "collapsed": true
   },
   "outputs": [],
   "source": []
  },
  {
   "cell_type": "code",
   "execution_count": 6,
   "metadata": {
    "collapsed": false
   },
   "outputs": [],
   "source": [
    "qual_cols = ['ExterQual', 'ExterCond', 'GarageQual', 'GarageCond', 'FireplaceQu', 'KitchenQual', 'HeatingQC', 'BsmtQual']\n",
    "qual_map  = {'None': 0, 'Po': 1, 'Fa': 2, 'TA': 3, 'Gd': 4, 'Ex': 5}\n",
    "\n",
    "for col in qual_cols:\n",
    "    num_df[col] = cat_df[col].replace( qual_map )"
   ]
  },
  {
   "cell_type": "code",
   "execution_count": 7,
   "metadata": {
    "collapsed": true
   },
   "outputs": [],
   "source": [
    "expo_map = {'None': 0, 'No': 1, 'Mn': 2, 'Av': 3, 'Gd': 4}\n",
    "num_df['BsmtExposure'] = cat_df['BsmtExposure'].replace( expo_map )"
   ]
  },
  {
   "cell_type": "code",
   "execution_count": 9,
   "metadata": {
    "collapsed": false
   },
   "outputs": [],
   "source": [
    "bfin_map = {'None': 1, 'Unf': 1, 'LwQ': 2,'Rec': 3, 'BLQ': 4, 'ALQ': 5, 'GLQ': 6}\n",
    "num_df['BsmtFinType1'] = cat_df['BsmtFinType1'].replace( bfin_map )\n",
    "num_df['BsmtFinType2'] = cat_df['BsmtFinType2'].replace( bfin_map )"
   ]
  },
  {
   "cell_type": "code",
   "execution_count": 10,
   "metadata": {
    "collapsed": true
   },
   "outputs": [],
   "source": [
    "func_map = {'None': 0, 'Sal': 1, 'Sev': 2, 'Maj2': 3, 'Maj1': 4, 'Mod': 5, 'Min2': 6, 'Min1': 7, 'Typ': 8}\n",
    "num_df['Functional'] = cat_df['Functional'].replace( func_map )"
   ]
  },
  {
   "cell_type": "code",
   "execution_count": 11,
   "metadata": {
    "collapsed": true
   },
   "outputs": [],
   "source": [
    "gfin_map = {'None': 1,'Unf': 1, 'RFn': 1, 'Fin': 2}\n",
    "num_df['GarageFinish'] = cat_df['GarageFinish'].replace( gfin_map )"
   ]
  },
  {
   "cell_type": "code",
   "execution_count": 12,
   "metadata": {
    "collapsed": true
   },
   "outputs": [],
   "source": [
    "fence_map = {'None': 1, 'MnWw': 1, 'GdWo': 1, 'MnPrv': 2, 'GdPrv': 4}\n",
    "num_df['Fence'] = cat_df['Fence'].replace( fence_map )"
   ]
  },
  {
   "cell_type": "code",
   "execution_count": 68,
   "metadata": {
    "collapsed": false
   },
   "outputs": [],
   "source": [
    "MSd_map = {'20': 1, '30': 0, '40': 0, '45': 0,'50': 0, '60': 1, '70': 0, '75': 0, '80': 0, \n",
    "           '85': 0, '90': 0, '120': 1, '150': 0, '160': 0, '180': 0, '190': 0}\n",
    "\n",
    "num_df['NewerDwelling'] = cat_df['MSZoning'].replace( {'RL':0, 'RM':1, 'C (all)':2, 'FV':3, 'RH':4} )"
   ]
  },
  {
   "cell_type": "code",
   "execution_count": 18,
   "metadata": {
    "collapsed": true
   },
   "outputs": [],
   "source": [
    "manual_cols = ['BsmtExposure','BsmtFinType1','BsmtFinType2','Functional','GarageFinish','Fence','NewerDwelling']"
   ]
  },
  {
   "cell_type": "code",
   "execution_count": null,
   "metadata": {
    "collapsed": true
   },
   "outputs": [],
   "source": []
  },
  {
   "cell_type": "code",
   "execution_count": 15,
   "metadata": {
    "collapsed": true
   },
   "outputs": [],
   "source": [
    "binarize = ['LotShape','LandContour','LandSlope','Electrical','GarageType','PavedDrive','MiscFeature']"
   ]
  },
  {
   "cell_type": "code",
   "execution_count": 14,
   "metadata": {
    "collapsed": false
   },
   "outputs": [],
   "source": [
    "# Alter pretty binary categories so just regular/irregular, 0 reg 1 irreg\n",
    "num_df['LotShape']    = (cat_df['LotShape'   ] == 'Reg'   ) * 1\n",
    "num_df['LandContour'] = (cat_df['LandContour'] == 'Lvl'   ) * 1\n",
    "num_df['LandSlope'  ] = (cat_df['LandSlope'  ] == 'Gtl'   ) * 1\n",
    "num_df['Electrical' ] = (cat_df['Electrical' ] == 'SBrkr' ) * 1\n",
    "num_df['GarageType' ] = (cat_df['GarageType' ] == 'Detchd') * 1\n",
    "num_df['PavedDrive' ] = (cat_df['PavedDrive' ] == 'Y'     ) * 1\n",
    "num_df['MiscFeature'] = (cat_df['MiscFeature'] == 'Shed'  ) * 1"
   ]
  },
  {
   "cell_type": "code",
   "execution_count": 16,
   "metadata": {
    "collapsed": true
   },
   "outputs": [],
   "source": [
    "num_df['HasWoodDeck']   = (num_df['WoodDeckSF'  ] > 0) * 1\n",
    "num_df['Has2ndFlr']     = (num_df['2ndFlrSF'    ] > 0) * 1\n",
    "num_df['HasMasVnr']     = (num_df['MasVnrArea'  ] > 0) * 1\n",
    "num_df['Remodeled']     = (num_df['YearBuilt'   ] != num_df['YearRemodAdd']) * 1\n",
    "num_df['RecentRemodel'] = (num_df['YearRemodAdd'] >= num_df['YrSold'      ]) * 1\n",
    "num_df['NewHouse']      = (num_df['YearBuilt'   ] == num_df['YrSold'      ]) * 1"
   ]
  },
  {
   "cell_type": "code",
   "execution_count": 17,
   "metadata": {
    "collapsed": true
   },
   "outputs": [],
   "source": [
    "binarize2 = ['2ndFlrSF', 'MasVnrArea', 'WoodDeckSF', 'OpenPorchSF', 'EnclosedPorch', '3SsnPorch', 'ScreenPorch']\n",
    "\n",
    "for col in binarize2:\n",
    "  num_df['Has'+col] = (num_df[col] != 0) * 1"
   ]
  },
  {
   "cell_type": "code",
   "execution_count": 29,
   "metadata": {
    "collapsed": false
   },
   "outputs": [],
   "source": [
    "num_df['HighSeason'] = ((num_df['MoSold'] >= 5) & (num_df['MoSold'] <= 7) ) * 1"
   ]
  },
  {
   "cell_type": "code",
   "execution_count": 32,
   "metadata": {
    "collapsed": true
   },
   "outputs": [],
   "source": [
    "neigh_map = {'MeadowV': 0, 'IDOTRR' : 1, 'Sawyer' : 1, 'BrDale' : 1, 'OldTown': 1, 'Edwards': 1, \n",
    "             'BrkSide': 1, 'Blueste': 1, 'SWISU'  : 2, 'NAmes'  : 2, 'NPkVill': 2, 'Mitchel': 2,\n",
    "             'SawyerW': 2, 'Gilbert': 2, 'NWAmes' : 2, 'Blmngtn': 2, 'CollgCr': 2, 'ClearCr': 3, \n",
    "             'Crawfor': 3, 'Veenker': 3, 'Somerst': 3, 'Timber' : 3, 'StoneBr': 4, 'NoRidge': 4, \n",
    "             'NridgHt': 4}\n",
    "num_df['NeighBin'] = cat_df['Neighborhood'].replace( neigh_map )"
   ]
  },
  {
   "cell_type": "code",
   "execution_count": 33,
   "metadata": {
    "collapsed": true
   },
   "outputs": [],
   "source": [
    "num_df['PartialPlan'] = (cat_df['SaleCondition'] == 'Partial') * 1"
   ]
  },
  {
   "cell_type": "code",
   "execution_count": 34,
   "metadata": {
    "collapsed": true
   },
   "outputs": [],
   "source": [
    "heat_map = {'Po': 0, 'Fa': 1, 'TA': 2, 'Gd': 3, 'Ex': 4}\n",
    "\n",
    "num_df['HeatingScale'] = cat_df['HeatingQC'].replace( heat_map )"
   ]
  },
  {
   "cell_type": "code",
   "execution_count": 35,
   "metadata": {
    "collapsed": true
   },
   "outputs": [],
   "source": [
    "num_df['AreaInside'] = num_df['1stFlrSF'] + num_df['2ndFlrSF']"
   ]
  },
  {
   "cell_type": "code",
   "execution_count": 36,
   "metadata": {
    "collapsed": true
   },
   "outputs": [],
   "source": [
    "num_df['Age']              =             2010 - num_df['YearBuilt']\n",
    "num_df['TimeSinceSold']    =             2010 - num_df['YrSold']\n",
    "num_df['YearSinceRemodel'] = num_df['YrSold'] - num_df['YearRemodAdd']"
   ]
  },
  {
   "cell_type": "code",
   "execution_count": null,
   "metadata": {
    "collapsed": true
   },
   "outputs": [],
   "source": []
  },
  {
   "cell_type": "code",
   "execution_count": 40,
   "metadata": {
    "collapsed": false
   },
   "outputs": [],
   "source": [
    "#\n",
    "# ONLY TRAIN\n",
    "#\n",
    "num_df = num_df[ num_df['GrLivArea'] < 4000 ]"
   ]
  },
  {
   "cell_type": "code",
   "execution_count": null,
   "metadata": {
    "collapsed": true
   },
   "outputs": [],
   "source": []
  },
  {
   "cell_type": "code",
   "execution_count": 41,
   "metadata": {
    "collapsed": true
   },
   "outputs": [],
   "source": [
    "#PCA?\n",
    "#Preprocess?"
   ]
  },
  {
   "cell_type": "code",
   "execution_count": 72,
   "metadata": {
    "collapsed": false,
    "scrolled": false
   },
   "outputs": [
    {
     "name": "stdout",
     "output_type": "stream",
     "text": [
      "Index([u'LotFrontage', u'MasVnrArea', u'GarageYrBlt', u'Id', u'MSSubClass',\n",
      "       u'LotArea', u'OverallQual', u'OverallCond', u'YearBuilt',\n",
      "       u'YearRemodAdd', u'BsmtFinSF1', u'BsmtFinSF2', u'BsmtUnfSF',\n",
      "       u'TotalBsmtSF', u'1stFlrSF', u'2ndFlrSF', u'LowQualFinSF', u'GrLivArea',\n",
      "       u'BsmtFullBath', u'BsmtHalfBath', u'FullBath', u'HalfBath',\n",
      "       u'BedroomAbvGr', u'KitchenAbvGr', u'TotRmsAbvGrd', u'Fireplaces',\n",
      "       u'GarageCars', u'GarageArea', u'WoodDeckSF', u'OpenPorchSF',\n",
      "       u'EnclosedPorch', u'3SsnPorch', u'ScreenPorch', u'PoolArea', u'MiscVal',\n",
      "       u'MoSold', u'YrSold', u'SalePrice', u'ExterQual', u'ExterCond',\n",
      "       u'GarageQual', u'GarageCond', u'FireplaceQu', u'KitchenQual',\n",
      "       u'HeatingQC', u'BsmtQual', u'BsmtExposure', u'BsmtFinType1',\n",
      "       u'BsmtFinType2', u'Functional', u'GarageFinish', u'Fence',\n",
      "       u'NewerDwelling', u'LotShape', u'LandContour', u'LandSlope',\n",
      "       u'Electrical', u'GarageType', u'PavedDrive', u'MiscFeature',\n",
      "       u'HasWoodDeck', u'Has2ndFlr', u'HasMasVnr', u'Remodeled',\n",
      "       u'RecentRemodel', u'NewHouse', u'Has2ndFlrSF', u'HasMasVnrArea',\n",
      "       u'HasWoodDeckSF', u'HasOpenPorchSF', u'HasEnclosedPorch',\n",
      "       u'Has3SsnPorch', u'HasScreenPorch', u'HighSeason', u'NeighBin',\n",
      "       u'PartialPlan', u'HeatingScale', u'AreaInside', u'Age',\n",
      "       u'TimeSinceSold', u'YearSinceRemodel'],\n",
      "      dtype='object')\n"
     ]
    }
   ],
   "source": [
    "col_list = num_df.columns\n",
    "print num_df.columns"
   ]
  },
  {
   "cell_type": "code",
   "execution_count": 71,
   "metadata": {
    "collapsed": false,
    "scrolled": true
   },
   "outputs": [],
   "source": [
    "corr_series = num_df.corrwith( num_df['SalePrice'] ).sort_values( ascending=False )"
   ]
  },
  {
   "cell_type": "code",
   "execution_count": 86,
   "metadata": {
    "collapsed": true
   },
   "outputs": [],
   "source": [
    "# Already binary\n",
    "binary_class = ['GarageFinish','LotShape','LandContour','LandSlope','Electrical','GarageType','PavedDrive',\n",
    "                'MiscFeature','HasWoodDeck','Has2ndFlr','HasMasVnr','Remodeled','RecentRemodel','NewHouse',\n",
    "                'Has2ndFlrSF','HasMasVnrArea','HasWoodDeckSF','HasOpenPorchSF','HasEnclosedPorch',\n",
    "                'Has3SsnPorch','HasScreenPorch','HighSeason','PartialPlan']"
   ]
  },
  {
   "cell_type": "code",
   "execution_count": 91,
   "metadata": {
    "collapsed": true
   },
   "outputs": [],
   "source": [
    "# Need to make binary\n",
    "to_bin_class = ['BsmtExposure','BsmtFinType1','BsmtFinType2','Functional','Fence','NewerDwelling','NeighBin','HeatingScale','MSSubClass']"
   ]
  },
  {
   "cell_type": "code",
   "execution_count": 90,
   "metadata": {
    "collapsed": true
   },
   "outputs": [],
   "source": [
    "num_df['NBath'] = num_df['BsmtFullBath'] + num_df['BsmtHalfBath']*0.5 + num_df['FullBath'] + num_df['HalfBath']*0.5\n",
    "num_df = num_df.drop( ['BsmtFullBath','BsmtHalfBath','FullBath','HalfBath'], axis=1 )"
   ]
  },
  {
   "cell_type": "code",
   "execution_count": null,
   "metadata": {
    "collapsed": true
   },
   "outputs": [],
   "source": []
  }
 ],
 "metadata": {
  "kernelspec": {
   "display_name": "Python 2",
   "language": "python",
   "name": "python2"
  },
  "language_info": {
   "codemirror_mode": {
    "name": "ipython",
    "version": 2
   },
   "file_extension": ".py",
   "mimetype": "text/x-python",
   "name": "python",
   "nbconvert_exporter": "python",
   "pygments_lexer": "ipython2",
   "version": "2.7.13"
  }
 },
 "nbformat": 4,
 "nbformat_minor": 2
}
