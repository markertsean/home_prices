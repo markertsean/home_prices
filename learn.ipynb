{
 "cells": [
  {
   "cell_type": "code",
   "execution_count": 1,
   "metadata": {
    "collapsed": false
   },
   "outputs": [],
   "source": [
    "import numpy as np\n",
    "import pandas as pd\n",
    "import seaborn as sns\n",
    "\n",
    "import matplotlib.pyplot as plt\n",
    "\n",
    "import remap_values as rv\n",
    "\n",
    "import cPickle"
   ]
  },
  {
   "cell_type": "code",
   "execution_count": 2,
   "metadata": {
    "collapsed": false
   },
   "outputs": [],
   "source": [
    "from sklearn.utils import shuffle\n",
    "from sklearn.model_selection import KFold\n",
    "from sklearn.metrics import r2_score\n",
    "from sklearn.svm import SVR\n",
    "from sklearn.decomposition import PCA\n",
    "from sklearn.model_selection import GridSearchCV\n",
    "from sklearn.base import clone"
   ]
  },
  {
   "cell_type": "code",
   "execution_count": 3,
   "metadata": {
    "collapsed": false
   },
   "outputs": [],
   "source": [
    "inp_df = pd.read_csv( \"inp_data/train.csv\" )\n",
    "\n",
    "my_df      = rv.run_clean( inp_df, train=True )\n",
    "my_df      = shuffle( my_df, random_state=0 )\n",
    "\n",
    "feature_df = my_df.drop( ['SalePrice'], axis=1 ).copy()\n",
    "label_df   = my_df['SalePrice'].copy()"
   ]
  },
  {
   "cell_type": "code",
   "execution_count": 4,
   "metadata": {
    "collapsed": false
   },
   "outputs": [],
   "source": [
    "test_df    = pd.read_csv( \"inp_data/test.csv\" )\n",
    "test_df    = rv.run_clean( test_df )"
   ]
  },
  {
   "cell_type": "code",
   "execution_count": 5,
   "metadata": {
    "collapsed": false,
    "scrolled": true
   },
   "outputs": [],
   "source": [
    "test_df['HouseStyle_5'] = 0\n",
    "\n",
    "train_cols = feature_df.columns\n",
    "test_df    = test_df[ train_cols ].copy()"
   ]
  },
  {
   "cell_type": "code",
   "execution_count": null,
   "metadata": {
    "collapsed": true
   },
   "outputs": [],
   "source": []
  },
  {
   "cell_type": "code",
   "execution_count": null,
   "metadata": {
    "collapsed": true
   },
   "outputs": [],
   "source": []
  },
  {
   "cell_type": "code",
   "execution_count": 6,
   "metadata": {
    "collapsed": true
   },
   "outputs": [],
   "source": [
    "from sklearn.linear_model import Ridge # alpha 1\n",
    "from sklearn.linear_model import Lasso # alpha 1\n",
    "from sklearn.linear_model import BayesianRidge # alpha_1, alpha_2, lambda_1, lambda_2, both def 1e-6\n",
    "from sklearn.linear_model import SGDRegressor\n",
    "from sklearn.kernel_ridge import KernelRidge # alpha , kernel, gamma\n",
    "from sklearn.ensemble     import GradientBoostingRegressor"
   ]
  },
  {
   "cell_type": "code",
   "execution_count": 9,
   "metadata": {
    "collapsed": false
   },
   "outputs": [
    {
     "name": "stdout",
     "output_type": "stream",
     "text": [
      "Fold  1 accuracy: 0.8835  ,  0.8644  {'epsilon': 0.01, 'C': 5.0, 'gamma': 0.005, 'kernel': 'rbf'}\n",
      "Fold  2 accuracy: 0.7903  ,  0.8720  {'epsilon': 0.01, 'C': 5.0, 'gamma': 0.005, 'kernel': 'rbf'}\n",
      "Fold  3 accuracy: 0.9170  ,  0.8594  {'epsilon': 0.01, 'C': 5.0, 'gamma': 0.005, 'kernel': 'rbf'}\n",
      "Fold  4 accuracy: 0.8778  ,  0.8647  {'epsilon': 0.01, 'C': 5.0, 'gamma': 0.005, 'kernel': 'rbf'}\n",
      "Fold  5 accuracy: 0.8198  ,  0.8682  {'epsilon': 0.01, 'C': 5.0, 'gamma': 0.005, 'kernel': 'rbf'}\n",
      "Fold  6 accuracy: 0.8850  ,  0.8654  {'epsilon': 0.01, 'C': 5.0, 'gamma': 0.005, 'kernel': 'rbf'}\n",
      "Fold  7 accuracy: 0.8839  ,  0.8649  {'epsilon': 0.01, 'C': 5.0, 'gamma': 0.005, 'kernel': 'rbf'}\n",
      "Fold  8 accuracy: 0.8822  ,  0.8649  {'epsilon': 0.01, 'C': 5.0, 'gamma': 0.005, 'kernel': 'rbf'}\n",
      "Fold  9 accuracy: 0.9074  ,  0.8602  {'epsilon': 0.01, 'C': 5.0, 'gamma': 0.005, 'kernel': 'rbf'}\n",
      "Fold 10 accuracy: 0.8696  ,  0.8670  {'epsilon': 0.01, 'C': 5.0, 'gamma': 0.005, 'kernel': 'rbf'}\n",
      " \n",
      "Clf  0 Mean Accuracy: 0.8716 +/- 0.0364\n",
      "Clf  1 Mean Accuracy: 0.8716 +/- 0.0364\n",
      "Clf  2 Mean Accuracy: 0.8716 +/- 0.0364\n",
      "Clf  3 Mean Accuracy: 0.8716 +/- 0.0364\n",
      "Clf  4 Mean Accuracy: 0.8716 +/- 0.0364\n",
      "Clf  5 Mean Accuracy: 0.8716 +/- 0.0364\n",
      "Clf  6 Mean Accuracy: 0.8716 +/- 0.0364\n",
      "Clf  7 Mean Accuracy: 0.8716 +/- 0.0364\n",
      "Clf  8 Mean Accuracy: 0.8716 +/- 0.0364\n",
      "Clf  9 Mean Accuracy: 0.8716 +/- 0.0364\n",
      "Using CLF with accuracy:   0.871645\n",
      "CLF params:  {'kernel': 'rbf', 'C': 5.0, 'verbose': False, 'degree': 3, 'epsilon': 0.01, 'shrinking': True, 'max_iter': -1, 'tol': 0.001, 'cache_size': 200, 'coef0': 0.0, 'gamma': 0.005}\n"
     ]
    }
   ],
   "source": [
    "gen_params = {'kernel':['rbf'], \n",
    "              'C':      [5e-1,1e0,5e0],\n",
    "              'gamma':  [5e-3,1e-2,5e-2],\n",
    "              'epsilon':[5e-3,1e-2,5e-2]}\n",
    "svr_rbf_reg = rv.optimize_fit( SVR(), feature_df.values, label_df.values, gen_params, nf=10 )"
   ]
  },
  {
   "cell_type": "code",
   "execution_count": 11,
   "metadata": {
    "collapsed": true
   },
   "outputs": [
    {
     "name": "stdout",
     "output_type": "stream",
     "text": [
      "Fold  1 accuracy: 0.8774  ,  0.8395  {'epsilon': 0.005, 'C': 10.0, 'degree': 3, 'kernel': 'poly'}\n",
      "Fold  2 accuracy: 0.8056  ,  0.8436  {'epsilon': 0.005, 'C': 10.0, 'degree': 3, 'kernel': 'poly'}\n",
      "Fold  3 accuracy: 0.9082  ,  0.8326  {'epsilon': 0.01, 'C': 10.0, 'degree': 3, 'kernel': 'poly'}\n",
      "Fold  4 accuracy: 0.8512  ,  0.8419  {'epsilon': 0.01, 'C': 50.0, 'degree': 3, 'kernel': 'poly'}\n",
      "Fold  5 accuracy: 0.7780  ,  0.8459  {'epsilon': 0.01, 'C': 10.0, 'degree': 3, 'kernel': 'poly'}\n",
      "Fold  6 accuracy: 0.8522  ,  0.8433  {'epsilon': 0.01, 'C': 10.0, 'degree': 3, 'kernel': 'poly'}\n",
      "Fold  7 accuracy: 0.8660  ,  0.8399  {'epsilon': 0.01, 'C': 10.0, 'degree': 3, 'kernel': 'poly'}\n",
      "Fold  8 accuracy: 0.8523  ,  0.8405  {'epsilon': 0.01, 'C': 50.0, 'degree': 3, 'kernel': 'poly'}\n",
      "Fold  9 accuracy: 0.9002  ,  0.8362  {'epsilon': 0.01, 'C': 50.0, 'degree': 3, 'kernel': 'poly'}\n",
      "Fold 10 accuracy: 0.8397  ,  0.8448  {'epsilon': 0.01, 'C': 50.0, 'degree': 3, 'kernel': 'poly'}\n",
      " \n",
      "Clf  0 Mean Accuracy: 0.8549 +/- 0.0360\n",
      "Clf  1 Mean Accuracy: 0.8549 +/- 0.0360\n",
      "Clf  2 Mean Accuracy: 0.8548 +/- 0.0367\n",
      "Clf  3 Mean Accuracy: 0.8531 +/- 0.0357\n",
      "Clf  4 Mean Accuracy: 0.8548 +/- 0.0367\n",
      "Clf  5 Mean Accuracy: 0.8548 +/- 0.0367\n",
      "Clf  6 Mean Accuracy: 0.8548 +/- 0.0367\n",
      "Clf  7 Mean Accuracy: 0.8531 +/- 0.0357\n",
      "Clf  8 Mean Accuracy: 0.8531 +/- 0.0357\n",
      "Clf  9 Mean Accuracy: 0.8531 +/- 0.0357\n",
      "Using CLF with accuracy:   0.854919\n",
      "CLF params:  {'kernel': 'poly', 'C': 10.0, 'verbose': False, 'degree': 3, 'epsilon': 0.005, 'shrinking': True, 'max_iter': -1, 'tol': 0.001, 'cache_size': 200, 'coef0': 0.0, 'gamma': 'auto'}\n"
     ]
    }
   ],
   "source": [
    "gen_params = {'kernel': ['poly'], \n",
    "              'C':      [5e0,1e1,5e1],\n",
    "              'degree': [3],\n",
    "              'epsilon':[5e-3,1e-2,5e-2]}\n",
    "svr_pol_reg = rv.optimize_fit( SVR(), feature_df.values, label_df.values, gen_params, nf=10 )"
   ]
  },
  {
   "cell_type": "code",
   "execution_count": 13,
   "metadata": {
    "collapsed": true
   },
   "outputs": [
    {
     "name": "stdout",
     "output_type": "stream",
     "text": [
      "Fold  1 accuracy: 0.8602  ,  0.8592  {'alpha': 0.63999999999999968, 'fit_intercept': True}\n",
      "Fold  2 accuracy: 0.7769  ,  0.8695  {'alpha': 0.35999999999999988, 'fit_intercept': True}\n",
      "Fold  3 accuracy: 0.9092  ,  0.8527  {'alpha': 1.0299999999999996, 'fit_intercept': True}\n",
      "Fold  4 accuracy: 0.8621  ,  0.8572  {'alpha': 1.1999999999999995, 'fit_intercept': True}\n",
      "Fold  5 accuracy: 0.8348  ,  0.8635  {'alpha': 1.0799999999999996, 'fit_intercept': True}\n",
      "Fold  6 accuracy: 0.8862  ,  0.8595  {'alpha': 1.1199999999999997, 'fit_intercept': True}\n",
      "Fold  7 accuracy: 0.8686  ,  0.8638  {'alpha': 0.6599999999999997, 'fit_intercept': True}\n",
      "Fold  8 accuracy: 0.8761  ,  0.8616  {'alpha': 0.55999999999999972, 'fit_intercept': True}\n",
      "Fold  9 accuracy: 0.8954  ,  0.8580  {'alpha': 0.37999999999999989, 'fit_intercept': True}\n",
      "Fold 10 accuracy: 0.8753  ,  0.8636  {'alpha': 0.59999999999999976, 'fit_intercept': True}\n",
      " \n",
      "Clf  0 Mean Accuracy: 0.8649 +/- 0.0344\n",
      "Clf  1 Mean Accuracy: 0.8646 +/- 0.0351\n",
      "Clf  2 Mean Accuracy: 0.8651 +/- 0.0338\n",
      "Clf  3 Mean Accuracy: 0.8651 +/- 0.0336\n",
      "Clf  4 Mean Accuracy: 0.8651 +/- 0.0337\n",
      "Clf  5 Mean Accuracy: 0.8651 +/- 0.0337\n",
      "Clf  6 Mean Accuracy: 0.8650 +/- 0.0344\n",
      "Clf  7 Mean Accuracy: 0.8649 +/- 0.0346\n",
      "Clf  8 Mean Accuracy: 0.8646 +/- 0.0350\n",
      "Clf  9 Mean Accuracy: 0.8649 +/- 0.0345\n",
      "Using CLF with accuracy:   0.865085\n",
      "CLF params:  {'normalize': False, 'fit_intercept': True, 'max_iter': None, 'random_state': None, 'tol': 0.001, 'copy_X': True, 'alpha': 1.0799999999999996, 'solver': 'auto'}\n"
     ]
    }
   ],
   "source": [
    "gen_params = {'alpha': np.arange(0.1,2.0,0.01),\n",
    "              'fit_intercept':[True]}\n",
    "ridge_reg = rv.optimize_fit( Ridge(), feature_df.values, label_df.values, gen_params, nf=10 ) "
   ]
  },
  {
   "cell_type": "code",
   "execution_count": 14,
   "metadata": {
    "collapsed": true
   },
   "outputs": [
    {
     "name": "stdout",
     "output_type": "stream",
     "text": [
      "Fold  1 accuracy: 0.8725  ,  0.8637  {'alpha': 0.00031622776601683794, 'fit_intercept': True}\n",
      "Fold  2 accuracy: 0.7884  ,  0.8728  {'alpha': 0.0001, 'fit_intercept': True}\n",
      "Fold  3 accuracy: 0.9114  ,  0.8570  {'alpha': 0.00031622776601683794, 'fit_intercept': True}\n",
      "Fold  4 accuracy: 0.8616  ,  0.8635  {'alpha': 0.00031622776601683794, 'fit_intercept': True}\n",
      "Fold  5 accuracy: 0.8213  ,  0.8697  {'alpha': 0.00031622776601683794, 'fit_intercept': True}\n",
      "Fold  6 accuracy: 0.8829  ,  0.8644  {'alpha': 0.00031622776601683794, 'fit_intercept': True}\n",
      "Fold  7 accuracy: 0.8652  ,  0.8678  {'alpha': 0.0001, 'fit_intercept': False}\n",
      "Fold  8 accuracy: 0.8843  ,  0.8640  {'alpha': 0.0001, 'fit_intercept': True}\n",
      "Fold  9 accuracy: 0.8955  ,  0.8597  {'alpha': 0.0001, 'fit_intercept': True}\n",
      "Fold 10 accuracy: 0.8761  ,  0.8669  {'alpha': 0.0001, 'fit_intercept': True}\n",
      " \n",
      "Clf  0 Mean Accuracy: 0.8665 +/- 0.0313\n",
      "Clf  1 Mean Accuracy: 0.8676 +/- 0.0328\n",
      "Clf  2 Mean Accuracy: 0.8665 +/- 0.0313\n",
      "Clf  3 Mean Accuracy: 0.8665 +/- 0.0313\n",
      "Clf  4 Mean Accuracy: 0.8665 +/- 0.0313\n",
      "Clf  5 Mean Accuracy: 0.8665 +/- 0.0313\n",
      "Clf  6 Mean Accuracy: 0.8671 +/- 0.0322\n",
      "Clf  7 Mean Accuracy: 0.8676 +/- 0.0328\n",
      "Clf  8 Mean Accuracy: 0.8676 +/- 0.0328\n",
      "Clf  9 Mean Accuracy: 0.8676 +/- 0.0328\n",
      "Using CLF with accuracy:   0.867617\n",
      "CLF params:  {'normalize': False, 'warm_start': False, 'selection': 'cyclic', 'fit_intercept': True, 'positive': False, 'max_iter': 1000, 'precompute': False, 'random_state': None, 'tol': 0.0001, 'copy_X': True, 'alpha': 0.0001}\n"
     ]
    }
   ],
   "source": [
    "gen_params = {'alpha': 10**-np.arange(1.0,5.0,0.5),\n",
    "              'fit_intercept':[True,False]}\n",
    "Lasso_reg = rv.optimize_fit( Lasso(), feature_df.values, label_df.values, gen_params, nf=10 ) "
   ]
  },
  {
   "cell_type": "code",
   "execution_count": 15,
   "metadata": {
    "collapsed": true
   },
   "outputs": [
    {
     "name": "stdout",
     "output_type": "stream",
     "text": [
      "Fold  1 accuracy: 0.8625  ,  0.8580  {'alpha_2': 0.001, 'lambda_1': 0.001, 'lambda_2': 0.01, 'alpha_1': 0.01}\n",
      "Fold  2 accuracy: 0.7842  ,  0.8682  {'alpha_2': 0.001, 'lambda_1': 0.001, 'lambda_2': 0.01, 'alpha_1': 0.01}\n",
      "Fold  3 accuracy: 0.9083  ,  0.8518  {'alpha_2': 0.001, 'lambda_1': 0.001, 'lambda_2': 0.01, 'alpha_1': 0.01}\n",
      "Fold  4 accuracy: 0.8617  ,  0.8566  {'alpha_2': 0.001, 'lambda_1': 0.001, 'lambda_2': 0.01, 'alpha_1': 0.01}\n",
      "Fold  5 accuracy: 0.8319  ,  0.8627  {'alpha_2': 0.001, 'lambda_1': 0.001, 'lambda_2': 0.01, 'alpha_1': 0.01}\n",
      "Fold  6 accuracy: 0.8849  ,  0.8588  {'alpha_2': 0.001, 'lambda_1': 0.001, 'lambda_2': 0.01, 'alpha_1': 0.01}\n",
      "Fold  7 accuracy: 0.8689  ,  0.8621  {'alpha_2': 0.001, 'lambda_1': 0.001, 'lambda_2': 0.01, 'alpha_1': 0.01}\n",
      "Fold  8 accuracy: 0.8749  ,  0.8594  {'alpha_2': 0.001, 'lambda_1': 0.001, 'lambda_2': 0.01, 'alpha_1': 0.01}\n",
      "Fold  9 accuracy: 0.8958  ,  0.8552  {'alpha_2': 0.001, 'lambda_1': 0.001, 'lambda_2': 0.01, 'alpha_1': 0.01}\n",
      "Fold 10 accuracy: 0.8733  ,  0.8617  {'alpha_2': 0.001, 'lambda_1': 0.001, 'lambda_2': 0.01, 'alpha_1': 0.01}\n",
      " \n",
      "Clf  0 Mean Accuracy: 0.8646 +/- 0.0332\n",
      "Clf  1 Mean Accuracy: 0.8646 +/- 0.0332\n",
      "Clf  2 Mean Accuracy: 0.8646 +/- 0.0332\n",
      "Clf  3 Mean Accuracy: 0.8646 +/- 0.0332\n",
      "Clf  4 Mean Accuracy: 0.8646 +/- 0.0332\n",
      "Clf  5 Mean Accuracy: 0.8646 +/- 0.0332\n",
      "Clf  6 Mean Accuracy: 0.8646 +/- 0.0332\n",
      "Clf  7 Mean Accuracy: 0.8646 +/- 0.0332\n",
      "Clf  8 Mean Accuracy: 0.8646 +/- 0.0332\n",
      "Clf  9 Mean Accuracy: 0.8646 +/- 0.0332\n",
      "Using CLF with accuracy:   0.864629\n",
      "CLF params:  {'normalize': False, 'n_iter': 300, 'verbose': False, 'lambda_1': 0.001, 'lambda_2': 0.01, 'fit_intercept': True, 'alpha_2': 0.001, 'tol': 0.001, 'alpha_1': 0.01, 'copy_X': True, 'compute_score': False}\n"
     ]
    }
   ],
   "source": [
    "gen_params = {'alpha_1':  10**np.arange( -3.0,-1.0, 1.0 ),\n",
    "              'alpha_2':  10**np.arange( -3.0,-1.0, 1.0 ),\n",
    "              'lambda_1': 10**np.arange( -3.0,-1.0, 1.0 ),\n",
    "              'lambda_2': 10**np.arange( -3.0,-1.0, 1.0 )}\n",
    "br_reg = rv.optimize_fit( BayesianRidge(), feature_df.values, label_df.values, gen_params, nf=10 ) "
   ]
  },
  {
   "cell_type": "code",
   "execution_count": 20,
   "metadata": {
    "collapsed": true
   },
   "outputs": [
    {
     "name": "stdout",
     "output_type": "stream",
     "text": [
      "Fold  1 accuracy: 0.8671  ,  0.8637  {'alpha': 0.00039810717055349773, 'gamma': 0.00063095734448019429, 'kernel': 'rbf'}\n",
      "Fold  2 accuracy: 0.7898  ,  0.8724  {'alpha': 0.0001, 'gamma': 0.00025118864315095823, 'kernel': 'rbf'}\n",
      "Fold  3 accuracy: 0.9158  ,  0.8564  {'alpha': 0.00063095734448019429, 'gamma': 0.00063095734448019429, 'kernel': 'rbf'}\n",
      "Fold  4 accuracy: 0.8693  ,  0.8617  {'alpha': 0.00063095734448019429, 'gamma': 0.00063095734448019429, 'kernel': 'rbf'}\n",
      "Fold  5 accuracy: 0.8385  ,  0.8674  {'alpha': 0.00063095734448019429, 'gamma': 0.00063095734448019429, 'kernel': 'rbf'}\n",
      "Fold  6 accuracy: 0.8910  ,  0.8640  {'alpha': 0.00063095734448019429, 'gamma': 0.00063095734448019429, 'kernel': 'rbf'}\n",
      "Fold  7 accuracy: 0.8734  ,  0.8675  {'alpha': 0.00063095734448019429, 'gamma': 0.00063095734448019429, 'kernel': 'rbf'}\n",
      "Fold  8 accuracy: 0.8780  ,  0.8653  {'alpha': 0.00039810717055349773, 'gamma': 0.00063095734448019429, 'kernel': 'rbf'}\n",
      "Fold  9 accuracy: 0.9031  ,  0.8619  {'alpha': 0.00039810717055349773, 'gamma': 0.00063095734448019429, 'kernel': 'rbf'}\n",
      "Fold 10 accuracy: 0.8747  ,  0.8672  {'alpha': 0.00039810717055349773, 'gamma': 0.00063095734448019429, 'kernel': 'rbf'}\n",
      " \n",
      "Clf  0 Mean Accuracy: 0.8708 +/- 0.0324\n",
      "Clf  1 Mean Accuracy: 0.8700 +/- 0.0334\n",
      "Clf  2 Mean Accuracy: 0.8705 +/- 0.0325\n",
      "Clf  3 Mean Accuracy: 0.8705 +/- 0.0325\n",
      "Clf  4 Mean Accuracy: 0.8705 +/- 0.0325\n",
      "Clf  5 Mean Accuracy: 0.8705 +/- 0.0325\n",
      "Clf  6 Mean Accuracy: 0.8705 +/- 0.0325\n",
      "Clf  7 Mean Accuracy: 0.8708 +/- 0.0324\n",
      "Clf  8 Mean Accuracy: 0.8708 +/- 0.0324\n",
      "Clf  9 Mean Accuracy: 0.8708 +/- 0.0324\n",
      "Using CLF with accuracy:   0.870814\n",
      "CLF params:  {'kernel': 'rbf', 'degree': 3, 'kernel_params': None, 'alpha': 0.00039810717055349773, 'coef0': 1, 'gamma': 0.00063095734448019429}\n"
     ]
    }
   ],
   "source": [
    "gen_params = {'kernel':['rbf'],\n",
    "              'alpha':10**np.arange( -4, -3, 0.2),\n",
    "              'gamma':10**np.arange( -4, -3, 0.2)}\n",
    "kRBF_reg = rv.optimize_fit( KernelRidge(), feature_df.values, label_df.values, gen_params, nf=10 ) "
   ]
  },
  {
   "cell_type": "code",
   "execution_count": 22,
   "metadata": {
    "collapsed": true
   },
   "outputs": [
    {
     "name": "stdout",
     "output_type": "stream",
     "text": [
      "Fold  1 accuracy: 0.8418  ,  0.8149  {'kernel': 'poly', 'gamma': 0.0079432823472428051, 'degree': 3}\n",
      "Fold  2 accuracy: 0.7872  ,  0.8202  {'kernel': 'poly', 'gamma': 0.0079432823472428051, 'degree': 3}\n",
      "Fold  3 accuracy: 0.8845  ,  0.8085  {'kernel': 'poly', 'gamma': 0.0079432823472428051, 'degree': 3}\n",
      "Fold  4 accuracy: 0.8024  ,  0.8174  {'kernel': 'poly', 'gamma': 0.0079432823472428051, 'degree': 3}\n",
      "Fold  5 accuracy: 0.8063  ,  0.8216  {'kernel': 'poly', 'gamma': 0.0079432823472428051, 'degree': 3}\n",
      "Fold  6 accuracy: 0.8465  ,  0.8164  {'kernel': 'poly', 'gamma': 0.0079432823472428051, 'degree': 3}\n",
      "Fold  7 accuracy: 0.8292  ,  0.8186  {'kernel': 'poly', 'gamma': 0.0079432823472428051, 'degree': 3}\n",
      "Fold  8 accuracy: 0.8355  ,  0.8148  {'kernel': 'poly', 'gamma': 0.0079432823472428051, 'degree': 3}\n",
      "Fold  9 accuracy: 0.8723  ,  0.8117  {'kernel': 'poly', 'gamma': 0.0079432823472428051, 'degree': 3}\n",
      "Fold 10 accuracy: 0.8304  ,  0.8189  {'kernel': 'poly', 'gamma': 0.0079432823472428051, 'degree': 3}\n",
      " \n",
      "Clf  0 Mean Accuracy: 0.8336 +/- 0.0287\n",
      "Clf  1 Mean Accuracy: 0.8336 +/- 0.0287\n",
      "Clf  2 Mean Accuracy: 0.8336 +/- 0.0287\n",
      "Clf  3 Mean Accuracy: 0.8336 +/- 0.0287\n",
      "Clf  4 Mean Accuracy: 0.8336 +/- 0.0287\n",
      "Clf  5 Mean Accuracy: 0.8336 +/- 0.0287\n",
      "Clf  6 Mean Accuracy: 0.8336 +/- 0.0287\n",
      "Clf  7 Mean Accuracy: 0.8336 +/- 0.0287\n",
      "Clf  8 Mean Accuracy: 0.8336 +/- 0.0287\n",
      "Clf  9 Mean Accuracy: 0.8336 +/- 0.0287\n",
      "Using CLF with accuracy:   0.833600\n",
      "CLF params:  {'kernel': 'poly', 'degree': 3, 'kernel_params': None, 'alpha': 1, 'coef0': 1, 'gamma': 0.0079432823472428051}\n"
     ]
    }
   ],
   "source": [
    "gen_params = {'kernel':['poly'],\n",
    "              'degree':[3],\n",
    "              'gamma':10**np.arange( -3,-1, 0.3)}\n",
    "kPol_reg = rv.optimize_fit( KernelRidge(), feature_df.values, label_df.values, gen_params, nf=10 ) "
   ]
  },
  {
   "cell_type": "code",
   "execution_count": 23,
   "metadata": {
    "collapsed": false
   },
   "outputs": [
    {
     "name": "stdout",
     "output_type": "stream",
     "text": [
      "Fold  1 accuracy: 0.8244  ,  0.8748  {'n_estimators': 300, 'alpha': 0.8, 'min_samples_leaf': 3, 'max_depth': 4, 'loss': 'huber'}\n",
      "Fold  2 accuracy: 0.7998  ,  0.8743  {'n_estimators': 400, 'alpha': 0.9, 'min_samples_leaf': 8, 'max_depth': 2, 'loss': 'huber'}\n",
      "Fold  3 accuracy: 0.9180  ,  0.8663  {'n_estimators': 300, 'alpha': 0.8, 'min_samples_leaf': 3, 'max_depth': 4, 'loss': 'huber'}\n",
      "Fold  4 accuracy: 0.8823  ,  0.8701  {'n_estimators': 300, 'alpha': 0.85, 'min_samples_leaf': 3, 'max_depth': 4, 'loss': 'huber'}\n",
      "Fold  5 accuracy: 0.8376  ,  0.8697  {'n_estimators': 300, 'alpha': 0.9, 'min_samples_leaf': 3, 'max_depth': 2, 'loss': 'huber'}\n",
      "Fold  6 accuracy: 0.8891  ,  0.8719  {'n_estimators': 400, 'alpha': 0.95, 'min_samples_leaf': 3, 'max_depth': 2, 'loss': 'huber'}\n",
      "Fold  7 accuracy: 0.8635  ,  0.8710  {'n_estimators': 300, 'alpha': 0.85, 'min_samples_leaf': 3, 'max_depth': 4, 'loss': 'huber'}\n",
      "Fold  8 accuracy: 0.9123  ,  0.8650  {'n_estimators': 400, 'alpha': 0.85, 'min_samples_leaf': 3, 'max_depth': 2, 'loss': 'huber'}\n",
      "Fold  9 accuracy: 0.9010  ,  0.8601  {'n_estimators': 400, 'alpha': 0.9, 'min_samples_leaf': 3, 'max_depth': 2, 'loss': 'huber'}\n",
      "Fold 10 accuracy: 0.8750  ,  0.8706  {'n_estimators': 300, 'alpha': 0.85, 'min_samples_leaf': 3, 'max_depth': 2, 'loss': 'huber'}\n",
      " \n",
      "Clf  0 Mean Accuracy: 0.8755 +/- 0.0259\n",
      "Clf  1 Mean Accuracy: 0.8723 +/- 0.0380\n",
      "Clf  2 Mean Accuracy: 0.8723 +/- 0.0285\n",
      "Clf  3 Mean Accuracy: 0.8705 +/- 0.0292\n",
      "Clf  4 Mean Accuracy: 0.8711 +/- 0.0329\n",
      "Clf  5 Mean Accuracy: 0.8727 +/- 0.0348\n",
      "Clf  6 Mean Accuracy: 0.8729 +/- 0.0290\n",
      "Clf  7 Mean Accuracy: 0.8718 +/- 0.0349\n",
      "Clf  8 Mean Accuracy: 0.8753 +/- 0.0314\n",
      "Clf  9 Mean Accuracy: 0.8695 +/- 0.0345\n",
      "Using CLF with accuracy:   0.875524\n",
      "CLF params:  {'presort': 'auto', 'loss': 'huber', 'verbose': 0, 'subsample': 1.0, 'max_leaf_nodes': None, 'learning_rate': 0.1, 'warm_start': False, 'min_samples_leaf': 3, 'n_estimators': 300, 'min_samples_split': 2, 'init': None, 'min_weight_fraction_leaf': 0.0, 'criterion': 'friedman_mse', 'random_state': None, 'min_impurity_split': 1e-07, 'max_features': None, 'alpha': 0.8, 'max_depth': 4}\n"
     ]
    }
   ],
   "source": [
    "gen_params = {'loss':['huber'],\n",
    "              'n_estimators':[300,400],\n",
    "              'max_depth':[2,4,6],\n",
    "              'min_samples_leaf':[3,5,8],\n",
    "              'alpha':[0.8,0.85,0.9,0.95]}\n",
    "boost_reg = rv.optimize_fit( GradientBoostingRegressor(), feature_df.values, label_df.values, gen_params, nf = 10 )"
   ]
  },
  {
   "cell_type": "code",
   "execution_count": null,
   "metadata": {
    "collapsed": true
   },
   "outputs": [],
   "source": [
    "#svr_rbf_red\n",
    "#boost_reg"
   ]
  },
  {
   "cell_type": "code",
   "execution_count": 24,
   "metadata": {
    "collapsed": true
   },
   "outputs": [],
   "source": [
    "with open('svr_rbf_reg3.pkl','wb') as fid:\n",
    "    cPickle.dump( svr_rbf_reg, fid )\n",
    "with open('boost_reg3.pkl','wb') as fid:\n",
    "    cPickle.dump( boost_reg, fid )"
   ]
  },
  {
   "cell_type": "code",
   "execution_count": 6,
   "metadata": {
    "collapsed": false
   },
   "outputs": [],
   "source": [
    "with open('svr_rbf_reg2.pkl','r') as fid:\n",
    "    svr_rbf_reg = cPickle.load( fid )\n",
    "with open('boost_reg2.pkl','r') as fid:\n",
    "    boost_reg   = cPickle.load( fid )"
   ]
  },
  {
   "cell_type": "code",
   "execution_count": null,
   "metadata": {
    "collapsed": true
   },
   "outputs": [],
   "source": []
  },
  {
   "cell_type": "code",
   "execution_count": null,
   "metadata": {
    "collapsed": true
   },
   "outputs": [],
   "source": []
  },
  {
   "cell_type": "code",
   "execution_count": 30,
   "metadata": {
    "collapsed": false,
    "scrolled": true
   },
   "outputs": [],
   "source": [
    "lin_pred = 10**(   boost_reg.predict( test_df ) )\n",
    "rbf_pred = 10**( svr_rbf_reg.predict( test_df ) )"
   ]
  },
  {
   "cell_type": "code",
   "execution_count": 32,
   "metadata": {
    "collapsed": false
   },
   "outputs": [],
   "source": [
    "id_df  = pd.read_csv( \"inp_data/test.csv\" )[['Id','Fence']]\n",
    "\n",
    "lin_df = id_df.copy()\n",
    "rbf_df = id_df.copy()\n",
    "\n",
    "lin_df['SalePrice'] = lin_pred\n",
    "rbf_df['SalePrice'] = rbf_pred\n",
    "\n",
    "lin_df = lin_df.drop( ['Fence'], axis=1 )\n",
    "rbf_df = rbf_df.drop( ['Fence'], axis=1 )"
   ]
  },
  {
   "cell_type": "code",
   "execution_count": 34,
   "metadata": {
    "collapsed": true
   },
   "outputs": [],
   "source": [
    "lin_df.to_csv( 'boost_3.csv', index=False )\n",
    "rbf_df.to_csv( 'rbf_3.csv'  , index=False )"
   ]
  },
  {
   "cell_type": "code",
   "execution_count": null,
   "metadata": {
    "collapsed": true
   },
   "outputs": [],
   "source": []
  },
  {
   "cell_type": "code",
   "execution_count": 6,
   "metadata": {
    "collapsed": false
   },
   "outputs": [],
   "source": [
    "with open('svr_lin.pkl', 'rb') as fid:\n",
    "    svr_lin = cPickle.load(fid)\n",
    "with open('svr_rbf.pkl', 'rb') as fid:\n",
    "    svr_rbf = cPickle.load(fid)"
   ]
  },
  {
   "cell_type": "code",
   "execution_count": 26,
   "metadata": {
    "collapsed": false,
    "scrolled": false
   },
   "outputs": [],
   "source": [
    "lin_pred = (   boost_reg.predict( feature_df ) )\n",
    "rbf_pred = ( svr_rbf_reg.predict( feature_df ) )"
   ]
  },
  {
   "cell_type": "code",
   "execution_count": 27,
   "metadata": {
    "collapsed": true
   },
   "outputs": [],
   "source": [
    "lin_diff = label_df.values - lin_pred\n",
    "rbf_diff = label_df.values - rbf_pred"
   ]
  },
  {
   "cell_type": "code",
   "execution_count": 28,
   "metadata": {
    "collapsed": true
   },
   "outputs": [],
   "source": [
    "my_df['LinPred'] = lin_pred\n",
    "my_df['RBFPred'] = rbf_pred\n",
    "my_df['LinDiff'] = lin_diff\n",
    "my_df['RBFDiff'] = rbf_diff"
   ]
  },
  {
   "cell_type": "code",
   "execution_count": 29,
   "metadata": {
    "collapsed": false
   },
   "outputs": [
    {
     "name": "stderr",
     "output_type": "stream",
     "text": [
      "/home/sean/anaconda/lib/python2.7/site-packages/matplotlib/collections.py:590: FutureWarning: elementwise comparison failed; returning scalar instead, but in the future will perform elementwise comparison\n",
      "  if self._edgecolors == str('face'):\n"
     ]
    }
   ],
   "source": [
    "preds = ['LinPred','RBFPred']\n",
    "for pred in preds:\n",
    "    my_df.plot(kind='scatter',x='SalePrice',y='LinPred')\n",
    "    plt.show()"
   ]
  },
  {
   "cell_type": "code",
   "execution_count": 46,
   "metadata": {
    "collapsed": false
   },
   "outputs": [],
   "source": [
    "outliers = my_df[ abs(my_df['RBFDiff']) >0.09 ].copy()\n",
    "#outliers =    my_df[    my_df['Electrical'] == 0 ].copy()\n",
    "#outliers = outliers[ outliers['CentralAir'] == 0 ]\n",
    "#outliers = outliers[ outliers['SaleCondition'] != 0 ]\n",
    "#outliers = outliers[ outliers['MSZoning'  ] != 2./3 ]\n",
    "#outliers = outliers[ outliers['MSZoning'  ] != 2./3 ]\n",
    "#outliers = outliers[ outliers['MSZoning'  ] != 2./3 ]"
   ]
  },
  {
   "cell_type": "code",
   "execution_count": 51,
   "metadata": {
    "collapsed": false
   },
   "outputs": [],
   "source": [
    "cols = my_df.drop( ['InsideSF','OutsideSF','GarageArea','LotArea', 'LotFrontage',\n",
    "                    'SalePrice', 'RBFPred'], axis=1 ).columns.values\n",
    "#sns.lmplot( 'SalePrice', 'RBFPred', data=my_df, hue='LotFrontage', fit_reg = False)#, palette=\"rainbow\" )\n",
    "\n",
    "lowScat = ['CentralAir', 'Electrical','SaleCondition',\n",
    "           'InsideSF','OutsideSF', 'LotArea',\n",
    "           'RBFPred','RBFDiff','SalePrice']\n",
    "scat_df = outliers[lowScat].copy()\n",
    "\n",
    "\n",
    "for col in lowScat[:-3]:\n",
    "    g = sns.lmplot( 'SalePrice', 'RBFPred', data=scat_df, hue=col, fit_reg = False, palette=\"rainbow\" )\n",
    "    g.fig.suptitle( col )\n",
    "    plt.plot( [4,6], [4,6], color='b')\n",
    "    plt.xlim( 4.3,5.7 )\n",
    "    plt.ylim( 4.3,5.7 )\n",
    "    plt.show()\n",
    "#for col in cols:\n",
    "#    g = sns.lmplot( 'SalePrice', 'RBFPred', data=my_df, hue=col, fit_reg=False)\n",
    "#    g.fig.suptitle( col )\n",
    "#    plt.show()\n",
    "#    plt.clf()"
   ]
  },
  {
   "cell_type": "code",
   "execution_count": 38,
   "metadata": {
    "collapsed": true
   },
   "outputs": [],
   "source": [
    "for col in lowScat[:-2]:\n",
    "    scat_df[col].plot( kind='hist', title=col, bins=50 )\n",
    "    plt.show()"
   ]
  },
  {
   "cell_type": "code",
   "execution_count": null,
   "metadata": {
    "collapsed": true
   },
   "outputs": [],
   "source": [
    "#0.051, 0.091,, 0.15, 0.2\n",
    "#Zoning 3 or 4? whichever makes 0.6..., 0.6, 0.6\n",
    "#CentralAir 1? 1, 0, lots of 0\n",
    "#Exterior1st 0? 0, 0, 0\n",
    "#Electrical 0? 0, 0, 0\n",
    "#SaleCOnd 0? 0/1/5, 1, 1/5"
   ]
  }
 ],
 "metadata": {
  "kernelspec": {
   "display_name": "Python 2",
   "language": "python",
   "name": "python2"
  },
  "language_info": {
   "codemirror_mode": {
    "name": "ipython",
    "version": 2
   },
   "file_extension": ".py",
   "mimetype": "text/x-python",
   "name": "python",
   "nbconvert_exporter": "python",
   "pygments_lexer": "ipython2",
   "version": "2.7.13"
  }
 },
 "nbformat": 4,
 "nbformat_minor": 2
}
