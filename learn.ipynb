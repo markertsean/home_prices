{
 "cells": [
  {
   "cell_type": "code",
   "execution_count": 1,
   "metadata": {
    "collapsed": false
   },
   "outputs": [],
   "source": [
    "import numpy as np\n",
    "import pandas as pd\n",
    "import seaborn as sns\n",
    "\n",
    "import matplotlib.pyplot as plt\n",
    "\n",
    "import remap_values as rv\n",
    "\n",
    "import cPickle"
   ]
  },
  {
   "cell_type": "code",
   "execution_count": 2,
   "metadata": {
    "collapsed": false
   },
   "outputs": [],
   "source": [
    "from sklearn.utils import shuffle\n",
    "from sklearn.model_selection import KFold\n",
    "from sklearn.metrics import r2_score\n",
    "from sklearn.svm import SVR\n",
    "from sklearn.decomposition import PCA\n",
    "from sklearn.model_selection import GridSearchCV\n",
    "from sklearn.base import clone"
   ]
  },
  {
   "cell_type": "code",
   "execution_count": 3,
   "metadata": {
    "collapsed": false
   },
   "outputs": [],
   "source": [
    "inp_df = pd.read_csv( \"inp_data/train.csv\" )\n",
    "\n",
    "my_df      = rv.run_clean( inp_df, train=True )\n",
    "my_df      = shuffle( my_df, random_state=0 )\n",
    "\n",
    "feature_df = my_df.drop( ['SalePrice'], axis=1 ).copy()\n",
    "label_df   = my_df['SalePrice'].copy()"
   ]
  },
  {
   "cell_type": "code",
   "execution_count": 4,
   "metadata": {
    "collapsed": false
   },
   "outputs": [],
   "source": [
    "test_df    = pd.read_csv( \"inp_data/test.csv\" )\n",
    "test_df    = rv.run_clean( test_df )"
   ]
  },
  {
   "cell_type": "code",
   "execution_count": 5,
   "metadata": {
    "collapsed": false,
    "scrolled": true
   },
   "outputs": [],
   "source": [
    "test_df['HouseStyle_5'] = 0\n",
    "\n",
    "train_cols = feature_df.columns\n",
    "test_df    = test_df[ train_cols ].copy()"
   ]
  },
  {
   "cell_type": "code",
   "execution_count": null,
   "metadata": {
    "collapsed": true
   },
   "outputs": [],
   "source": []
  },
  {
   "cell_type": "code",
   "execution_count": null,
   "metadata": {
    "collapsed": true
   },
   "outputs": [],
   "source": []
  },
  {
   "cell_type": "code",
   "execution_count": 6,
   "metadata": {
    "collapsed": true
   },
   "outputs": [],
   "source": [
    "from sklearn.linear_model import Ridge # alpha 1\n",
    "from sklearn.linear_model import Lasso # alpha 1\n",
    "from sklearn.linear_model import BayesianRidge # alpha_1, alpha_2, lambda_1, lambda_2, both def 1e-6\n",
    "from sklearn.linear_model import SGDRegressor\n",
    "from sklearn.kernel_ridge import KernelRidge # alpha , kernel, gamma\n",
    "from sklearn.ensemble     import GradientBoostingRegressor"
   ]
  },
  {
   "cell_type": "code",
   "execution_count": 7,
   "metadata": {
    "collapsed": true
   },
   "outputs": [
    {
     "name": "stdout",
     "output_type": "stream",
     "text": [
      "Fold  1 accuracy: 0.8883  ,  0.8714  {'epsilon': 0.01, 'C': 1.0, 'gamma': 0.01, 'kernel': 'rbf'}\n",
      "Fold  2 accuracy: 0.8024  ,  0.8771  {'epsilon': 0.01, 'C': 1.0, 'gamma': 0.01, 'kernel': 'rbf'}\n",
      "Fold  3 accuracy: 0.9252  ,  0.8654  {'epsilon': 0.01, 'C': 1.0, 'gamma': 0.01, 'kernel': 'rbf'}\n",
      "Fold  4 accuracy: 0.8861  ,  0.8707  {'epsilon': 0.01, 'C': 1.0, 'gamma': 0.01, 'kernel': 'rbf'}\n",
      "Fold  5 accuracy: 0.8109  ,  0.8747  {'epsilon': 0.01, 'C': 1.0, 'gamma': 0.01, 'kernel': 'rbf'}\n",
      "Fold  6 accuracy: 0.8842  ,  0.8698  {'epsilon': 0.01, 'C': 1.0, 'gamma': 0.01, 'kernel': 'rbf'}\n",
      "Fold  7 accuracy: 0.8853  ,  0.8701  {'epsilon': 0.01, 'C': 1.0, 'gamma': 0.01, 'kernel': 'rbf'}\n",
      "Fold  8 accuracy: 0.8935  ,  0.8687  {'epsilon': 0.01, 'C': 1.0, 'gamma': 0.01, 'kernel': 'rbf'}\n",
      "Fold  9 accuracy: 0.9068  ,  0.8647  {'epsilon': 0.01, 'C': 1.0, 'gamma': 0.01, 'kernel': 'rbf'}\n",
      "Fold 10 accuracy: 0.8777  ,  0.8707  {'epsilon': 0.01, 'C': 1.0, 'gamma': 0.01, 'kernel': 'rbf'}\n",
      " \n",
      "Clf  0 Mean Accuracy: 0.8761 +/- 0.0371\n",
      "Clf  1 Mean Accuracy: 0.8761 +/- 0.0371\n",
      "Clf  2 Mean Accuracy: 0.8761 +/- 0.0371\n",
      "Clf  3 Mean Accuracy: 0.8761 +/- 0.0371\n",
      "Clf  4 Mean Accuracy: 0.8761 +/- 0.0371\n",
      "Clf  5 Mean Accuracy: 0.8761 +/- 0.0371\n",
      "Clf  6 Mean Accuracy: 0.8761 +/- 0.0371\n",
      "Clf  7 Mean Accuracy: 0.8761 +/- 0.0371\n",
      "Clf  8 Mean Accuracy: 0.8761 +/- 0.0371\n",
      "Clf  9 Mean Accuracy: 0.8761 +/- 0.0371\n",
      "Using CLF with accuracy:   0.876054\n",
      "CLF params:  {'kernel': 'rbf', 'C': 1.0, 'verbose': False, 'degree': 3, 'epsilon': 0.01, 'shrinking': True, 'max_iter': -1, 'tol': 0.001, 'cache_size': 200, 'coef0': 0.0, 'gamma': 0.01}\n"
     ]
    }
   ],
   "source": [
    "gen_params = {'kernel':['rbf'], \n",
    "              'C':      [5e-1,1e0,5e0],\n",
    "              'gamma':  [5e-3,1e-2,5e-2],\n",
    "              'epsilon':[5e-3,1e-2,5e-2]}\n",
    "svr_rbf_reg = rv.optimize_fit( SVR(), feature_df.values, label_df.values, gen_params, nf=10 )"
   ]
  },
  {
   "cell_type": "code",
   "execution_count": 12,
   "metadata": {
    "collapsed": true
   },
   "outputs": [
    {
     "name": "stdout",
     "output_type": "stream",
     "text": [
      "Fold  1 accuracy: 0.8685  ,  0.8659  {'alpha': 0.00039810717055349773, 'gamma': 0.00063095734448019429, 'kernel': 'rbf'}\n",
      "Fold  2 accuracy: 0.7934  ,  0.8738  {'alpha': 0.00025118864315095823, 'gamma': 0.00039810717055349773, 'kernel': 'rbf'}\n",
      "Fold  3 accuracy: 0.9182  ,  0.8581  {'alpha': 0.00063095734448019429, 'gamma': 0.00063095734448019429, 'kernel': 'rbf'}\n",
      "Fold  4 accuracy: 0.8727  ,  0.8635  {'alpha': 0.00063095734448019429, 'gamma': 0.00063095734448019429, 'kernel': 'rbf'}\n",
      "Fold  5 accuracy: 0.8383  ,  0.8693  {'alpha': 0.00063095734448019429, 'gamma': 0.00063095734448019429, 'kernel': 'rbf'}\n",
      "Fold  6 accuracy: 0.8925  ,  0.8657  {'alpha': 0.00063095734448019429, 'gamma': 0.00063095734448019429, 'kernel': 'rbf'}\n",
      "Fold  7 accuracy: 0.8744  ,  0.8691  {'alpha': 0.00063095734448019429, 'gamma': 0.00063095734448019429, 'kernel': 'rbf'}\n",
      "Fold  8 accuracy: 0.8810  ,  0.8669  {'alpha': 0.00063095734448019429, 'gamma': 0.00063095734448019429, 'kernel': 'rbf'}\n",
      "Fold  9 accuracy: 0.9032  ,  0.8632  {'alpha': 0.00025118864315095823, 'gamma': 0.00039810717055349773, 'kernel': 'rbf'}\n",
      "Fold 10 accuracy: 0.8786  ,  0.8684  {'alpha': 0.00063095734448019429, 'gamma': 0.00063095734448019429, 'kernel': 'rbf'}\n",
      " \n",
      "Clf  0 Mean Accuracy: 0.8726 +/- 0.0325\n",
      "Clf  1 Mean Accuracy: 0.8721 +/- 0.0332\n",
      "Clf  2 Mean Accuracy: 0.8723 +/- 0.0327\n",
      "Clf  3 Mean Accuracy: 0.8723 +/- 0.0327\n",
      "Clf  4 Mean Accuracy: 0.8723 +/- 0.0327\n",
      "Clf  5 Mean Accuracy: 0.8723 +/- 0.0327\n",
      "Clf  6 Mean Accuracy: 0.8723 +/- 0.0327\n",
      "Clf  7 Mean Accuracy: 0.8723 +/- 0.0327\n",
      "Clf  8 Mean Accuracy: 0.8721 +/- 0.0332\n",
      "Clf  9 Mean Accuracy: 0.8723 +/- 0.0327\n",
      "Using CLF with accuracy:   0.872587\n",
      "CLF params:  {'kernel': 'rbf', 'degree': 3, 'kernel_params': None, 'alpha': 0.00039810717055349773, 'coef0': 1, 'gamma': 0.00063095734448019429}\n"
     ]
    }
   ],
   "source": [
    "gen_params = {'kernel':['rbf'],\n",
    "              'alpha':10**np.arange( -4, -3, 0.2),\n",
    "              'gamma':10**np.arange( -4, -3, 0.2)}\n",
    "kRBF_reg = rv.optimize_fit( KernelRidge(), feature_df.values, label_df.values, gen_params, nf=10 ) "
   ]
  },
  {
   "cell_type": "code",
   "execution_count": 13,
   "metadata": {
    "collapsed": true
   },
   "outputs": [
    {
     "name": "stdout",
     "output_type": "stream",
     "text": [
      "Fold  1 accuracy: 0.8229  ,  0.8790  {'n_estimators': 400, 'alpha': 0.9, 'min_samples_leaf': 3, 'max_depth': 3, 'loss': 'huber'}\n",
      "Fold  2 accuracy: 0.8033  ,  0.8734  {'n_estimators': 400, 'alpha': 0.85, 'min_samples_leaf': 3, 'max_depth': 2, 'loss': 'huber'}\n",
      "Fold  3 accuracy: 0.9158  ,  0.8678  {'n_estimators': 400, 'alpha': 0.8, 'min_samples_leaf': 3, 'max_depth': 4, 'loss': 'huber'}\n",
      "Fold  4 accuracy: 0.8806  ,  0.8713  {'n_estimators': 300, 'alpha': 0.85, 'min_samples_leaf': 3, 'max_depth': 4, 'loss': 'huber'}\n",
      "Fold  5 accuracy: 0.8393  ,  0.8702  {'n_estimators': 300, 'alpha': 0.9, 'min_samples_leaf': 3, 'max_depth': 2, 'loss': 'huber'}\n",
      "Fold  6 accuracy: 0.8881  ,  0.8726  {'n_estimators': 300, 'alpha': 0.8, 'min_samples_leaf': 3, 'max_depth': 3, 'loss': 'huber'}\n",
      "Fold  7 accuracy: 0.8756  ,  0.8731  {'n_estimators': 400, 'alpha': 0.8, 'min_samples_leaf': 3, 'max_depth': 3, 'loss': 'huber'}\n",
      "Fold  8 accuracy: 0.8943  ,  0.8653  {'n_estimators': 400, 'alpha': 0.85, 'min_samples_leaf': 3, 'max_depth': 4, 'loss': 'huber'}\n",
      "Fold  9 accuracy: 0.8980  ,  0.8630  {'n_estimators': 400, 'alpha': 0.85, 'min_samples_leaf': 3, 'max_depth': 3, 'loss': 'huber'}\n",
      "Fold 10 accuracy: 0.8731  ,  0.8711  {'n_estimators': 300, 'alpha': 0.9, 'min_samples_leaf': 3, 'max_depth': 2, 'loss': 'huber'}\n",
      " \n",
      "Clf  0 Mean Accuracy: 0.8749 +/- 0.0335\n",
      "Clf  1 Mean Accuracy: 0.8719 +/- 0.0351\n",
      "Clf  2 Mean Accuracy: 0.8748 +/- 0.0238\n",
      "Clf  3 Mean Accuracy: 0.8734 +/- 0.0270\n",
      "Clf  4 Mean Accuracy: 0.8723 +/- 0.0317\n",
      "Clf  5 Mean Accuracy: 0.8756 +/- 0.0325\n",
      "Clf  6 Mean Accuracy: 0.8757 +/- 0.0323\n",
      "Clf  7 Mean Accuracy: 0.8723 +/- 0.0295\n",
      "Clf  8 Mean Accuracy: 0.8728 +/- 0.0310\n",
      "Clf  9 Mean Accuracy: 0.8725 +/- 0.0323\n",
      "Using CLF with accuracy:   0.875666\n",
      "CLF params:  {'presort': 'auto', 'loss': 'huber', 'verbose': 0, 'subsample': 1.0, 'max_leaf_nodes': None, 'learning_rate': 0.1, 'warm_start': False, 'min_samples_leaf': 3, 'n_estimators': 400, 'min_samples_split': 2, 'init': None, 'min_weight_fraction_leaf': 0.0, 'criterion': 'friedman_mse', 'random_state': None, 'min_impurity_split': 1e-07, 'max_features': None, 'alpha': 0.8, 'max_depth': 3}\n"
     ]
    }
   ],
   "source": [
    "gen_params = {'loss':['huber'],\n",
    "              'n_estimators':[300,400],\n",
    "              'max_depth':[2,3,4],\n",
    "              'min_samples_leaf':[3],\n",
    "              'alpha':[0.8,0.85,0.9,0.95]}\n",
    "boost_reg = rv.optimize_fit( GradientBoostingRegressor(), feature_df.values, label_df.values, gen_params, nf = 10 )"
   ]
  },
  {
   "cell_type": "code",
   "execution_count": null,
   "metadata": {
    "collapsed": true
   },
   "outputs": [],
   "source": [
    "#svr_rbf_red\n",
    "#boost_reg"
   ]
  },
  {
   "cell_type": "code",
   "execution_count": 14,
   "metadata": {
    "collapsed": true
   },
   "outputs": [],
   "source": [
    "with open('svr_rbf_reg4.pkl','wb') as fid:\n",
    "    cPickle.dump( svr_rbf_reg, fid )\n",
    "with open('boost_reg4.pkl','wb') as fid:\n",
    "    cPickle.dump( boost_reg, fid )\n",
    "with open('krbf_reg4.pkl','wb') as fid:\n",
    "    cPickle.dump( kRBF_reg, fid )"
   ]
  },
  {
   "cell_type": "code",
   "execution_count": 6,
   "metadata": {
    "collapsed": false
   },
   "outputs": [],
   "source": [
    "with open('svr_rbf_reg2.pkl','r') as fid:\n",
    "    svr_rbf_reg = cPickle.load( fid )\n",
    "with open('boost_reg2.pkl','r') as fid:\n",
    "    boost_reg   = cPickle.load( fid )"
   ]
  },
  {
   "cell_type": "code",
   "execution_count": null,
   "metadata": {
    "collapsed": true
   },
   "outputs": [],
   "source": []
  },
  {
   "cell_type": "code",
   "execution_count": null,
   "metadata": {
    "collapsed": true
   },
   "outputs": [],
   "source": []
  },
  {
   "cell_type": "code",
   "execution_count": 15,
   "metadata": {
    "collapsed": false,
    "scrolled": true
   },
   "outputs": [],
   "source": [
    "lin_pred = 10**(   boost_reg.predict( test_df ) )\n",
    "rbf_pred = 10**( svr_rbf_reg.predict( test_df ) )\n",
    "krbf_pred= 10**(    kRBF_reg.predict( test_df ) )"
   ]
  },
  {
   "cell_type": "code",
   "execution_count": 16,
   "metadata": {
    "collapsed": false
   },
   "outputs": [],
   "source": [
    "id_df  = pd.read_csv( \"inp_data/test.csv\" )[['Id','Fence']]\n",
    "\n",
    "lin_df = id_df.copy()\n",
    "rbf_df = id_df.copy()\n",
    "kbf_df = id_df.copy()\n",
    "\n",
    "lin_df['SalePrice'] =  lin_pred\n",
    "rbf_df['SalePrice'] =  rbf_pred\n",
    "kbf_df['SalePrice'] = krbf_pred\n",
    "\n",
    "lin_df = lin_df.drop( ['Fence'], axis=1 )\n",
    "rbf_df = rbf_df.drop( ['Fence'], axis=1 )\n",
    "kbf_df = kbf_df.drop( ['Fence'], axis=1 )"
   ]
  },
  {
   "cell_type": "code",
   "execution_count": 17,
   "metadata": {
    "collapsed": true
   },
   "outputs": [],
   "source": [
    "lin_df.to_csv( 'boost_4.csv', index=False )\n",
    "rbf_df.to_csv( 'rbf_4.csv'  , index=False )\n",
    "kbf_df.to_csv( 'krbf_4.csv'  , index=False )"
   ]
  },
  {
   "cell_type": "code",
   "execution_count": null,
   "metadata": {
    "collapsed": true
   },
   "outputs": [],
   "source": []
  },
  {
   "cell_type": "code",
   "execution_count": 6,
   "metadata": {
    "collapsed": false
   },
   "outputs": [],
   "source": [
    "with open('svr_lin.pkl', 'rb') as fid:\n",
    "    svr_lin = cPickle.load(fid)\n",
    "with open('svr_rbf.pkl', 'rb') as fid:\n",
    "    svr_rbf = cPickle.load(fid)"
   ]
  },
  {
   "cell_type": "code",
   "execution_count": 26,
   "metadata": {
    "collapsed": false,
    "scrolled": false
   },
   "outputs": [],
   "source": [
    "lin_pred = (   boost_reg.predict( feature_df ) )\n",
    "rbf_pred = ( svr_rbf_reg.predict( feature_df ) )"
   ]
  },
  {
   "cell_type": "code",
   "execution_count": 27,
   "metadata": {
    "collapsed": true
   },
   "outputs": [],
   "source": [
    "lin_diff = label_df.values - lin_pred\n",
    "rbf_diff = label_df.values - rbf_pred"
   ]
  },
  {
   "cell_type": "code",
   "execution_count": 28,
   "metadata": {
    "collapsed": true
   },
   "outputs": [],
   "source": [
    "my_df['LinPred'] = lin_pred\n",
    "my_df['RBFPred'] = rbf_pred\n",
    "my_df['LinDiff'] = lin_diff\n",
    "my_df['RBFDiff'] = rbf_diff"
   ]
  },
  {
   "cell_type": "code",
   "execution_count": 29,
   "metadata": {
    "collapsed": false
   },
   "outputs": [
    {
     "name": "stderr",
     "output_type": "stream",
     "text": [
      "/home/sean/anaconda/lib/python2.7/site-packages/matplotlib/collections.py:590: FutureWarning: elementwise comparison failed; returning scalar instead, but in the future will perform elementwise comparison\n",
      "  if self._edgecolors == str('face'):\n"
     ]
    }
   ],
   "source": [
    "preds = ['LinPred','RBFPred']\n",
    "for pred in preds:\n",
    "    my_df.plot(kind='scatter',x='SalePrice',y='LinPred')\n",
    "    plt.show()"
   ]
  },
  {
   "cell_type": "code",
   "execution_count": 46,
   "metadata": {
    "collapsed": false
   },
   "outputs": [],
   "source": [
    "outliers = my_df[ abs(my_df['RBFDiff']) >0.09 ].copy()\n",
    "#outliers =    my_df[    my_df['Electrical'] == 0 ].copy()\n",
    "#outliers = outliers[ outliers['CentralAir'] == 0 ]\n",
    "#outliers = outliers[ outliers['SaleCondition'] != 0 ]\n",
    "#outliers = outliers[ outliers['MSZoning'  ] != 2./3 ]\n",
    "#outliers = outliers[ outliers['MSZoning'  ] != 2./3 ]\n",
    "#outliers = outliers[ outliers['MSZoning'  ] != 2./3 ]"
   ]
  },
  {
   "cell_type": "code",
   "execution_count": 51,
   "metadata": {
    "collapsed": false
   },
   "outputs": [],
   "source": [
    "cols = my_df.drop( ['InsideSF','OutsideSF','GarageArea','LotArea', 'LotFrontage',\n",
    "                    'SalePrice', 'RBFPred'], axis=1 ).columns.values\n",
    "#sns.lmplot( 'SalePrice', 'RBFPred', data=my_df, hue='LotFrontage', fit_reg = False)#, palette=\"rainbow\" )\n",
    "\n",
    "lowScat = ['CentralAir', 'Electrical','SaleCondition',\n",
    "           'InsideSF','OutsideSF', 'LotArea',\n",
    "           'RBFPred','RBFDiff','SalePrice']\n",
    "scat_df = outliers[lowScat].copy()\n",
    "\n",
    "\n",
    "for col in lowScat[:-3]:\n",
    "    g = sns.lmplot( 'SalePrice', 'RBFPred', data=scat_df, hue=col, fit_reg = False, palette=\"rainbow\" )\n",
    "    g.fig.suptitle( col )\n",
    "    plt.plot( [4,6], [4,6], color='b')\n",
    "    plt.xlim( 4.3,5.7 )\n",
    "    plt.ylim( 4.3,5.7 )\n",
    "    plt.show()\n",
    "#for col in cols:\n",
    "#    g = sns.lmplot( 'SalePrice', 'RBFPred', data=my_df, hue=col, fit_reg=False)\n",
    "#    g.fig.suptitle( col )\n",
    "#    plt.show()\n",
    "#    plt.clf()"
   ]
  },
  {
   "cell_type": "code",
   "execution_count": 38,
   "metadata": {
    "collapsed": true
   },
   "outputs": [],
   "source": [
    "for col in lowScat[:-2]:\n",
    "    scat_df[col].plot( kind='hist', title=col, bins=50 )\n",
    "    plt.show()"
   ]
  },
  {
   "cell_type": "code",
   "execution_count": null,
   "metadata": {
    "collapsed": true
   },
   "outputs": [],
   "source": [
    "#0.051, 0.091,, 0.15, 0.2\n",
    "#Zoning 3 or 4? whichever makes 0.6..., 0.6, 0.6\n",
    "#CentralAir 1? 1, 0, lots of 0\n",
    "#Exterior1st 0? 0, 0, 0\n",
    "#Electrical 0? 0, 0, 0\n",
    "#SaleCOnd 0? 0/1/5, 1, 1/5"
   ]
  }
 ],
 "metadata": {
  "kernelspec": {
   "display_name": "Python 2",
   "language": "python",
   "name": "python2"
  },
  "language_info": {
   "codemirror_mode": {
    "name": "ipython",
    "version": 2
   },
   "file_extension": ".py",
   "mimetype": "text/x-python",
   "name": "python",
   "nbconvert_exporter": "python",
   "pygments_lexer": "ipython2",
   "version": "2.7.13"
  }
 },
 "nbformat": 4,
 "nbformat_minor": 2
}
